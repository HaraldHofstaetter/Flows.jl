{
 "cells": [
  {
   "cell_type": "code",
   "execution_count": 1,
   "metadata": {
    "collapsed": false
   },
   "outputs": [],
   "source": [
    "using Flows"
   ]
  },
  {
   "cell_type": "code",
   "execution_count": 2,
   "metadata": {
    "collapsed": false
   },
   "outputs": [
    {
     "data": {
      "text/plain": [
       "(F,G,H)"
      ]
     },
     "execution_count": 2,
     "metadata": {},
     "output_type": "execute_result"
    }
   ],
   "source": [
    "@funs F,G,H"
   ]
  },
  {
   "cell_type": "code",
   "execution_count": 3,
   "metadata": {
    "collapsed": false
   },
   "outputs": [
    {
     "data": {
      "text/plain": [
       "(u,v,w)"
      ]
     },
     "execution_count": 3,
     "metadata": {},
     "output_type": "execute_result"
    }
   ],
   "source": [
    "@x_vars u,v,w"
   ]
  },
  {
   "cell_type": "code",
   "execution_count": 4,
   "metadata": {
    "collapsed": false
   },
   "outputs": [
    {
     "data": {
      "text/plain": [
       "(t,s,r)"
      ]
     },
     "execution_count": 4,
     "metadata": {},
     "output_type": "execute_result"
    }
   ],
   "source": [
    "@t_vars t,s,r"
   ]
  },
  {
   "cell_type": "code",
   "execution_count": 5,
   "metadata": {
    "collapsed": false
   },
   "outputs": [
    {
     "data": {
      "text/latex": [
       "$\\underbrace{\\mathrm{e}^{tD_{F}}}_\\mathrm{L}\\underbrace{\\mathrm{e}^{sD_{G}}}_\\mathrm{R}\\mathrm{e}^{rD_{H}}$"
      ],
      "text/plain": [
       "exp(t,D(F),L)*exp(s,D(G),R)*exp(r,D(H))"
      ]
     },
     "execution_count": 5,
     "metadata": {},
     "output_type": "execute_result"
    }
   ],
   "source": [
    "ex = exp(t,D(F),L)*exp(s,G,R)*exp(r,H)"
   ]
  },
  {
   "cell_type": "code",
   "execution_count": 6,
   "metadata": {
    "collapsed": false
   },
   "outputs": [
    {
     "data": {
      "text/plain": [
       "false"
      ]
     },
     "execution_count": 6,
     "metadata": {},
     "output_type": "execute_result"
    }
   ],
   "source": [
    "show_exponential_labels(false)"
   ]
  },
  {
   "cell_type": "code",
   "execution_count": 7,
   "metadata": {
    "collapsed": false,
    "scrolled": true
   },
   "outputs": [
    {
     "data": {
      "text/latex": [
       "$\\mathrm{e}^{tD_{F}}\\mathrm{e}^{sD_{G}}\\mathrm{e}^{rD_{H}}$"
      ],
      "text/plain": [
       "exp(t,D(F),L)*exp(s,D(G),R)*exp(r,D(H))"
      ]
     },
     "execution_count": 7,
     "metadata": {},
     "output_type": "execute_result"
    }
   ],
   "source": [
    "ex"
   ]
  },
  {
   "cell_type": "code",
   "execution_count": 8,
   "metadata": {
    "collapsed": false
   },
   "outputs": [
    {
     "data": {
      "text/plain": [
       "\"exp(t,D(F),L)*exp(s,D(G),R)*exp(r,D(H))\""
      ]
     },
     "execution_count": 8,
     "metadata": {},
     "output_type": "execute_result"
    }
   ],
   "source": [
    "string(ex)"
   ]
  },
  {
   "cell_type": "code",
   "execution_count": 9,
   "metadata": {
    "collapsed": false
   },
   "outputs": [
    {
     "data": {
      "text/plain": [
       "true"
      ]
     },
     "execution_count": 9,
     "metadata": {},
     "output_type": "execute_result"
    }
   ],
   "source": [
    "show_exponential_labels()"
   ]
  },
  {
   "cell_type": "code",
   "execution_count": 10,
   "metadata": {
    "collapsed": false
   },
   "outputs": [
    {
     "data": {
      "text/latex": [
       "$\\underbrace{\\mathrm{e}^{tD_{F}}}_\\mathrm{L}\\underbrace{\\mathrm{e}^{sD_{G}}}_\\mathrm{R}\\mathrm{e}^{rD_{H}}$"
      ],
      "text/plain": [
       "exp(t,D(F),L)*exp(s,D(G),R)*exp(r,D(H))"
      ]
     },
     "execution_count": 10,
     "metadata": {},
     "output_type": "execute_result"
    }
   ],
   "source": [
    "ex"
   ]
  },
  {
   "cell_type": "code",
   "execution_count": 11,
   "metadata": {
    "collapsed": false
   },
   "outputs": [
    {
     "data": {
      "text/latex": [
       "$\\underbrace{\\mathrm{e}^{tD_{F}}}_\\mathrm{L}$"
      ],
      "text/plain": [
       "exp(t,D(F),L)"
      ]
     },
     "execution_count": 11,
     "metadata": {},
     "output_type": "execute_result"
    }
   ],
   "source": [
    "ex1=exp(t,D(F),L)"
   ]
  },
  {
   "cell_type": "code",
   "execution_count": 12,
   "metadata": {
    "collapsed": false
   },
   "outputs": [
    {
     "data": {
      "text/latex": [
       "$\\underbrace{\\mathrm{e}^{tD_{F}}}_\\mathrm{R}$"
      ],
      "text/plain": [
       "exp(t,D(F),R)"
      ]
     },
     "execution_count": 12,
     "metadata": {},
     "output_type": "execute_result"
    }
   ],
   "source": [
    "ex2=exp(t,D(F),R)"
   ]
  },
  {
   "cell_type": "code",
   "execution_count": 13,
   "metadata": {
    "collapsed": false
   },
   "outputs": [
    {
     "data": {
      "text/plain": [
       "false"
      ]
     },
     "execution_count": 13,
     "metadata": {},
     "output_type": "execute_result"
    }
   ],
   "source": [
    "ex1==ex2"
   ]
  },
  {
   "cell_type": "code",
   "execution_count": 14,
   "metadata": {
    "collapsed": false
   },
   "outputs": [
    {
     "data": {
      "text/latex": [
       "$\\underbrace{\\mathrm{e}^{tD_{F}}}_\\mathrm{L}+\\underbrace{\\mathrm{e}^{tD_{F}}}_\\mathrm{R}$"
      ],
      "text/plain": [
       "exp(t,D(F),L)+exp(t,D(F),R)"
      ]
     },
     "execution_count": 14,
     "metadata": {},
     "output_type": "execute_result"
    }
   ],
   "source": [
    "ex = ex1+ex2"
   ]
  },
  {
   "cell_type": "code",
   "execution_count": 15,
   "metadata": {
    "collapsed": false
   },
   "outputs": [
    {
     "data": {
      "text/latex": [
       "$\\underbrace{\\mathrm{e}^{tD_{F}}}_\\mathrm{R}D_{F}+D_{F}\\underbrace{\\mathrm{e}^{tD_{F}}}_\\mathrm{L}$"
      ],
      "text/plain": [
       "exp(t,D(F),R)*D(F)+D(F)*exp(t,D(F),L)"
      ]
     },
     "execution_count": 15,
     "metadata": {},
     "output_type": "execute_result"
    }
   ],
   "source": [
    "t_derivative(ex, t, to_the_left=[L])"
   ]
  },
  {
   "cell_type": "code",
   "execution_count": 16,
   "metadata": {
    "collapsed": false
   },
   "outputs": [
    {
     "data": {
      "text/latex": [
       "$\\mathrm{e}^{tD_{F}}(\\mathrm{e}^{tD_{G}}+\\mathrm{e}^{tD_{H}})$"
      ],
      "text/plain": [
       "exp(t,D(F))*(exp(t,D(G))+exp(t,D(H)))"
      ]
     },
     "execution_count": 16,
     "metadata": {},
     "output_type": "execute_result"
    }
   ],
   "source": [
    "ex = exp(t,F)*(exp(t,G)+exp(t,H))"
   ]
  },
  {
   "cell_type": "code",
   "execution_count": 17,
   "metadata": {
    "collapsed": false
   },
   "outputs": [
    {
     "data": {
      "text/latex": [
       "$D_{F}\\mathrm{e}^{tD_{F}}\\mathrm{e}^{tD_{H}}+D_{F}\\mathrm{e}^{tD_{F}}\\mathrm{e}^{tD_{G}}+\\mathrm{e}^{tD_{F}}D_{G}\\mathrm{e}^{tD_{G}}+\\mathrm{e}^{tD_{F}}D_{H}\\mathrm{e}^{tD_{H}}$"
      ],
      "text/plain": [
       "D(F)*exp(t,D(F))*exp(t,D(H))+D(F)*exp(t,D(F))*exp(t,D(G))+exp(t,D(F))*D(G)*exp(t,D(G))+exp(t,D(F))*D(H)*exp(t,D(H))"
      ]
     },
     "execution_count": 17,
     "metadata": {},
     "output_type": "execute_result"
    }
   ],
   "source": [
    "expand(t_derivative(ex, t, to_the_left=[default]))"
   ]
  },
  {
   "cell_type": "code",
   "execution_count": 18,
   "metadata": {
    "collapsed": false
   },
   "outputs": [
    {
     "data": {
      "text/latex": [
       "$\\mathrm{e}^{tD_{F}}D_{F}\\mathrm{e}^{tD_{H}}+\\mathrm{e}^{tD_{F}}\\mathrm{e}^{tD_{G}}D_{G}+\\mathrm{e}^{tD_{F}}D_{F}\\mathrm{e}^{tD_{G}}+\\mathrm{e}^{tD_{F}}\\mathrm{e}^{tD_{H}}D_{H}$"
      ],
      "text/plain": [
       "exp(t,D(F))*D(F)*exp(t,D(H))+exp(t,D(F))*exp(t,D(G))*D(G)+exp(t,D(F))*D(F)*exp(t,D(G))+exp(t,D(F))*exp(t,D(H))*D(H)"
      ]
     },
     "execution_count": 18,
     "metadata": {},
     "output_type": "execute_result"
    }
   ],
   "source": [
    "expand(t_derivative(ex, t))"
   ]
  },
  {
   "cell_type": "code",
   "execution_count": 19,
   "metadata": {
    "collapsed": false
   },
   "outputs": [
    {
     "data": {
      "text/latex": [
       "$(\\mathrm{e}^{tD_{G}}+\\mathrm{e}^{tD_{H}})\\mathrm{e}^{tD_{F}}$"
      ],
      "text/plain": [
       "(exp(t,D(G))+exp(t,D(H)))*exp(t,D(F))"
      ]
     },
     "execution_count": 19,
     "metadata": {},
     "output_type": "execute_result"
    }
   ],
   "source": [
    "ex = (exp(t,G)+exp(t,H))*exp(t,F)"
   ]
  },
  {
   "cell_type": "code",
   "execution_count": 20,
   "metadata": {
    "collapsed": false
   },
   "outputs": [
    {
     "data": {
      "text/latex": [
       "$(\\mathrm{e}^{tD_{H}}D_{H}+\\mathrm{e}^{tD_{G}}D_{G})\\mathrm{e}^{tD_{F}}+(\\mathrm{e}^{tD_{G}}+\\mathrm{e}^{tD_{H}})\\mathrm{e}^{tD_{F}}D_{F}$"
      ],
      "text/plain": [
       "(exp(t,D(H))*D(H)+exp(t,D(G))*D(G))*exp(t,D(F))+(exp(t,D(G))+exp(t,D(H)))*exp(t,D(F))*D(F)"
      ]
     },
     "execution_count": 20,
     "metadata": {},
     "output_type": "execute_result"
    }
   ],
   "source": [
    "t_derivative(ex, t)"
   ]
  },
  {
   "cell_type": "code",
   "execution_count": 21,
   "metadata": {
    "collapsed": false
   },
   "outputs": [
    {
     "data": {
      "text/latex": [
       "$D_{F}\\mathrm{e}^{tD_{G}}D_{F}\\mathrm{e}^{tD_{G}}D_{F}\\mathrm{e}^{tD_{G}}D_{F}$"
      ],
      "text/plain": [
       "D(F)*exp(t,D(G))*D(F)*exp(t,D(G))*D(F)*exp(t,D(G))*D(F)"
      ]
     },
     "execution_count": 21,
     "metadata": {},
     "output_type": "execute_result"
    }
   ],
   "source": [
    "ex = D(F)*exp(t,G)*D(F)*exp(t,G)*D(F)*exp(t,G)*D(F)"
   ]
  },
  {
   "cell_type": "code",
   "execution_count": 22,
   "metadata": {
    "collapsed": false
   },
   "outputs": [
    {
     "data": {
      "text/latex": [
       "$D_{F}\\mathrm{e}^{tD_{G}}(D_{G}D_{F}\\mathrm{e}^{tD_{G}}D_{F}\\mathrm{e}^{tD_{G}}+D_{F}\\mathrm{e}^{tD_{G}}(D_{F}\\mathrm{e}^{tD_{G}}D_{G}+D_{G}D_{F}\\mathrm{e}^{tD_{G}}))D_{F}$"
      ],
      "text/plain": [
       "D(F)*exp(t,D(G))*(D(G)*D(F)*exp(t,D(G))*D(F)*exp(t,D(G))+D(F)*exp(t,D(G))*(D(F)*exp(t,D(G))*D(G)+D(G)*D(F)*exp(t,D(G))))*D(F)"
      ]
     },
     "execution_count": 22,
     "metadata": {},
     "output_type": "execute_result"
    }
   ],
   "source": [
    "ex1 = t_derivative(ex, t)"
   ]
  },
  {
   "cell_type": "code",
   "execution_count": 23,
   "metadata": {
    "collapsed": false
   },
   "outputs": [
    {
     "data": {
      "text/latex": [
       "$D_{F}D_{F}D_{G}$"
      ],
      "text/plain": [
       "D(F)*D(F)*D(G)"
      ]
     },
     "execution_count": 23,
     "metadata": {},
     "output_type": "execute_result"
    }
   ],
   "source": [
    "ex1 = D(F)*D(F)*D(G)"
   ]
  },
  {
   "cell_type": "code",
   "execution_count": 24,
   "metadata": {
    "collapsed": false
   },
   "outputs": [
    {
     "data": {
      "text/latex": [
       "$D_{F}D_{G}D_{G}$"
      ],
      "text/plain": [
       "D(F)*D(G)*D(G)"
      ]
     },
     "execution_count": 24,
     "metadata": {},
     "output_type": "execute_result"
    }
   ],
   "source": [
    "ex2 = D(F)*D(G)*D(G)"
   ]
  },
  {
   "cell_type": "code",
   "execution_count": 25,
   "metadata": {
    "collapsed": false
   },
   "outputs": [
    {
     "data": {
      "text/latex": [
       "$D_{F}(D_{F}+D_{G})D_{G}$"
      ],
      "text/plain": [
       "D(F)*(D(F)+D(G))*D(G)"
      ]
     },
     "execution_count": 25,
     "metadata": {},
     "output_type": "execute_result"
    }
   ],
   "source": [
    "add_factorized(ex1, ex2)"
   ]
  },
  {
   "cell_type": "code",
   "execution_count": 26,
   "metadata": {
    "collapsed": false
   },
   "outputs": [
    {
     "data": {
      "text/latex": [
       "$D_{F}(\\mathrm{Id}+D_{G}D_{G})$"
      ],
      "text/plain": [
       "D(F)*(lie_id+D(G)*D(G))"
      ]
     },
     "execution_count": 26,
     "metadata": {},
     "output_type": "execute_result"
    }
   ],
   "source": [
    "add_factorized(D(F), ex2)"
   ]
  },
  {
   "cell_type": "code",
   "execution_count": 27,
   "metadata": {
    "collapsed": false
   },
   "outputs": [
    {
     "data": {
      "text/latex": [
       "$(\\mathrm{Id}+D_{F}D_{G})D_{G}$"
      ],
      "text/plain": [
       "(lie_id+D(F)*D(G))*D(G)"
      ]
     },
     "execution_count": 27,
     "metadata": {},
     "output_type": "execute_result"
    }
   ],
   "source": [
    "add_factorized(D(G), ex2)"
   ]
  },
  {
   "cell_type": "code",
   "execution_count": 28,
   "metadata": {
    "collapsed": false
   },
   "outputs": [
    {
     "name": "stderr",
     "output_type": "stream",
     "text": [
      "WARNING: imported binding for R overwritten in module Main\n"
     ]
    },
    {
     "data": {
      "text/plain": [
       "(R,)"
      ]
     },
     "execution_count": 28,
     "metadata": {},
     "output_type": "execute_result"
    }
   ],
   "source": [
    "@funs R"
   ]
  },
  {
   "cell_type": "code",
   "execution_count": 29,
   "metadata": {
    "collapsed": false
   },
   "outputs": [
    {
     "data": {
      "text/plain": [
       "(τ,)"
      ]
     },
     "execution_count": 29,
     "metadata": {},
     "output_type": "execute_result"
    }
   ],
   "source": [
    "@t_vars τ"
   ]
  },
  {
   "cell_type": "code",
   "execution_count": 30,
   "metadata": {
    "collapsed": false
   },
   "outputs": [
    {
     "data": {
      "text/latex": [
       "$\\mathrm{e}^{τD_{R+F}}\\underbrace{\\mathrm{e}^{(-τ+t)D_{F}}}_\\mathrm{L}$"
      ],
      "text/plain": [
       "exp(τ,D(R+F))*exp(-τ+t,D(F),L)"
      ]
     },
     "execution_count": 30,
     "metadata": {},
     "output_type": "execute_result"
    }
   ],
   "source": [
    "ex = exp(τ,D(F+R))exp(t-τ,D(F),L)"
   ]
  },
  {
   "cell_type": "code",
   "execution_count": 31,
   "metadata": {
    "collapsed": false
   },
   "outputs": [
    {
     "data": {
      "text/plain": [
       "false"
      ]
     },
     "execution_count": 31,
     "metadata": {},
     "output_type": "execute_result"
    }
   ],
   "source": [
    "show_exponential_labels(false)"
   ]
  },
  {
   "cell_type": "code",
   "execution_count": 32,
   "metadata": {
    "collapsed": false
   },
   "outputs": [
    {
     "data": {
      "text/latex": [
       "$\\mathrm{e}^{τD_{R+F}}(-D_{F}+D_{R+F})\\mathrm{e}^{(-τ+t)D_{F}}$"
      ],
      "text/plain": [
       "exp(τ,D(R+F))*(-D(F)+D(R+F))*exp(-τ+t,D(F),L)"
      ]
     },
     "execution_count": 32,
     "metadata": {},
     "output_type": "execute_result"
    }
   ],
   "source": [
    "ex = t_derivative(ex,τ)"
   ]
  },
  {
   "cell_type": "code",
   "execution_count": 33,
   "metadata": {
    "collapsed": false
   },
   "outputs": [
    {
     "data": {
      "text/latex": [
       "$\\mathrm{e}^{τD_{R+F}}D_{R}\\mathrm{e}^{(-τ+t)D_{F}}$"
      ],
      "text/plain": [
       "exp(τ,D(R+F))*D(R)*exp(-τ+t,D(F),L)"
      ]
     },
     "execution_count": 33,
     "metadata": {},
     "output_type": "execute_result"
    }
   ],
   "source": [
    "distribute_lie_derivatives(ex)"
   ]
  },
  {
   "cell_type": "code",
   "execution_count": 34,
   "metadata": {
    "collapsed": false
   },
   "outputs": [
    {
     "data": {
      "text/latex": [
       "$\\mathrm{e}^{2tD_{F}}\\mathrm{e}^{3tD_{G}}$"
      ],
      "text/plain": [
       "exp(2t,D(F))*exp(3t,D(G),L)"
      ]
     },
     "execution_count": 34,
     "metadata": {},
     "output_type": "execute_result"
    }
   ],
   "source": [
    "ex=exp(2t,D(F))exp(3t,D(G),L)"
   ]
  },
  {
   "cell_type": "code",
   "execution_count": 35,
   "metadata": {
    "collapsed": false
   },
   "outputs": [
    {
     "data": {
      "text/latex": [
       "$\\mathrm{e}^{2tD_{F}}(2D_{F}+3D_{G})\\mathrm{e}^{3tD_{G}}$"
      ],
      "text/plain": [
       "exp(2t,D(F))*(2D(F)+3D(G))*exp(3t,D(G),L)"
      ]
     },
     "execution_count": 35,
     "metadata": {},
     "output_type": "execute_result"
    }
   ],
   "source": [
    "t_derivative(ex,t)"
   ]
  },
  {
   "cell_type": "code",
   "execution_count": 36,
   "metadata": {
    "collapsed": false
   },
   "outputs": [
    {
     "data": {
      "text/latex": [
       "$D_{F}(2\\mathrm{Id}-D_{G})$"
      ],
      "text/plain": [
       "D(F)*(2lie_id-D(G))"
      ]
     },
     "execution_count": 36,
     "metadata": {},
     "output_type": "execute_result"
    }
   ],
   "source": [
    "add_factorized(2D(F), -D(F)D(G))"
   ]
  },
  {
   "cell_type": "code",
   "execution_count": 37,
   "metadata": {
    "collapsed": false
   },
   "outputs": [
    {
     "data": {
      "text/latex": [
       "$30D_{F}D_{G}D_{H}$"
      ],
      "text/plain": [
       "30D(F)*D(G)*D(H)"
      ]
     },
     "execution_count": 37,
     "metadata": {},
     "output_type": "execute_result"
    }
   ],
   "source": [
    "ex=2*D(F)*3*D(G)*5*D(H)"
   ]
  },
  {
   "cell_type": "code",
   "execution_count": null,
   "metadata": {
    "collapsed": true
   },
   "outputs": [],
   "source": []
  }
 ],
 "metadata": {
  "kernelspec": {
   "display_name": "Julia 0.4",
   "language": "julia",
   "name": "julia-0.4"
  },
  "language_info": {
   "file_extension": ".jl",
   "mimetype": "application/julia",
   "name": "julia",
   "version": "0.4.5"
  }
 },
 "nbformat": 4,
 "nbformat_minor": 0
}
