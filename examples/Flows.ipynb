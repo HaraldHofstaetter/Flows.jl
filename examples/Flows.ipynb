{
 "cells": [
  {
   "cell_type": "markdown",
   "metadata": {},
   "source": [
    "# Flows.jl"
   ]
  },
  {
   "cell_type": "code",
   "execution_count": 1,
   "metadata": {
    "collapsed": false,
    "scrolled": true
   },
   "outputs": [
    {
     "name": "stderr",
     "output_type": "stream",
     "text": [
      "INFO: Recompiling stale cache file /home/hofi/.julia/lib/v0.4/Flows.ji for module Flows.\n"
     ]
    }
   ],
   "source": [
    "using Flows"
   ]
  },
  {
   "cell_type": "markdown",
   "metadata": {},
   "source": [
    "## TimeExpression"
   ]
  },
  {
   "cell_type": "markdown",
   "metadata": {},
   "source": [
    "### TimeVariable"
   ]
  },
  {
   "cell_type": "code",
   "execution_count": 2,
   "metadata": {
    "collapsed": false
   },
   "outputs": [
    {
     "data": {
      "text/latex": [
       "$t$"
      ],
      "text/plain": [
       "t"
      ]
     },
     "execution_count": 2,
     "metadata": {},
     "output_type": "execute_result"
    }
   ],
   "source": [
    "t = TimeVariable(\"t\")"
   ]
  },
  {
   "cell_type": "code",
   "execution_count": 3,
   "metadata": {
    "collapsed": false
   },
   "outputs": [
    {
     "data": {
      "text/plain": [
       "Flows.TimeVariable"
      ]
     },
     "execution_count": 3,
     "metadata": {},
     "output_type": "execute_result"
    }
   ],
   "source": [
    "typeof(t)"
   ]
  },
  {
   "cell_type": "code",
   "execution_count": 4,
   "metadata": {
    "collapsed": false
   },
   "outputs": [
    {
     "data": {
      "text/plain": [
       "(s,r,τ)"
      ]
     },
     "execution_count": 4,
     "metadata": {},
     "output_type": "execute_result"
    }
   ],
   "source": [
    "@t_vars s r τ"
   ]
  },
  {
   "cell_type": "code",
   "execution_count": 5,
   "metadata": {
    "collapsed": false
   },
   "outputs": [
    {
     "data": {
      "text/plain": [
       "Flows.TimeVariable"
      ]
     },
     "execution_count": 5,
     "metadata": {},
     "output_type": "execute_result"
    }
   ],
   "source": [
    "typeof(s)"
   ]
  },
  {
   "cell_type": "markdown",
   "metadata": {},
   "source": [
    "### TimeLinearCombination"
   ]
  },
  {
   "cell_type": "code",
   "execution_count": 6,
   "metadata": {
    "collapsed": false
   },
   "outputs": [
    {
     "data": {
      "text/latex": [
       "$3r+t-2s$"
      ],
      "text/plain": [
       "3r+t-2s"
      ]
     },
     "execution_count": 6,
     "metadata": {},
     "output_type": "execute_result"
    }
   ],
   "source": [
    "ex = TimeLinearCombination(t,1,s,-2,r,3)"
   ]
  },
  {
   "cell_type": "markdown",
   "metadata": {},
   "source": [
    "The internal representation of a `TimeLinearCombination` is a list of (`TimeExpression`, coefficient)-pairs:"
   ]
  },
  {
   "cell_type": "code",
   "execution_count": 7,
   "metadata": {
    "collapsed": false
   },
   "outputs": [
    {
     "data": {
      "text/plain": [
       "3-element Array{Tuple{Flows.TimeExpression,Real},1}:\n",
       " (r,3) \n",
       " (t,1) \n",
       " (s,-2)"
      ]
     },
     "execution_count": 7,
     "metadata": {},
     "output_type": "execute_result"
    }
   ],
   "source": [
    "ex.terms"
   ]
  },
  {
   "cell_type": "markdown",
   "metadata": {},
   "source": [
    "The operators +, -, * are overloaded. Therefore, the `TimeLinearCombination` `ex` from above can also be defined in the following way:"
   ]
  },
  {
   "cell_type": "code",
   "execution_count": 8,
   "metadata": {
    "collapsed": false
   },
   "outputs": [
    {
     "data": {
      "text/latex": [
       "$3r+t-2s$"
      ],
      "text/plain": [
       "3r+t-2s"
      ]
     },
     "execution_count": 8,
     "metadata": {},
     "output_type": "execute_result"
    }
   ],
   "source": [
    "ex1 = t - 2s + 3r"
   ]
  },
  {
   "cell_type": "code",
   "execution_count": 9,
   "metadata": {
    "collapsed": false
   },
   "outputs": [
    {
     "data": {
      "text/plain": [
       "true"
      ]
     },
     "execution_count": 9,
     "metadata": {},
     "output_type": "execute_result"
    }
   ],
   "source": [
    "ex == ex1"
   ]
  },
  {
   "cell_type": "code",
   "execution_count": 24,
   "metadata": {
    "collapsed": false
   },
   "outputs": [
    {
     "data": {
      "text/latex": [
       "$3r-t+6s$"
      ],
      "text/plain": [
       "3r-t+6s"
      ]
     },
     "execution_count": 24,
     "metadata": {},
     "output_type": "execute_result"
    }
   ],
   "source": [
    "t-2ex+11r-2(r-s)"
   ]
  },
  {
   "cell_type": "code",
   "execution_count": 25,
   "metadata": {
    "collapsed": false
   },
   "outputs": [
    {
     "data": {
      "text/latex": [
       "$0$"
      ],
      "text/plain": [
       "0"
      ]
     },
     "execution_count": 25,
     "metadata": {},
     "output_type": "execute_result"
    }
   ],
   "source": [
    "ex-ex"
   ]
  },
  {
   "cell_type": "markdown",
   "metadata": {},
   "source": [
    "### t_zero\n",
    "There is a predefined zero element `t_zero` which is implemented as an empty `TimeLinearCombination`:"
   ]
  },
  {
   "cell_type": "code",
   "execution_count": 26,
   "metadata": {
    "collapsed": false
   },
   "outputs": [
    {
     "data": {
      "text/plain": [
       "true"
      ]
     },
     "execution_count": 26,
     "metadata": {},
     "output_type": "execute_result"
    }
   ],
   "source": [
    "ex-ex == t_zero"
   ]
  },
  {
   "cell_type": "code",
   "execution_count": 27,
   "metadata": {
    "collapsed": false
   },
   "outputs": [
    {
     "data": {
      "text/plain": [
       "Flows.TimeLinearCombination"
      ]
     },
     "execution_count": 27,
     "metadata": {},
     "output_type": "execute_result"
    }
   ],
   "source": [
    "typeof(t_zero)"
   ]
  },
  {
   "cell_type": "code",
   "execution_count": 28,
   "metadata": {
    "collapsed": false
   },
   "outputs": [
    {
     "data": {
      "text/plain": [
       "0-element Array{Tuple{Flows.TimeExpression,Real},1}"
      ]
     },
     "execution_count": 28,
     "metadata": {},
     "output_type": "execute_result"
    }
   ],
   "source": [
    "t_zero.terms"
   ]
  },
  {
   "cell_type": "markdown",
   "metadata": {},
   "source": [
    "### coefficient"
   ]
  },
  {
   "cell_type": "code",
   "execution_count": 29,
   "metadata": {
    "collapsed": false
   },
   "outputs": [
    {
     "data": {
      "text/latex": [
       "$3r+t-2s$"
      ],
      "text/plain": [
       "3r+t-2s"
      ]
     },
     "execution_count": 29,
     "metadata": {},
     "output_type": "execute_result"
    }
   ],
   "source": [
    "ex"
   ]
  },
  {
   "cell_type": "code",
   "execution_count": 30,
   "metadata": {
    "collapsed": false
   },
   "outputs": [
    {
     "data": {
      "text/plain": [
       "-2"
      ]
     },
     "execution_count": 30,
     "metadata": {},
     "output_type": "execute_result"
    }
   ],
   "source": [
    "coefficient(ex,s)"
   ]
  },
  {
   "cell_type": "markdown",
   "metadata": {},
   "source": [
    "### substitute"
   ]
  },
  {
   "cell_type": "code",
   "execution_count": 31,
   "metadata": {
    "collapsed": false
   },
   "outputs": [
    {
     "data": {
      "text/latex": [
       "$-3r-t+4s$"
      ],
      "text/plain": [
       "-3r-t+4s"
      ]
     },
     "execution_count": 31,
     "metadata": {},
     "output_type": "execute_result"
    }
   ],
   "source": [
    "substitute(ex,s,ex)"
   ]
  },
  {
   "cell_type": "code",
   "execution_count": 32,
   "metadata": {
    "collapsed": false
   },
   "outputs": [
    {
     "data": {
      "text/latex": [
       "$t$"
      ],
      "text/plain": [
       "t"
      ]
     },
     "execution_count": 32,
     "metadata": {},
     "output_type": "execute_result"
    }
   ],
   "source": [
    "substitute(t,s,r)"
   ]
  },
  {
   "cell_type": "markdown",
   "metadata": {},
   "source": [
    "## SpaceExpression\n",
    "'space' not necessarily physical space, but abstract (Banach) space on which Functions and Flows are defined."
   ]
  },
  {
   "cell_type": "markdown",
   "metadata": {},
   "source": [
    "### SpaceVariable"
   ]
  },
  {
   "cell_type": "code",
   "execution_count": 40,
   "metadata": {
    "collapsed": false
   },
   "outputs": [
    {
     "data": {
      "text/latex": [
       "$u$"
      ],
      "text/plain": [
       "u"
      ]
     },
     "execution_count": 40,
     "metadata": {},
     "output_type": "execute_result"
    }
   ],
   "source": [
    "u = SpaceVariable(\"u\")"
   ]
  },
  {
   "cell_type": "code",
   "execution_count": 41,
   "metadata": {
    "collapsed": false
   },
   "outputs": [
    {
     "data": {
      "text/plain": [
       "(v,w)"
      ]
     },
     "execution_count": 41,
     "metadata": {},
     "output_type": "execute_result"
    }
   ],
   "source": [
    "@x_vars v,w"
   ]
  },
  {
   "cell_type": "markdown",
   "metadata": {},
   "source": [
    "### AutonomousFunction"
   ]
  },
  {
   "cell_type": "code",
   "execution_count": 76,
   "metadata": {
    "collapsed": false
   },
   "outputs": [
    {
     "data": {
      "text/plain": [
       "F"
      ]
     },
     "execution_count": 76,
     "metadata": {},
     "output_type": "execute_result"
    }
   ],
   "source": [
    "F = AutonomousFunction(\"F\")"
   ]
  },
  {
   "cell_type": "code",
   "execution_count": 77,
   "metadata": {
    "collapsed": false
   },
   "outputs": [
    {
     "data": {
      "text/plain": [
       "(G,H)"
      ]
     },
     "execution_count": 77,
     "metadata": {},
     "output_type": "execute_result"
    }
   ],
   "source": [
    "@funs G,H"
   ]
  },
  {
   "cell_type": "markdown",
   "metadata": {},
   "source": [
    "### AutonomousFunctionExpression"
   ]
  },
  {
   "cell_type": "code",
   "execution_count": 105,
   "metadata": {
    "collapsed": false
   },
   "outputs": [
    {
     "data": {
      "text/latex": [
       "$F(u)$"
      ],
      "text/plain": [
       "F[u]"
      ]
     },
     "execution_count": 105,
     "metadata": {},
     "output_type": "execute_result"
    }
   ],
   "source": [
    "ex = AutonomousFunctionExpression(F,u)"
   ]
  },
  {
   "cell_type": "code",
   "execution_count": 106,
   "metadata": {
    "collapsed": false
   },
   "outputs": [
    {
     "data": {
      "text/latex": [
       "$F(u)$"
      ],
      "text/plain": [
       "F[u]"
      ]
     },
     "execution_count": 106,
     "metadata": {},
     "output_type": "execute_result"
    }
   ],
   "source": [
    "ex1 = F(u)"
   ]
  },
  {
   "cell_type": "code",
   "execution_count": 107,
   "metadata": {
    "collapsed": false
   },
   "outputs": [
    {
     "data": {
      "text/plain": [
       "true"
      ]
     },
     "execution_count": 107,
     "metadata": {},
     "output_type": "execute_result"
    }
   ],
   "source": [
    "ex == ex1"
   ]
  },
  {
   "cell_type": "markdown",
   "metadata": {},
   "source": [
    "`AutonomousFunctionExpression` involving differentials:"
   ]
  },
  {
   "cell_type": "code",
   "execution_count": 108,
   "metadata": {
    "collapsed": false
   },
   "outputs": [
    {
     "data": {
      "text/latex": [
       "$F'(u)\\cdot v$"
      ],
      "text/plain": [
       "F{1}[u](v)"
      ]
     },
     "execution_count": 108,
     "metadata": {},
     "output_type": "execute_result"
    }
   ],
   "source": [
    "F(u,v)"
   ]
  },
  {
   "cell_type": "code",
   "execution_count": 109,
   "metadata": {
    "collapsed": false
   },
   "outputs": [
    {
     "data": {
      "text/latex": [
       "$F''(u)(v,w)$"
      ],
      "text/plain": [
       "F{2}[u](v,w)"
      ]
     },
     "execution_count": 109,
     "metadata": {},
     "output_type": "execute_result"
    }
   ],
   "source": [
    "F(u,v,w)"
   ]
  },
  {
   "cell_type": "markdown",
   "metadata": {},
   "source": [
    "### FlowExpression"
   ]
  },
  {
   "cell_type": "code",
   "execution_count": 128,
   "metadata": {
    "collapsed": false
   },
   "outputs": [
    {
     "data": {
      "text/latex": [
       "$\\mathcal{E}_{F}(t,u)$"
      ],
      "text/plain": [
       "E_F[t,u]"
      ]
     },
     "execution_count": 128,
     "metadata": {},
     "output_type": "execute_result"
    }
   ],
   "source": [
    "ex = FlowExpression(F, t, u, 0) # (the last argument 0 indicates that it is a 0th derivative w.r.t. time)"
   ]
  },
  {
   "cell_type": "code",
   "execution_count": 111,
   "metadata": {
    "collapsed": false
   },
   "outputs": [
    {
     "data": {
      "text/latex": [
       "$\\mathcal{E}_{F}(t,u)$"
      ],
      "text/plain": [
       "E_F[t,u]"
      ]
     },
     "execution_count": 111,
     "metadata": {},
     "output_type": "execute_result"
    }
   ],
   "source": [
    "ex1 = E(F,t,u)"
   ]
  },
  {
   "cell_type": "code",
   "execution_count": 112,
   "metadata": {
    "collapsed": false
   },
   "outputs": [
    {
     "data": {
      "text/plain": [
       "true"
      ]
     },
     "execution_count": 112,
     "metadata": {},
     "output_type": "execute_result"
    }
   ],
   "source": [
    "ex == ex1"
   ]
  },
  {
   "cell_type": "markdown",
   "metadata": {},
   "source": [
    "`FlowExpression` involving differentials:"
   ]
  },
  {
   "cell_type": "code",
   "execution_count": 113,
   "metadata": {
    "collapsed": false
   },
   "outputs": [
    {
     "data": {
      "text/latex": [
       "$\\partial_{2}\\mathcal{E}_{F}(t,u)\\cdot v$"
      ],
      "text/plain": [
       "E_F{0,1}[t,u](v)"
      ]
     },
     "execution_count": 113,
     "metadata": {},
     "output_type": "execute_result"
    }
   ],
   "source": [
    "E(F,t,u,v)"
   ]
  },
  {
   "cell_type": "code",
   "execution_count": 114,
   "metadata": {
    "collapsed": false
   },
   "outputs": [
    {
     "data": {
      "text/latex": [
       "$\\partial_{2}^{2}\\mathcal{E}_{F}(t,u)(w,v)$"
      ],
      "text/plain": [
       "E_F{0,2}[t,u](w,v)"
      ]
     },
     "execution_count": 114,
     "metadata": {},
     "output_type": "execute_result"
    }
   ],
   "source": [
    "E(F,t,u,v,w)"
   ]
  },
  {
   "cell_type": "markdown",
   "metadata": {},
   "source": [
    "### SpaceLinearCombinations"
   ]
  },
  {
   "cell_type": "code",
   "execution_count": 116,
   "metadata": {
    "collapsed": false
   },
   "outputs": [
    {
     "data": {
      "text/latex": [
       "$-17\\partial_{2}^{2}\\mathcal{E}_{F}(t,u)(w,v)+F'(v)\\cdot w+2u$"
      ],
      "text/plain": [
       "-17E_F{0,2}[t,u](w,v)+F{1}[v](w)+2u"
      ]
     },
     "execution_count": 116,
     "metadata": {},
     "output_type": "execute_result"
    }
   ],
   "source": [
    "ex = -17E(F,t,u,v,w) + 2u + F(v,w)"
   ]
  },
  {
   "cell_type": "code",
   "execution_count": 117,
   "metadata": {
    "collapsed": false
   },
   "outputs": [
    {
     "data": {
      "text/latex": [
       "$0$"
      ],
      "text/plain": [
       "0"
      ]
     },
     "execution_count": 117,
     "metadata": {},
     "output_type": "execute_result"
    }
   ],
   "source": [
    "ex-ex"
   ]
  },
  {
   "cell_type": "markdown",
   "metadata": {
    "collapsed": true
   },
   "source": [
    "### x_zero"
   ]
  },
  {
   "cell_type": "code",
   "execution_count": 118,
   "metadata": {
    "collapsed": false
   },
   "outputs": [
    {
     "data": {
      "text/plain": [
       "true"
      ]
     },
     "execution_count": 118,
     "metadata": {},
     "output_type": "execute_result"
    }
   ],
   "source": [
    "ex-ex == x_zero"
   ]
  },
  {
   "cell_type": "markdown",
   "metadata": {},
   "source": [
    "### differential"
   ]
  },
  {
   "cell_type": "code",
   "execution_count": 133,
   "metadata": {
    "collapsed": false
   },
   "outputs": [
    {
     "data": {
      "text/latex": [
       "$F(G(u))+\\partial_{2}\\mathcal{E}_{F}(t,u)\\cdot w$"
      ],
      "text/plain": [
       "F[G[u]]+E_F{0,1}[t,u](w)"
      ]
     },
     "execution_count": 133,
     "metadata": {},
     "output_type": "execute_result"
    }
   ],
   "source": [
    "ex = F(G(u)) + E(F,t,u,w)"
   ]
  },
  {
   "cell_type": "markdown",
   "metadata": {},
   "source": [
    "We form the differential of the expression `ex` with respect to the variable `u` and apply it to the expression `H(v)`. Note that the differntial is a linear map which has to be applied to something (\"the slots have to be filled\")."
   ]
  },
  {
   "cell_type": "code",
   "execution_count": 135,
   "metadata": {
    "collapsed": false
   },
   "outputs": [
    {
     "data": {
      "text/latex": [
       "$\\partial_{2}^{2}\\mathcal{E}_{F}(t,u)(w,H(v))+F'(G(u))\\cdot G'(u)\\cdot H(v)$"
      ],
      "text/plain": [
       "E_F{0,2}[t,u](w,H[v])+F{1}[G[u]](G{1}[u](H[v]))"
      ]
     },
     "execution_count": 135,
     "metadata": {},
     "output_type": "execute_result"
    }
   ],
   "source": [
    "differential(ex, u, H(v))"
   ]
  },
  {
   "cell_type": "markdown",
   "metadata": {},
   "source": [
    "### t_derivative"
   ]
  },
  {
   "cell_type": "code",
   "execution_count": 136,
   "metadata": {
    "collapsed": false
   },
   "outputs": [
    {
     "data": {
      "text/latex": [
       "$\\mathcal{E}_{F}(t,x)$"
      ],
      "text/plain": [
       "E_F[t,x]"
      ]
     },
     "execution_count": 136,
     "metadata": {},
     "output_type": "execute_result"
    }
   ],
   "source": [
    "ex = E(F,t,x)"
   ]
  },
  {
   "cell_type": "code",
   "execution_count": 137,
   "metadata": {
    "collapsed": false
   },
   "outputs": [
    {
     "data": {
      "text/latex": [
       "$F(\\mathcal{E}_{F}(t,x))$"
      ],
      "text/plain": [
       "F[E_F[t,x]]"
      ]
     },
     "execution_count": 137,
     "metadata": {},
     "output_type": "execute_result"
    }
   ],
   "source": [
    "ex = t_derivative(ex, t)"
   ]
  },
  {
   "cell_type": "code",
   "execution_count": 138,
   "metadata": {
    "collapsed": false
   },
   "outputs": [
    {
     "data": {
      "text/latex": [
       "$F'(\\mathcal{E}_{F}(t,x))\\cdot F(\\mathcal{E}_{F}(t,x))$"
      ],
      "text/plain": [
       "F{1}[E_F[t,x]](F[E_F[t,x]])"
      ]
     },
     "execution_count": 138,
     "metadata": {},
     "output_type": "execute_result"
    }
   ],
   "source": [
    "ex = t_derivative(ex, t)"
   ]
  },
  {
   "cell_type": "code",
   "execution_count": 139,
   "metadata": {
    "collapsed": false
   },
   "outputs": [
    {
     "data": {
      "text/latex": [
       "$F''(\\mathcal{E}_{F}(t,x))(F(\\mathcal{E}_{F}(t,x)),F(\\mathcal{E}_{F}(t,x)))+F'(\\mathcal{E}_{F}(t,x))\\cdot F'(\\mathcal{E}_{F}(t,x))\\cdot F(\\mathcal{E}_{F}(t,x))$"
      ],
      "text/plain": [
       "F{2}[E_F[t,x]](F[E_F[t,x]],F[E_F[t,x]])+F{1}[E_F[t,x]](F{1}[E_F[t,x]](F[E_F[t,x]]))"
      ]
     },
     "execution_count": 139,
     "metadata": {},
     "output_type": "execute_result"
    }
   ],
   "source": [
    "ex = t_derivative(ex, t)"
   ]
  },
  {
   "cell_type": "code",
   "execution_count": 140,
   "metadata": {
    "collapsed": false,
    "scrolled": true
   },
   "outputs": [
    {
     "data": {
      "text/latex": [
       "$F'(\\mathcal{E}_{F}(t,x))\\cdot (F''(\\mathcal{E}_{F}(t,x))(F(\\mathcal{E}_{F}(t,x)),F(\\mathcal{E}_{F}(t,x)))+F'(\\mathcal{E}_{F}(t,x))\\cdot F'(\\mathcal{E}_{F}(t,x))\\cdot F(\\mathcal{E}_{F}(t,x)))+F'''(\\mathcal{E}_{F}(t,x))(F(\\mathcal{E}_{F}(t,x)),F(\\mathcal{E}_{F}(t,x)),F(\\mathcal{E}_{F}(t,x)))+3F''(\\mathcal{E}_{F}(t,x))(F'(\\mathcal{E}_{F}(t,x))\\cdot F(\\mathcal{E}_{F}(t,x)),F(\\mathcal{E}_{F}(t,x)))$"
      ],
      "text/plain": [
       "F{1}[E_F[t,x]](F{2}[E_F[t,x]](F[E_F[t,x]],F[E_F[t,x]])+F{1}[E_F[t,x]](F{1}[E_F[t,x]](F[E_F[t,x]])))+F{3}[E_F[t,x]](F[E_F[t,x]],F[E_F[t,x]],F[E_F[t,x]])+3F{2}[E_F[t,x]](F{1}[E_F[t,x]](F[E_F[t,x]]),F[E_F[t,x]])"
      ]
     },
     "execution_count": 140,
     "metadata": {},
     "output_type": "execute_result"
    }
   ],
   "source": [
    "ex = t_derivative(ex,t )"
   ]
  },
  {
   "cell_type": "code",
   "execution_count": 141,
   "metadata": {
    "collapsed": false
   },
   "outputs": [
    {
     "data": {
      "text/latex": [
       "$3F''(\\mathcal{E}_{F}(t,x))(F'(\\mathcal{E}_{F}(t,x))\\cdot F(\\mathcal{E}_{F}(t,x)),F'(\\mathcal{E}_{F}(t,x))\\cdot F(\\mathcal{E}_{F}(t,x)))+4F''(\\mathcal{E}_{F}(t,x))(F''(\\mathcal{E}_{F}(t,x))(F(\\mathcal{E}_{F}(t,x)),F(\\mathcal{E}_{F}(t,x)))+F'(\\mathcal{E}_{F}(t,x))\\cdot F'(\\mathcal{E}_{F}(t,x))\\cdot F(\\mathcal{E}_{F}(t,x)),F(\\mathcal{E}_{F}(t,x)))+F'(\\mathcal{E}_{F}(t,x))\\cdot (F'(\\mathcal{E}_{F}(t,x))\\cdot (F''(\\mathcal{E}_{F}(t,x))(F(\\mathcal{E}_{F}(t,x)),F(\\mathcal{E}_{F}(t,x)))+F'(\\mathcal{E}_{F}(t,x))\\cdot F'(\\mathcal{E}_{F}(t,x))\\cdot F(\\mathcal{E}_{F}(t,x)))+F'''(\\mathcal{E}_{F}(t,x))(F(\\mathcal{E}_{F}(t,x)),F(\\mathcal{E}_{F}(t,x)),F(\\mathcal{E}_{F}(t,x)))+3F''(\\mathcal{E}_{F}(t,x))(F'(\\mathcal{E}_{F}(t,x))\\cdot F(\\mathcal{E}_{F}(t,x)),F(\\mathcal{E}_{F}(t,x))))+6F'''(\\mathcal{E}_{F}(t,x))(F'(\\mathcal{E}_{F}(t,x))\\cdot F(\\mathcal{E}_{F}(t,x)),F(\\mathcal{E}_{F}(t,x)),F(\\mathcal{E}_{F}(t,x)))+F^{(4)}(\\mathcal{E}_{F}(t,x))(F(\\mathcal{E}_{F}(t,x)),F(\\mathcal{E}_{F}(t,x)),F(\\mathcal{E}_{F}(t,x)),F(\\mathcal{E}_{F}(t,x)))$"
      ],
      "text/plain": [
       "3F{2}[E_F[t,x]](F{1}[E_F[t,x]](F[E_F[t,x]]),F{1}[E_F[t,x]](F[E_F[t,x]]))+4F{2}[E_F[t,x]](F{2}[E_F[t,x]](F[E_F[t,x]],F[E_F[t,x]])+F{1}[E_F[t,x]](F{1}[E_F[t,x]](F[E_F[t,x]])),F[E_F[t,x]])+F{1}[E_F[t,x]](F{1}[E_F[t,x]](F{2}[E_F[t,x]](F[E_F[t,x]],F[E_F[t,x]])+F{1}[E_F[t,x]](F{1}[E_F[t,x]](F[E_F[t,x]])))+F{3}[E_F[t,x]](F[E_F[t,x]],F[E_F[t,x]],F[E_F[t,x]])+3F{2}[E_F[t,x]](F{1}[E_F[t,x]](F[E_F[t,x]]),F[E_F[t,x]]))+6F{3}[E_F[t,x]](F{1}[E_F[t,x]](F[E_F[t,x]]),F[E_F[t,x]],F[E_F[t,x]])+F{4}[E_F[t,x]](F[E_F[t,x]],F[E_F[t,x]],F[E_F[t,x]],F[E_F[t,x]])"
      ]
     },
     "execution_count": 141,
     "metadata": {},
     "output_type": "execute_result"
    }
   ],
   "source": [
    "ex = t_derivative(ex, t)"
   ]
  },
  {
   "cell_type": "code",
   "execution_count": 142,
   "metadata": {
    "collapsed": false,
    "scrolled": true
   },
   "outputs": [
    {
     "data": {
      "text/latex": [
       "$15F'''(\\mathcal{E}_{F}(t,x))(F'(\\mathcal{E}_{F}(t,x))\\cdot F(\\mathcal{E}_{F}(t,x)),F'(\\mathcal{E}_{F}(t,x))\\cdot F(\\mathcal{E}_{F}(t,x)),F(\\mathcal{E}_{F}(t,x)))+10F'''(\\mathcal{E}_{F}(t,x))(F''(\\mathcal{E}_{F}(t,x))(F(\\mathcal{E}_{F}(t,x)),F(\\mathcal{E}_{F}(t,x)))+F'(\\mathcal{E}_{F}(t,x))\\cdot F'(\\mathcal{E}_{F}(t,x))\\cdot F(\\mathcal{E}_{F}(t,x)),F(\\mathcal{E}_{F}(t,x)),F(\\mathcal{E}_{F}(t,x)))+10F''(\\mathcal{E}_{F}(t,x))(F''(\\mathcal{E}_{F}(t,x))(F(\\mathcal{E}_{F}(t,x)),F(\\mathcal{E}_{F}(t,x)))+F'(\\mathcal{E}_{F}(t,x))\\cdot F'(\\mathcal{E}_{F}(t,x))\\cdot F(\\mathcal{E}_{F}(t,x)),F'(\\mathcal{E}_{F}(t,x))\\cdot F(\\mathcal{E}_{F}(t,x)))+F'(\\mathcal{E}_{F}(t,x))\\cdot (3F''(\\mathcal{E}_{F}(t,x))(F'(\\mathcal{E}_{F}(t,x))\\cdot F(\\mathcal{E}_{F}(t,x)),F'(\\mathcal{E}_{F}(t,x))\\cdot F(\\mathcal{E}_{F}(t,x)))+4F''(\\mathcal{E}_{F}(t,x))(F''(\\mathcal{E}_{F}(t,x))(F(\\mathcal{E}_{F}(t,x)),F(\\mathcal{E}_{F}(t,x)))+F'(\\mathcal{E}_{F}(t,x))\\cdot F'(\\mathcal{E}_{F}(t,x))\\cdot F(\\mathcal{E}_{F}(t,x)),F(\\mathcal{E}_{F}(t,x)))+F'(\\mathcal{E}_{F}(t,x))\\cdot (F'(\\mathcal{E}_{F}(t,x))\\cdot (F''(\\mathcal{E}_{F}(t,x))(F(\\mathcal{E}_{F}(t,x)),F(\\mathcal{E}_{F}(t,x)))+F'(\\mathcal{E}_{F}(t,x))\\cdot F'(\\mathcal{E}_{F}(t,x))\\cdot F(\\mathcal{E}_{F}(t,x)))+F'''(\\mathcal{E}_{F}(t,x))(F(\\mathcal{E}_{F}(t,x)),F(\\mathcal{E}_{F}(t,x)),F(\\mathcal{E}_{F}(t,x)))+3F''(\\mathcal{E}_{F}(t,x))(F'(\\mathcal{E}_{F}(t,x))\\cdot F(\\mathcal{E}_{F}(t,x)),F(\\mathcal{E}_{F}(t,x))))+6F'''(\\mathcal{E}_{F}(t,x))(F'(\\mathcal{E}_{F}(t,x))\\cdot F(\\mathcal{E}_{F}(t,x)),F(\\mathcal{E}_{F}(t,x)),F(\\mathcal{E}_{F}(t,x)))+F^{(4)}(\\mathcal{E}_{F}(t,x))(F(\\mathcal{E}_{F}(t,x)),F(\\mathcal{E}_{F}(t,x)),F(\\mathcal{E}_{F}(t,x)),F(\\mathcal{E}_{F}(t,x))))+5F''(\\mathcal{E}_{F}(t,x))(F'(\\mathcal{E}_{F}(t,x))\\cdot (F''(\\mathcal{E}_{F}(t,x))(F(\\mathcal{E}_{F}(t,x)),F(\\mathcal{E}_{F}(t,x)))+F'(\\mathcal{E}_{F}(t,x))\\cdot F'(\\mathcal{E}_{F}(t,x))\\cdot F(\\mathcal{E}_{F}(t,x)))+F'''(\\mathcal{E}_{F}(t,x))(F(\\mathcal{E}_{F}(t,x)),F(\\mathcal{E}_{F}(t,x)),F(\\mathcal{E}_{F}(t,x)))+3F''(\\mathcal{E}_{F}(t,x))(F'(\\mathcal{E}_{F}(t,x))\\cdot F(\\mathcal{E}_{F}(t,x)),F(\\mathcal{E}_{F}(t,x))),F(\\mathcal{E}_{F}(t,x)))+F^{(5)}(\\mathcal{E}_{F}(t,x))(F(\\mathcal{E}_{F}(t,x)),F(\\mathcal{E}_{F}(t,x)),F(\\mathcal{E}_{F}(t,x)),F(\\mathcal{E}_{F}(t,x)),F(\\mathcal{E}_{F}(t,x)))+10F^{(4)}(\\mathcal{E}_{F}(t,x))(F'(\\mathcal{E}_{F}(t,x))\\cdot F(\\mathcal{E}_{F}(t,x)),F(\\mathcal{E}_{F}(t,x)),F(\\mathcal{E}_{F}(t,x)),F(\\mathcal{E}_{F}(t,x)))$"
      ],
      "text/plain": [
       "15F{3}[E_F[t,x]](F{1}[E_F[t,x]](F[E_F[t,x]]),F{1}[E_F[t,x]](F[E_F[t,x]]),F[E_F[t,x]])+10F{3}[E_F[t,x]](F{2}[E_F[t,x]](F[E_F[t,x]],F[E_F[t,x]])+F{1}[E_F[t,x]](F{1}[E_F[t,x]](F[E_F[t,x]])),F[E_F[t,x]],F[E_F[t,x]])+10F{2}[E_F[t,x]](F{2}[E_F[t,x]](F[E_F[t,x]],F[E_F[t,x]])+F{1}[E_F[t,x]](F{1}[E_F[t,x]](F[E_F[t,x]])),F{1}[E_F[t,x]](F[E_F[t,x]]))+F{1}[E_F[t,x]](3F{2}[E_F[t,x]](F{1}[E_F[t,x]](F[E_F[t,x]]),F{1}[E_F[t,x]](F[E_F[t,x]]))+4F{2}[E_F[t,x]](F{2}[E_F[t,x]](F[E_F[t,x]],F[E_F[t,x]])+F{1}[E_F[t,x]](F{1}[E_F[t,x]](F[E_F[t,x]])),F[E_F[t,x]])+F{1}[E_F[t,x]](F{1}[E_F[t,x]](F{2}[E_F[t,x]](F[E_F[t,x]],F[E_F[t,x]])+F{1}[E_F[t,x]](F{1}[E_F[t,x]](F[E_F[t,x]])))+F{3}[E_F[t,x]](F[E_F[t,x]],F[E_F[t,x]],F[E_F[t,x]])+3F{2}[E_F[t,x]](F{1}[E_F[t,x]](F[E_F[t,x]]),F[E_F[t,x]]))+6F{3}[E_F[t,x]](F{1}[E_F[t,x]](F[E_F[t,x]]),F[E_F[t,x]],F[E_F[t,x]])+F{4}[E_F[t,x]](F[E_F[t,x]],F[E_F[t,x]],F[E_F[t,x]],F[E_F[t,x]]))+5F{2}[E_F[t,x]](F{1}[E_F[t,x]](F{2}[E_F[t,x]](F[E_F[t,x]],F[E_F[t,x]])+F{1}[E_F[t,x]](F{1}[E_F[t,x]](F[E_F[t,x]])))+F{3}[E_F[t,x]](F[E_F[t,x]],F[E_F[t,x]],F[E_F[t,x]])+3F{2}[E_F[t,x]](F{1}[E_F[t,x]](F[E_F[t,x]]),F[E_F[t,x]]),F[E_F[t,x]])+F{5}[E_F[t,x]](F[E_F[t,x]],F[E_F[t,x]],F[E_F[t,x]],F[E_F[t,x]],F[E_F[t,x]])+10F{4}[E_F[t,x]](F{1}[E_F[t,x]](F[E_F[t,x]]),F[E_F[t,x]],F[E_F[t,x]],F[E_F[t,x]])"
      ]
     },
     "execution_count": 142,
     "metadata": {},
     "output_type": "execute_result"
    }
   ],
   "source": [
    "ex = t_derivative(ex, t)"
   ]
  },
  {
   "cell_type": "code",
   "execution_count": 145,
   "metadata": {
    "collapsed": false
   },
   "outputs": [
    {
     "name": "stdout",
     "output_type": "stream",
     "text": [
      "56F{2}[E_F[t,x]](3F{2}[E_F[t,x]](F{1}[E_F[t,x]](F[E_F[t,x]]),F{1}[E_F[t,x]](F[E_F[t,x]]))+4F{2}[E_F[t,x]](F{2}[E_F[t,x]](F[E_F[t,x]],F[E_F[t,x]])+F{1}[E_F[t,x]](F{1}[E_F[t,x]](F[E_F[t,x]])),F[E_F[t,x]])+F{1}[E_F[t,x]](F{1}[E_F[t,x]](F{2}[E_F[t,x]](F[E_F[t,x]],F[E_F[t,x]])+F{1}[E_F[t,x]](F{1}[E_F[t,x]](F[E_F[t,x]])))+F{3}[E_F[t,x]](F[E_F[t,x]],F[E_F[t,x]],F[E_F[t,x]])+3F{2}[E_F[t,x]](F{1}[E_F[t,x]](F[E_F[t,x]]),F[E_F[t,x]]))+6F{3}[E_F[t,x]](F{1}[E_F[t,x]](F[E_F[t,x]]),F[E_F[t,x]],F[E_F[t,x]])+F{4}[E_F[t,x]](F[E_F[t,x]],F[E_F[t,x]],F[E_F[t,x]],F[E_F[t,x]]),F{2}[E_F[t,x]](F[E_F[t,x]],F[E_F[t,x]])+F{1}[E_F[t,x]](F{1}[E_F[t,x]](F[E_F[t,x]])))+F{1}[E_F[t,x]](70F{3}[E_F[t,x]](F{2}[E_F[t,x]](F[E_F[t,x]],F[E_F[t,x]])+F{1}[E_F[t,x]](F{1}[E_F[t,x]](F[E_F[t,x]])),F{2}[E_F[t,x]](F[E_F[t,x]],F[E_F[t,x]])+F{1}[E_F[t,x]](F{1}[E_F[t,x]](F[E_F[t,x]])),F[E_F[t,x]])+7F{2}[E_F[t,x]](15F{3}[E_F[t,x]](F{1}[E_F[t,x]](F[E_F[t,x]]),F{1}[E_F[t,x]](F[E_F[t,x]]),F[E_F[t,x]])+10F{3}[E_F[t,x]](F{2}[E_F[t,x]](F[E_F[t,x]],F[E_F[t,x]])+F{1}[E_F[t,x]](F{1}[E_F[t,x]](F[E_F[t,x]])),F[E_F[t,x]],F[E_F[t,x]])+10F{2}[E_F[t,x]](F{2}[E_F[t,x]](F[E_F[t,x]],F[E_F[t,x]])+F{1}[E_F[t,x]](F{1}[E_F[t,x]](F[E_F[t,x]])),F{1}[E_F[t,x]](F[E_F[t,x]]))+F{1}[E_F[t,x]](3F{2}[E_F[t,x]](F{1}[E_F[t,x]](F[E_F[t,x]]),F{1}[E_F[t,x]](F[E_F[t,x]]))+4F{2}[E_F[t,x]](F{2}[E_F[t,x]](F[E_F[t,x]],F[E_F[t,x]])+F{1}[E_F[t,x]](F{1}[E_F[t,x]](F[E_F[t,x]])),F[E_F[t,x]])+F{1}[E_F[t,x]](F{1}[E_F[t,x]](F{2}[E_F[t,x]](F[E_F[t,x]],F[E_F[t,x]])+F{1}[E_F[t,x]](F{1}[E_F[t,x]](F[E_F[t,x]])))+F{3}[E_F[t,x]](F[E_F[t,x]],F[E_F[t,x]],F[E_F[t,x]])+3F{2}[E_F[t,x]](F{1}[E_F[t,x]](F[E_F[t,x]]),F[E_F[t,x]]))+6F{3}[E_F[t,x]](F{1}[E_F[t,x]](F[E_F[t,x]]),F[E_F[t,x]],F[E_F[t,x]])+F{4}[E_F[t,x]](F[E_F[t,x]],F[E_F[t,x]],F[E_F[t,x]],F[E_F[t,x]]))+5F{2}[E_F[t,x]](F{1}[E_F[t,x]](F{2}[E_F[t,x]](F[E_F[t,x]],F[E_F[t,x]])+F{1}[E_F[t,x]](F{1}[E_F[t,x]](F[E_F[t,x]])))+F{3}[E_F[t,x]](F[E_F[t,x]],F[E_F[t,x]],F[E_F[t,x]])+3F{2}[E_F[t,x]](F{1}[E_F[t,x]](F[E_F[t,x]]),F[E_F[t,x]]),F[E_F[t,x]])+F{5}[E_F[t,x]](F[E_F[t,x]],F[E_F[t,x]],F[E_F[t,x]],F[E_F[t,x]],F[E_F[t,x]])+10F{4}[E_F[t,x]](F{1}[E_F[t,x]](F[E_F[t,x]]),F[E_F[t,x]],F[E_F[t,x]],F[E_F[t,x]]),F[E_F[t,x]])+35F{4}[E_F[t,x]](F{1}[E_F[t,x]](F{2}[E_F[t,x]](F[E_F[t,x]],F[E_F[t,x]])+F{1}[E_F[t,x]](F{1}[E_F[t,x]](F[E_F[t,x]])))+F{3}[E_F[t,x]](F[E_F[t,x]],F[E_F[t,x]],F[E_F[t,x]])+3F{2}[E_F[t,x]](F{1}[E_F[t,x]](F[E_F[t,x]]),F[E_F[t,x]]),F[E_F[t,x]],F[E_F[t,x]],F[E_F[t,x]])+F{7}[E_F[t,x]](F[E_F[t,x]],F[E_F[t,x]],F[E_F[t,x]],F[E_F[t,x]],F[E_F[t,x]],F[E_F[t,x]],F[E_F[t,x]])+21F{3}[E_F[t,x]](3F{2}[E_F[t,x]](F{1}[E_F[t,x]](F[E_F[t,x]]),F{1}[E_F[t,x]](F[E_F[t,x]]))+4F{2}[E_F[t,x]](F{2}[E_F[t,x]](F[E_F[t,x]],F[E_F[t,x]])+F{1}[E_F[t,x]](F{1}[E_F[t,x]](F[E_F[t,x]])),F[E_F[t,x]])+F{1}[E_F[t,x]](F{1}[E_F[t,x]](F{2}[E_F[t,x]](F[E_F[t,x]],F[E_F[t,x]])+F{1}[E_F[t,x]](F{1}[E_F[t,x]](F[E_F[t,x]])))+F{3}[E_F[t,x]](F[E_F[t,x]],F[E_F[t,x]],F[E_F[t,x]])+3F{2}[E_F[t,x]](F{1}[E_F[t,x]](F[E_F[t,x]]),F[E_F[t,x]]))+6F{3}[E_F[t,x]](F{1}[E_F[t,x]](F[E_F[t,x]]),F[E_F[t,x]],F[E_F[t,x]])+F{4}[E_F[t,x]](F[E_F[t,x]],F[E_F[t,x]],F[E_F[t,x]],F[E_F[t,x]]),F[E_F[t,x]],F[E_F[t,x]])+21F{2}[E_F[t,x]](3F{2}[E_F[t,x]](F{1}[E_F[t,x]](F[E_F[t,x]]),F{1}[E_F[t,x]](F[E_F[t,x]]))+4F{2}[E_F[t,x]](F{2}[E_F[t,x]](F[E_F[t,x]],F[E_F[t,x]])+F{1}[E_F[t,x]](F{1}[E_F[t,x]](F[E_F[t,x]])),F[E_F[t,x]])+F{1}[E_F[t,x]](F{1}[E_F[t,x]](F{2}[E_F[t,x]](F[E_F[t,x]],F[E_F[t,x]])+F{1}[E_F[t,x]](F{1}[E_F[t,x]](F[E_F[t,x]])))+F{3}[E_F[t,x]](F[E_F[t,x]],F[E_F[t,x]],F[E_F[t,x]])+3F{2}[E_F[t,x]](F{1}[E_F[t,x]](F[E_F[t,x]]),F[E_F[t,x]]))+6F{3}[E_F[t,x]](F{1}[E_F[t,x]](F[E_F[t,x]]),F[E_F[t,x]],F[E_F[t,x]])+F{4}[E_F[t,x]](F[E_F[t,x]],F[E_F[t,x]],F[E_F[t,x]],F[E_F[t,x]]),F{1}[E_F[t,x]](F[E_F[t,x]]))+105F{4}[E_F[t,x]](F{1}[E_F[t,x]](F[E_F[t,x]]),F{1}[E_F[t,x]](F[E_F[t,x]]),F{1}[E_F[t,x]](F[E_F[t,x]]),F[E_F[t,x]])+105F{3}[E_F[t,x]](F{2}[E_F[t,x]](F[E_F[t,x]],F[E_F[t,x]])+F{1}[E_F[t,x]](F{1}[E_F[t,x]](F[E_F[t,x]])),F{1}[E_F[t,x]](F[E_F[t,x]]),F{1}[E_F[t,x]](F[E_F[t,x]]))+35F{2}[E_F[t,x]](F{1}[E_F[t,x]](F{2}[E_F[t,x]](F[E_F[t,x]],F[E_F[t,x]])+F{1}[E_F[t,x]](F{1}[E_F[t,x]](F[E_F[t,x]])))+F{3}[E_F[t,x]](F[E_F[t,x]],F[E_F[t,x]],F[E_F[t,x]])+3F{2}[E_F[t,x]](F{1}[E_F[t,x]](F[E_F[t,x]]),F[E_F[t,x]]),F{2}[E_F[t,x]](F[E_F[t,x]],F[E_F[t,x]])+F{1}[E_F[t,x]](F{1}[E_F[t,x]](F[E_F[t,x]])))+210F{4}[E_F[t,x]](F{2}[E_F[t,x]](F[E_F[t,x]],F[E_F[t,x]])+F{1}[E_F[t,x]](F{1}[E_F[t,x]](F[E_F[t,x]])),F{1}[E_F[t,x]](F[E_F[t,x]]),F[E_F[t,x]],F[E_F[t,x]])+35F{5}[E_F[t,x]](F{2}[E_F[t,x]](F[E_F[t,x]],F[E_F[t,x]])+F{1}[E_F[t,x]](F{1}[E_F[t,x]](F[E_F[t,x]])),F[E_F[t,x]],F[E_F[t,x]],F[E_F[t,x]],F[E_F[t,x]])+105F{5}[E_F[t,x]](F{1}[E_F[t,x]](F[E_F[t,x]]),F{1}[E_F[t,x]](F[E_F[t,x]]),F[E_F[t,x]],F[E_F[t,x]],F[E_F[t,x]])+21F{6}[E_F[t,x]](F{1}[E_F[t,x]](F[E_F[t,x]]),F[E_F[t,x]],F[E_F[t,x]],F[E_F[t,x]],F[E_F[t,x]],F[E_F[t,x]])+F{1}[E_F[t,x]](45F{4}[E_F[t,x]](F{1}[E_F[t,x]](F[E_F[t,x]]),F{1}[E_F[t,x]](F[E_F[t,x]]),F[E_F[t,x]],F[E_F[t,x]])+15F{3}[E_F[t,x]](F{1}[E_F[t,x]](F[E_F[t,x]]),F{1}[E_F[t,x]](F[E_F[t,x]]),F{1}[E_F[t,x]](F[E_F[t,x]]))+60F{3}[E_F[t,x]](F{2}[E_F[t,x]](F[E_F[t,x]],F[E_F[t,x]])+F{1}[E_F[t,x]](F{1}[E_F[t,x]](F[E_F[t,x]])),F{1}[E_F[t,x]](F[E_F[t,x]]),F[E_F[t,x]])+15F{2}[E_F[t,x]](F{1}[E_F[t,x]](F{2}[E_F[t,x]](F[E_F[t,x]],F[E_F[t,x]])+F{1}[E_F[t,x]](F{1}[E_F[t,x]](F[E_F[t,x]])))+F{3}[E_F[t,x]](F[E_F[t,x]],F[E_F[t,x]],F[E_F[t,x]])+3F{2}[E_F[t,x]](F{1}[E_F[t,x]](F[E_F[t,x]]),F[E_F[t,x]]),F{1}[E_F[t,x]](F[E_F[t,x]]))+F{6}[E_F[t,x]](F[E_F[t,x]],F[E_F[t,x]],F[E_F[t,x]],F[E_F[t,x]],F[E_F[t,x]],F[E_F[t,x]])+6F{2}[E_F[t,x]](3F{2}[E_F[t,x]](F{1}[E_F[t,x]](F[E_F[t,x]]),F{1}[E_F[t,x]](F[E_F[t,x]]))+4F{2}[E_F[t,x]](F{2}[E_F[t,x]](F[E_F[t,x]],F[E_F[t,x]])+F{1}[E_F[t,x]](F{1}[E_F[t,x]](F[E_F[t,x]])),F[E_F[t,x]])+F{1}[E_F[t,x]](F{1}[E_F[t,x]](F{2}[E_F[t,x]](F[E_F[t,x]],F[E_F[t,x]])+F{1}[E_F[t,x]](F{1}[E_F[t,x]](F[E_F[t,x]])))+F{3}[E_F[t,x]](F[E_F[t,x]],F[E_F[t,x]],F[E_F[t,x]])+3F{2}[E_F[t,x]](F{1}[E_F[t,x]](F[E_F[t,x]]),F[E_F[t,x]]))+6F{3}[E_F[t,x]](F{1}[E_F[t,x]](F[E_F[t,x]]),F[E_F[t,x]],F[E_F[t,x]])+F{4}[E_F[t,x]](F[E_F[t,x]],F[E_F[t,x]],F[E_F[t,x]],F[E_F[t,x]]),F[E_F[t,x]])+F{1}[E_F[t,x]](15F{3}[E_F[t,x]](F{1}[E_F[t,x]](F[E_F[t,x]]),F{1}[E_F[t,x]](F[E_F[t,x]]),F[E_F[t,x]])+10F{3}[E_F[t,x]](F{2}[E_F[t,x]](F[E_F[t,x]],F[E_F[t,x]])+F{1}[E_F[t,x]](F{1}[E_F[t,x]](F[E_F[t,x]])),F[E_F[t,x]],F[E_F[t,x]])+10F{2}[E_F[t,x]](F{2}[E_F[t,x]](F[E_F[t,x]],F[E_F[t,x]])+F{1}[E_F[t,x]](F{1}[E_F[t,x]](F[E_F[t,x]])),F{1}[E_F[t,x]](F[E_F[t,x]]))+F{1}[E_F[t,x]](3F{2}[E_F[t,x]](F{1}[E_F[t,x]](F[E_F[t,x]]),F{1}[E_F[t,x]](F[E_F[t,x]]))+4F{2}[E_F[t,x]](F{2}[E_F[t,x]](F[E_F[t,x]],F[E_F[t,x]])+F{1}[E_F[t,x]](F{1}[E_F[t,x]](F[E_F[t,x]])),F[E_F[t,x]])+F{1}[E_F[t,x]](F{1}[E_F[t,x]](F{2}[E_F[t,x]](F[E_F[t,x]],F[E_F[t,x]])+F{1}[E_F[t,x]](F{1}[E_F[t,x]](F[E_F[t,x]])))+F{3}[E_F[t,x]](F[E_F[t,x]],F[E_F[t,x]],F[E_F[t,x]])+3F{2}[E_F[t,x]](F{1}[E_F[t,x]](F[E_F[t,x]]),F[E_F[t,x]]))+6F{3}[E_F[t,x]](F{1}[E_F[t,x]](F[E_F[t,x]]),F[E_F[t,x]],F[E_F[t,x]])+F{4}[E_F[t,x]](F[E_F[t,x]],F[E_F[t,x]],F[E_F[t,x]],F[E_F[t,x]]))+5F{2}[E_F[t,x]](F{1}[E_F[t,x]](F{2}[E_F[t,x]](F[E_F[t,x]],F[E_F[t,x]])+F{1}[E_F[t,x]](F{1}[E_F[t,x]](F[E_F[t,x]])))+F{3}[E_F[t,x]](F[E_F[t,x]],F[E_F[t,x]],F[E_F[t,x]])+3F{2}[E_F[t,x]](F{1}[E_F[t,x]](F[E_F[t,x]]),F[E_F[t,x]]),F[E_F[t,x]])+F{5}[E_F[t,x]](F[E_F[t,x]],F[E_F[t,x]],F[E_F[t,x]],F[E_F[t,x]],F[E_F[t,x]])+10F{4}[E_F[t,x]](F{1}[E_F[t,x]](F[E_F[t,x]]),F[E_F[t,x]],F[E_F[t,x]],F[E_F[t,x]]))+10F{2}[E_F[t,x]](F{2}[E_F[t,x]](F[E_F[t,x]],F[E_F[t,x]])+F{1}[E_F[t,x]](F{1}[E_F[t,x]](F[E_F[t,x]])),F{2}[E_F[t,x]](F[E_F[t,x]],F[E_F[t,x]])+F{1}[E_F[t,x]](F{1}[E_F[t,x]](F[E_F[t,x]])))+15F{3}[E_F[t,x]](F{1}[E_F[t,x]](F{2}[E_F[t,x]](F[E_F[t,x]],F[E_F[t,x]])+F{1}[E_F[t,x]](F{1}[E_F[t,x]](F[E_F[t,x]])))+F{3}[E_F[t,x]](F[E_F[t,x]],F[E_F[t,x]],F[E_F[t,x]])+3F{2}[E_F[t,x]](F{1}[E_F[t,x]](F[E_F[t,x]]),F[E_F[t,x]]),F[E_F[t,x]],F[E_F[t,x]])+15F{5}[E_F[t,x]](F{1}[E_F[t,x]](F[E_F[t,x]]),F[E_F[t,x]],F[E_F[t,x]],F[E_F[t,x]],F[E_F[t,x]])+20F{4}[E_F[t,x]](F{2}[E_F[t,x]](F[E_F[t,x]],F[E_F[t,x]])+F{1}[E_F[t,x]](F{1}[E_F[t,x]](F[E_F[t,x]])),F[E_F[t,x]],F[E_F[t,x]],F[E_F[t,x]]))+105F{3}[E_F[t,x]](F{1}[E_F[t,x]](F{2}[E_F[t,x]](F[E_F[t,x]],F[E_F[t,x]])+F{1}[E_F[t,x]](F{1}[E_F[t,x]](F[E_F[t,x]])))+F{3}[E_F[t,x]](F[E_F[t,x]],F[E_F[t,x]],F[E_F[t,x]])+3F{2}[E_F[t,x]](F{1}[E_F[t,x]](F[E_F[t,x]]),F[E_F[t,x]]),F{1}[E_F[t,x]](F[E_F[t,x]]),F[E_F[t,x]]))+210F{3}[E_F[t,x]](F{1}[E_F[t,x]](F{2}[E_F[t,x]](F[E_F[t,x]],F[E_F[t,x]])+F{1}[E_F[t,x]](F{1}[E_F[t,x]](F[E_F[t,x]])))+F{3}[E_F[t,x]](F[E_F[t,x]],F[E_F[t,x]],F[E_F[t,x]])+3F{2}[E_F[t,x]](F{1}[E_F[t,x]](F[E_F[t,x]]),F[E_F[t,x]]),F{1}[E_F[t,x]](F[E_F[t,x]]),F{1}[E_F[t,x]](F[E_F[t,x]]))+28F{7}[E_F[t,x]](F{1}[E_F[t,x]](F[E_F[t,x]]),F[E_F[t,x]],F[E_F[t,x]],F[E_F[t,x]],F[E_F[t,x]],F[E_F[t,x]],F[E_F[t,x]])+35F{2}[E_F[t,x]](F{1}[E_F[t,x]](F{2}[E_F[t,x]](F[E_F[t,x]],F[E_F[t,x]])+F{1}[E_F[t,x]](F{1}[E_F[t,x]](F[E_F[t,x]])))+F{3}[E_F[t,x]](F[E_F[t,x]],F[E_F[t,x]],F[E_F[t,x]])+3F{2}[E_F[t,x]](F{1}[E_F[t,x]](F[E_F[t,x]]),F[E_F[t,x]]),F{1}[E_F[t,x]](F{2}[E_F[t,x]](F[E_F[t,x]],F[E_F[t,x]])+F{1}[E_F[t,x]](F{1}[E_F[t,x]](F[E_F[t,x]])))+F{3}[E_F[t,x]](F[E_F[t,x]],F[E_F[t,x]],F[E_F[t,x]])+3F{2}[E_F[t,x]](F{1}[E_F[t,x]](F[E_F[t,x]]),F[E_F[t,x]]))+840F{4}[E_F[t,x]](F{2}[E_F[t,x]](F[E_F[t,x]],F[E_F[t,x]])+F{1}[E_F[t,x]](F{1}[E_F[t,x]](F[E_F[t,x]])),F{1}[E_F[t,x]](F[E_F[t,x]]),F{1}[E_F[t,x]](F[E_F[t,x]]),F[E_F[t,x]])+560F{5}[E_F[t,x]](F{2}[E_F[t,x]](F[E_F[t,x]],F[E_F[t,x]])+F{1}[E_F[t,x]](F{1}[E_F[t,x]](F[E_F[t,x]])),F{1}[E_F[t,x]](F[E_F[t,x]]),F[E_F[t,x]],F[E_F[t,x]],F[E_F[t,x]])+280F{3}[E_F[t,x]](F{2}[E_F[t,x]](F[E_F[t,x]],F[E_F[t,x]])+F{1}[E_F[t,x]](F{1}[E_F[t,x]](F[E_F[t,x]])),F{2}[E_F[t,x]](F[E_F[t,x]],F[E_F[t,x]])+F{1}[E_F[t,x]](F{1}[E_F[t,x]](F[E_F[t,x]])),F{1}[E_F[t,x]](F[E_F[t,x]]))+70F{5}[E_F[t,x]](F{1}[E_F[t,x]](F{2}[E_F[t,x]](F[E_F[t,x]],F[E_F[t,x]])+F{1}[E_F[t,x]](F{1}[E_F[t,x]](F[E_F[t,x]])))+F{3}[E_F[t,x]](F[E_F[t,x]],F[E_F[t,x]],F[E_F[t,x]])+3F{2}[E_F[t,x]](F{1}[E_F[t,x]](F[E_F[t,x]]),F[E_F[t,x]]),F[E_F[t,x]],F[E_F[t,x]],F[E_F[t,x]],F[E_F[t,x]])+8F{2}[E_F[t,x]](45F{4}[E_F[t,x]](F{1}[E_F[t,x]](F[E_F[t,x]]),F{1}[E_F[t,x]](F[E_F[t,x]]),F[E_F[t,x]],F[E_F[t,x]])+15F{3}[E_F[t,x]](F{1}[E_F[t,x]](F[E_F[t,x]]),F{1}[E_F[t,x]](F[E_F[t,x]]),F{1}[E_F[t,x]](F[E_F[t,x]]))+60F{3}[E_F[t,x]](F{2}[E_F[t,x]](F[E_F[t,x]],F[E_F[t,x]])+F{1}[E_F[t,x]](F{1}[E_F[t,x]](F[E_F[t,x]])),F{1}[E_F[t,x]](F[E_F[t,x]]),F[E_F[t,x]])+15F{2}[E_F[t,x]](F{1}[E_F[t,x]](F{2}[E_F[t,x]](F[E_F[t,x]],F[E_F[t,x]])+F{1}[E_F[t,x]](F{1}[E_F[t,x]](F[E_F[t,x]])))+F{3}[E_F[t,x]](F[E_F[t,x]],F[E_F[t,x]],F[E_F[t,x]])+3F{2}[E_F[t,x]](F{1}[E_F[t,x]](F[E_F[t,x]]),F[E_F[t,x]]),F{1}[E_F[t,x]](F[E_F[t,x]]))+F{6}[E_F[t,x]](F[E_F[t,x]],F[E_F[t,x]],F[E_F[t,x]],F[E_F[t,x]],F[E_F[t,x]],F[E_F[t,x]])+6F{2}[E_F[t,x]](3F{2}[E_F[t,x]](F{1}[E_F[t,x]](F[E_F[t,x]]),F{1}[E_F[t,x]](F[E_F[t,x]]))+4F{2}[E_F[t,x]](F{2}[E_F[t,x]](F[E_F[t,x]],F[E_F[t,x]])+F{1}[E_F[t,x]](F{1}[E_F[t,x]](F[E_F[t,x]])),F[E_F[t,x]])+F{1}[E_F[t,x]](F{1}[E_F[t,x]](F{2}[E_F[t,x]](F[E_F[t,x]],F[E_F[t,x]])+F{1}[E_F[t,x]](F{1}[E_F[t,x]](F[E_F[t,x]])))+F{3}[E_F[t,x]](F[E_F[t,x]],F[E_F[t,x]],F[E_F[t,x]])+3F{2}[E_F[t,x]](F{1}[E_F[t,x]](F[E_F[t,x]]),F[E_F[t,x]]))+6F{3}[E_F[t,x]](F{1}[E_F[t,x]](F[E_F[t,x]]),F[E_F[t,x]],F[E_F[t,x]])+F{4}[E_F[t,x]](F[E_F[t,x]],F[E_F[t,x]],F[E_F[t,x]],F[E_F[t,x]]),F[E_F[t,x]])+F{1}[E_F[t,x]](15F{3}[E_F[t,x]](F{1}[E_F[t,x]](F[E_F[t,x]]),F{1}[E_F[t,x]](F[E_F[t,x]]),F[E_F[t,x]])+10F{3}[E_F[t,x]](F{2}[E_F[t,x]](F[E_F[t,x]],F[E_F[t,x]])+F{1}[E_F[t,x]](F{1}[E_F[t,x]](F[E_F[t,x]])),F[E_F[t,x]],F[E_F[t,x]])+10F{2}[E_F[t,x]](F{2}[E_F[t,x]](F[E_F[t,x]],F[E_F[t,x]])+F{1}[E_F[t,x]](F{1}[E_F[t,x]](F[E_F[t,x]])),F{1}[E_F[t,x]](F[E_F[t,x]]))+F{1}[E_F[t,x]](3F{2}[E_F[t,x]](F{1}[E_F[t,x]](F[E_F[t,x]]),F{1}[E_F[t,x]](F[E_F[t,x]]))+4F{2}[E_F[t,x]](F{2}[E_F[t,x]](F[E_F[t,x]],F[E_F[t,x]])+F{1}[E_F[t,x]](F{1}[E_F[t,x]](F[E_F[t,x]])),F[E_F[t,x]])+F{1}[E_F[t,x]](F{1}[E_F[t,x]](F{2}[E_F[t,x]](F[E_F[t,x]],F[E_F[t,x]])+F{1}[E_F[t,x]](F{1}[E_F[t,x]](F[E_F[t,x]])))+F{3}[E_F[t,x]](F[E_F[t,x]],F[E_F[t,x]],F[E_F[t,x]])+3F{2}[E_F[t,x]](F{1}[E_F[t,x]](F[E_F[t,x]]),F[E_F[t,x]]))+6F{3}[E_F[t,x]](F{1}[E_F[t,x]](F[E_F[t,x]]),F[E_F[t,x]],F[E_F[t,x]])+F{4}[E_F[t,x]](F[E_F[t,x]],F[E_F[t,x]],F[E_F[t,x]],F[E_F[t,x]]))+5F{2}[E_F[t,x]](F{1}[E_F[t,x]](F{2}[E_F[t,x]](F[E_F[t,x]],F[E_F[t,x]])+F{1}[E_F[t,x]](F{1}[E_F[t,x]](F[E_F[t,x]])))+F{3}[E_F[t,x]](F[E_F[t,x]],F[E_F[t,x]],F[E_F[t,x]])+3F{2}[E_F[t,x]](F{1}[E_F[t,x]](F[E_F[t,x]]),F[E_F[t,x]]),F[E_F[t,x]])+F{5}[E_F[t,x]](F[E_F[t,x]],F[E_F[t,x]],F[E_F[t,x]],F[E_F[t,x]],F[E_F[t,x]])+10F{4}[E_F[t,x]](F{1}[E_F[t,x]](F[E_F[t,x]]),F[E_F[t,x]],F[E_F[t,x]],F[E_F[t,x]]))+10F{2}[E_F[t,x]](F{2}[E_F[t,x]](F[E_F[t,x]],F[E_F[t,x]])+F{1}[E_F[t,x]](F{1}[E_F[t,x]](F[E_F[t,x]])),F{2}[E_F[t,x]](F[E_F[t,x]],F[E_F[t,x]])+F{1}[E_F[t,x]](F{1}[E_F[t,x]](F[E_F[t,x]])))+15F{3}[E_F[t,x]](F{1}[E_F[t,x]](F{2}[E_F[t,x]](F[E_F[t,x]],F[E_F[t,x]])+F{1}[E_F[t,x]](F{1}[E_F[t,x]](F[E_F[t,x]])))+F{3}[E_F[t,x]](F[E_F[t,x]],F[E_F[t,x]],F[E_F[t,x]])+3F{2}[E_F[t,x]](F{1}[E_F[t,x]](F[E_F[t,x]]),F[E_F[t,x]]),F[E_F[t,x]],F[E_F[t,x]])+15F{5}[E_F[t,x]](F{1}[E_F[t,x]](F[E_F[t,x]]),F[E_F[t,x]],F[E_F[t,x]],F[E_F[t,x]],F[E_F[t,x]])+20F{4}[E_F[t,x]](F{2}[E_F[t,x]](F[E_F[t,x]],F[E_F[t,x]])+F{1}[E_F[t,x]](F{1}[E_F[t,x]](F[E_F[t,x]])),F[E_F[t,x]],F[E_F[t,x]],F[E_F[t,x]]),F[E_F[t,x]])+56F{6}[E_F[t,x]](F{2}[E_F[t,x]](F[E_F[t,x]],F[E_F[t,x]])+F{1}[E_F[t,x]](F{1}[E_F[t,x]](F[E_F[t,x]])),F[E_F[t,x]],F[E_F[t,x]],F[E_F[t,x]],F[E_F[t,x]],F[E_F[t,x]])+420F{5}[E_F[t,x]](F{1}[E_F[t,x]](F[E_F[t,x]]),F{1}[E_F[t,x]](F[E_F[t,x]]),F{1}[E_F[t,x]](F[E_F[t,x]]),F[E_F[t,x]],F[E_F[t,x]])+420F{4}[E_F[t,x]](F{1}[E_F[t,x]](F{2}[E_F[t,x]](F[E_F[t,x]],F[E_F[t,x]])+F{1}[E_F[t,x]](F{1}[E_F[t,x]](F[E_F[t,x]])))+F{3}[E_F[t,x]](F[E_F[t,x]],F[E_F[t,x]],F[E_F[t,x]])+3F{2}[E_F[t,x]](F{1}[E_F[t,x]](F[E_F[t,x]]),F[E_F[t,x]]),F{1}[E_F[t,x]](F[E_F[t,x]]),F[E_F[t,x]],F[E_F[t,x]])+56F{4}[E_F[t,x]](3F{2}[E_F[t,x]](F{1}[E_F[t,x]](F[E_F[t,x]]),F{1}[E_F[t,x]](F[E_F[t,x]]))+4F{2}[E_F[t,x]](F{2}[E_F[t,x]](F[E_F[t,x]],F[E_F[t,x]])+F{1}[E_F[t,x]](F{1}[E_F[t,x]](F[E_F[t,x]])),F[E_F[t,x]])+F{1}[E_F[t,x]](F{1}[E_F[t,x]](F{2}[E_F[t,x]](F[E_F[t,x]],F[E_F[t,x]])+F{1}[E_F[t,x]](F{1}[E_F[t,x]](F[E_F[t,x]])))+F{3}[E_F[t,x]](F[E_F[t,x]],F[E_F[t,x]],F[E_F[t,x]])+3F{2}[E_F[t,x]](F{1}[E_F[t,x]](F[E_F[t,x]]),F[E_F[t,x]]))+6F{3}[E_F[t,x]](F{1}[E_F[t,x]](F[E_F[t,x]]),F[E_F[t,x]],F[E_F[t,x]])+F{4}[E_F[t,x]](F[E_F[t,x]],F[E_F[t,x]],F[E_F[t,x]],F[E_F[t,x]]),F[E_F[t,x]],F[E_F[t,x]],F[E_F[t,x]])+28F{2}[E_F[t,x]](15F{3}[E_F[t,x]](F{1}[E_F[t,x]](F[E_F[t,x]]),F{1}[E_F[t,x]](F[E_F[t,x]]),F[E_F[t,x]])+10F{3}[E_F[t,x]](F{2}[E_F[t,x]](F[E_F[t,x]],F[E_F[t,x]])+F{1}[E_F[t,x]](F{1}[E_F[t,x]](F[E_F[t,x]])),F[E_F[t,x]],F[E_F[t,x]])+10F{2}[E_F[t,x]](F{2}[E_F[t,x]](F[E_F[t,x]],F[E_F[t,x]])+F{1}[E_F[t,x]](F{1}[E_F[t,x]](F[E_F[t,x]])),F{1}[E_F[t,x]](F[E_F[t,x]]))+F{1}[E_F[t,x]](3F{2}[E_F[t,x]](F{1}[E_F[t,x]](F[E_F[t,x]]),F{1}[E_F[t,x]](F[E_F[t,x]]))+4F{2}[E_F[t,x]](F{2}[E_F[t,x]](F[E_F[t,x]],F[E_F[t,x]])+F{1}[E_F[t,x]](F{1}[E_F[t,x]](F[E_F[t,x]])),F[E_F[t,x]])+F{1}[E_F[t,x]](F{1}[E_F[t,x]](F{2}[E_F[t,x]](F[E_F[t,x]],F[E_F[t,x]])+F{1}[E_F[t,x]](F{1}[E_F[t,x]](F[E_F[t,x]])))+F{3}[E_F[t,x]](F[E_F[t,x]],F[E_F[t,x]],F[E_F[t,x]])+3F{2}[E_F[t,x]](F{1}[E_F[t,x]](F[E_F[t,x]]),F[E_F[t,x]]))+6F{3}[E_F[t,x]](F{1}[E_F[t,x]](F[E_F[t,x]]),F[E_F[t,x]],F[E_F[t,x]])+F{4}[E_F[t,x]](F[E_F[t,x]],F[E_F[t,x]],F[E_F[t,x]],F[E_F[t,x]]))+5F{2}[E_F[t,x]](F{1}[E_F[t,x]](F{2}[E_F[t,x]](F[E_F[t,x]],F[E_F[t,x]])+F{1}[E_F[t,x]](F{1}[E_F[t,x]](F[E_F[t,x]])))+F{3}[E_F[t,x]](F[E_F[t,x]],F[E_F[t,x]],F[E_F[t,x]])+3F{2}[E_F[t,x]](F{1}[E_F[t,x]](F[E_F[t,x]]),F[E_F[t,x]]),F[E_F[t,x]])+F{5}[E_F[t,x]](F[E_F[t,x]],F[E_F[t,x]],F[E_F[t,x]],F[E_F[t,x]],F[E_F[t,x]])+10F{4}[E_F[t,x]](F{1}[E_F[t,x]](F[E_F[t,x]]),F[E_F[t,x]],F[E_F[t,x]],F[E_F[t,x]]),F{1}[E_F[t,x]](F[E_F[t,x]]))+280F{4}[E_F[t,x]](F{2}[E_F[t,x]](F[E_F[t,x]],F[E_F[t,x]])+F{1}[E_F[t,x]](F{1}[E_F[t,x]](F[E_F[t,x]])),F{2}[E_F[t,x]](F[E_F[t,x]],F[E_F[t,x]])+F{1}[E_F[t,x]](F{1}[E_F[t,x]](F[E_F[t,x]])),F[E_F[t,x]],F[E_F[t,x]])+280F{3}[E_F[t,x]](F{1}[E_F[t,x]](F{2}[E_F[t,x]](F[E_F[t,x]],F[E_F[t,x]])+F{1}[E_F[t,x]](F{1}[E_F[t,x]](F[E_F[t,x]])))+F{3}[E_F[t,x]](F[E_F[t,x]],F[E_F[t,x]],F[E_F[t,x]])+3F{2}[E_F[t,x]](F{1}[E_F[t,x]](F[E_F[t,x]]),F[E_F[t,x]]),F{2}[E_F[t,x]](F[E_F[t,x]],F[E_F[t,x]])+F{1}[E_F[t,x]](F{1}[E_F[t,x]](F[E_F[t,x]])),F[E_F[t,x]])+F{8}[E_F[t,x]](F[E_F[t,x]],F[E_F[t,x]],F[E_F[t,x]],F[E_F[t,x]],F[E_F[t,x]],F[E_F[t,x]],F[E_F[t,x]],F[E_F[t,x]])+210F{6}[E_F[t,x]](F{1}[E_F[t,x]](F[E_F[t,x]]),F{1}[E_F[t,x]](F[E_F[t,x]]),F[E_F[t,x]],F[E_F[t,x]],F[E_F[t,x]],F[E_F[t,x]])+168F{3}[E_F[t,x]](3F{2}[E_F[t,x]](F{1}[E_F[t,x]](F[E_F[t,x]]),F{1}[E_F[t,x]](F[E_F[t,x]]))+4F{2}[E_F[t,x]](F{2}[E_F[t,x]](F[E_F[t,x]],F[E_F[t,x]])+F{1}[E_F[t,x]](F{1}[E_F[t,x]](F[E_F[t,x]])),F[E_F[t,x]])+F{1}[E_F[t,x]](F{1}[E_F[t,x]](F{2}[E_F[t,x]](F[E_F[t,x]],F[E_F[t,x]])+F{1}[E_F[t,x]](F{1}[E_F[t,x]](F[E_F[t,x]])))+F{3}[E_F[t,x]](F[E_F[t,x]],F[E_F[t,x]],F[E_F[t,x]])+3F{2}[E_F[t,x]](F{1}[E_F[t,x]](F[E_F[t,x]]),F[E_F[t,x]]))+6F{3}[E_F[t,x]](F{1}[E_F[t,x]](F[E_F[t,x]]),F[E_F[t,x]],F[E_F[t,x]])+F{4}[E_F[t,x]](F[E_F[t,x]],F[E_F[t,x]],F[E_F[t,x]],F[E_F[t,x]]),F{1}[E_F[t,x]](F[E_F[t,x]]),F[E_F[t,x]])+28F{3}[E_F[t,x]](15F{3}[E_F[t,x]](F{1}[E_F[t,x]](F[E_F[t,x]]),F{1}[E_F[t,x]](F[E_F[t,x]]),F[E_F[t,x]])+10F{3}[E_F[t,x]](F{2}[E_F[t,x]](F[E_F[t,x]],F[E_F[t,x]])+F{1}[E_F[t,x]](F{1}[E_F[t,x]](F[E_F[t,x]])),F[E_F[t,x]],F[E_F[t,x]])+10F{2}[E_F[t,x]](F{2}[E_F[t,x]](F[E_F[t,x]],F[E_F[t,x]])+F{1}[E_F[t,x]](F{1}[E_F[t,x]](F[E_F[t,x]])),F{1}[E_F[t,x]](F[E_F[t,x]]))+F{1}[E_F[t,x]](3F{2}[E_F[t,x]](F{1}[E_F[t,x]](F[E_F[t,x]]),F{1}[E_F[t,x]](F[E_F[t,x]]))+4F{2}[E_F[t,x]](F{2}[E_F[t,x]](F[E_F[t,x]],F[E_F[t,x]])+F{1}[E_F[t,x]](F{1}[E_F[t,x]](F[E_F[t,x]])),F[E_F[t,x]])+F{1}[E_F[t,x]](F{1}[E_F[t,x]](F{2}[E_F[t,x]](F[E_F[t,x]],F[E_F[t,x]])+F{1}[E_F[t,x]](F{1}[E_F[t,x]](F[E_F[t,x]])))+F{3}[E_F[t,x]](F[E_F[t,x]],F[E_F[t,x]],F[E_F[t,x]])+3F{2}[E_F[t,x]](F{1}[E_F[t,x]](F[E_F[t,x]]),F[E_F[t,x]]))+6F{3}[E_F[t,x]](F{1}[E_F[t,x]](F[E_F[t,x]]),F[E_F[t,x]],F[E_F[t,x]])+F{4}[E_F[t,x]](F[E_F[t,x]],F[E_F[t,x]],F[E_F[t,x]],F[E_F[t,x]]))+5F{2}[E_F[t,x]](F{1}[E_F[t,x]](F{2}[E_F[t,x]](F[E_F[t,x]],F[E_F[t,x]])+F{1}[E_F[t,x]](F{1}[E_F[t,x]](F[E_F[t,x]])))+F{3}[E_F[t,x]](F[E_F[t,x]],F[E_F[t,x]],F[E_F[t,x]])+3F{2}[E_F[t,x]](F{1}[E_F[t,x]](F[E_F[t,x]]),F[E_F[t,x]]),F[E_F[t,x]])+F{5}[E_F[t,x]](F[E_F[t,x]],F[E_F[t,x]],F[E_F[t,x]],F[E_F[t,x]],F[E_F[t,x]])+10F{4}[E_F[t,x]](F{1}[E_F[t,x]](F[E_F[t,x]]),F[E_F[t,x]],F[E_F[t,x]],F[E_F[t,x]]),F[E_F[t,x]],F[E_F[t,x]])+105F{4}[E_F[t,x]](F{1}[E_F[t,x]](F[E_F[t,x]]),F{1}[E_F[t,x]](F[E_F[t,x]]),F{1}[E_F[t,x]](F[E_F[t,x]]),F{1}[E_F[t,x]](F[E_F[t,x]]))"
     ]
    }
   ],
   "source": [
    "ex = t_derivative(ex, t)\n",
    "print(ex) # Here the LaTeX output of jupyter gives up..."
   ]
  }
 ],
 "metadata": {
  "kernelspec": {
   "display_name": "Julia 0.4",
   "language": "julia",
   "name": "julia-0.4"
  },
  "language_info": {
   "file_extension": ".jl",
   "mimetype": "application/julia",
   "name": "julia",
   "version": "0.4.5"
  }
 },
 "nbformat": 4,
 "nbformat_minor": 0
}
