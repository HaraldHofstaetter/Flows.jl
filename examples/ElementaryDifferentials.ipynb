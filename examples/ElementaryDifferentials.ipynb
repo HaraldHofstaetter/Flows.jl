{
 "cells": [
  {
   "cell_type": "markdown",
   "metadata": {},
   "source": [
    "# Elementary differentials"
   ]
  },
  {
   "cell_type": "code",
   "execution_count": 1,
   "metadata": {
    "collapsed": false
   },
   "outputs": [],
   "source": [
    "using Flows"
   ]
  },
  {
   "cell_type": "code",
   "execution_count": 2,
   "metadata": {
    "collapsed": false
   },
   "outputs": [
    {
     "data": {
      "text/plain": [
       "(F,)"
      ]
     },
     "execution_count": 2,
     "metadata": {},
     "output_type": "execute_result"
    }
   ],
   "source": [
    "@t_vars t\n",
    "@x_vars u\n",
    "@funs F"
   ]
  },
  {
   "cell_type": "code",
   "execution_count": 3,
   "metadata": {
    "collapsed": false
   },
   "outputs": [
    {
     "data": {
      "text/latex": [
       "$\\mathcal{E}_{F}(t,u)$"
      ],
      "text/plain": [
       "E_F[t,u]"
      ]
     },
     "execution_count": 3,
     "metadata": {},
     "output_type": "execute_result"
    }
   ],
   "source": [
    "ex = E(F,t,u)"
   ]
  },
  {
   "cell_type": "code",
   "execution_count": 4,
   "metadata": {
    "collapsed": false
   },
   "outputs": [
    {
     "data": {
      "text/latex": [
       "$F(\\mathcal{E}_{F}(t,u))$"
      ],
      "text/plain": [
       "F[E_F[t,u]]"
      ]
     },
     "execution_count": 4,
     "metadata": {},
     "output_type": "execute_result"
    }
   ],
   "source": [
    "ex = t_derivative(ex, t)"
   ]
  },
  {
   "cell_type": "code",
   "execution_count": 5,
   "metadata": {
    "collapsed": false
   },
   "outputs": [
    {
     "data": {
      "text/latex": [
       "$F'(\\mathcal{E}_{F}(t,u))\\cdot F(\\mathcal{E}_{F}(t,u))$"
      ],
      "text/plain": [
       "F{1}[E_F[t,u]](F[E_F[t,u]])"
      ]
     },
     "execution_count": 5,
     "metadata": {},
     "output_type": "execute_result"
    }
   ],
   "source": [
    "ex = t_derivative(ex, t)"
   ]
  },
  {
   "cell_type": "code",
   "execution_count": 6,
   "metadata": {
    "collapsed": false
   },
   "outputs": [
    {
     "data": {
      "text/latex": [
       "$F'(\\mathcal{E}_{F}(t,u))\\cdot F'(\\mathcal{E}_{F}(t,u))\\cdot F(\\mathcal{E}_{F}(t,u))+F''(\\mathcal{E}_{F}(t,u))(F(\\mathcal{E}_{F}(t,u)),F(\\mathcal{E}_{F}(t,u)))$"
      ],
      "text/plain": [
       "F{1}[E_F[t,u]](F{1}[E_F[t,u]](F[E_F[t,u]]))+F{2}[E_F[t,u]](F[E_F[t,u]],F[E_F[t,u]])"
      ]
     },
     "execution_count": 6,
     "metadata": {},
     "output_type": "execute_result"
    }
   ],
   "source": [
    "ex = t_derivative(ex, t)"
   ]
  },
  {
   "cell_type": "code",
   "execution_count": 7,
   "metadata": {
    "collapsed": false,
    "scrolled": true
   },
   "outputs": [
    {
     "data": {
      "text/latex": [
       "$3F''(\\mathcal{E}_{F}(t,u))(F'(\\mathcal{E}_{F}(t,u))\\cdot F(\\mathcal{E}_{F}(t,u)),F(\\mathcal{E}_{F}(t,u)))+F'''(\\mathcal{E}_{F}(t,u))(F(\\mathcal{E}_{F}(t,u)),F(\\mathcal{E}_{F}(t,u)),F(\\mathcal{E}_{F}(t,u)))+F'(\\mathcal{E}_{F}(t,u))\\cdot (F'(\\mathcal{E}_{F}(t,u))\\cdot F'(\\mathcal{E}_{F}(t,u))\\cdot F(\\mathcal{E}_{F}(t,u))+F''(\\mathcal{E}_{F}(t,u))(F(\\mathcal{E}_{F}(t,u)),F(\\mathcal{E}_{F}(t,u))))$"
      ],
      "text/plain": [
       "3F{2}[E_F[t,u]](F{1}[E_F[t,u]](F[E_F[t,u]]),F[E_F[t,u]])+F{3}[E_F[t,u]](F[E_F[t,u]],F[E_F[t,u]],F[E_F[t,u]])+F{1}[E_F[t,u]](F{1}[E_F[t,u]](F{1}[E_F[t,u]](F[E_F[t,u]]))+F{2}[E_F[t,u]](F[E_F[t,u]],F[E_F[t,u]]))"
      ]
     },
     "execution_count": 7,
     "metadata": {},
     "output_type": "execute_result"
    }
   ],
   "source": [
    "ex = t_derivative(ex,t )"
   ]
  },
  {
   "cell_type": "markdown",
   "metadata": {},
   "source": [
    "The last expression is not fully expanded, it is a linear combination consisting of 3 terms:"
   ]
  },
  {
   "cell_type": "code",
   "execution_count": 8,
   "metadata": {
    "collapsed": false
   },
   "outputs": [
    {
     "data": {
      "text/plain": [
       "3"
      ]
     },
     "execution_count": 8,
     "metadata": {},
     "output_type": "execute_result"
    }
   ],
   "source": [
    "length(ex.terms)"
   ]
  },
  {
   "cell_type": "markdown",
   "metadata": {},
   "source": [
    "If we expand it, we obtain a linear combination of 4 terms, corresponding to the 4 elementary differentials (Butcher trees) of order 4:"
   ]
  },
  {
   "cell_type": "code",
   "execution_count": 9,
   "metadata": {
    "collapsed": false
   },
   "outputs": [
    {
     "data": {
      "text/latex": [
       "$3F''(\\mathcal{E}_{F}(t,u))(F'(\\mathcal{E}_{F}(t,u))\\cdot F(\\mathcal{E}_{F}(t,u)),F(\\mathcal{E}_{F}(t,u)))+F'(\\mathcal{E}_{F}(t,u))\\cdot F'(\\mathcal{E}_{F}(t,u))\\cdot F'(\\mathcal{E}_{F}(t,u))\\cdot F(\\mathcal{E}_{F}(t,u))+F'''(\\mathcal{E}_{F}(t,u))(F(\\mathcal{E}_{F}(t,u)),F(\\mathcal{E}_{F}(t,u)),F(\\mathcal{E}_{F}(t,u)))+F'(\\mathcal{E}_{F}(t,u))\\cdot F''(\\mathcal{E}_{F}(t,u))(F(\\mathcal{E}_{F}(t,u)),F(\\mathcal{E}_{F}(t,u)))$"
      ],
      "text/plain": [
       "3F{2}[E_F[t,u]](F{1}[E_F[t,u]](F[E_F[t,u]]),F[E_F[t,u]])+F{1}[E_F[t,u]](F{1}[E_F[t,u]](F{1}[E_F[t,u]](F[E_F[t,u]])))+F{3}[E_F[t,u]](F[E_F[t,u]],F[E_F[t,u]],F[E_F[t,u]])+F{1}[E_F[t,u]](F{2}[E_F[t,u]](F[E_F[t,u]],F[E_F[t,u]]))"
      ]
     },
     "execution_count": 9,
     "metadata": {},
     "output_type": "execute_result"
    }
   ],
   "source": [
    "ex = expand(ex)"
   ]
  },
  {
   "cell_type": "code",
   "execution_count": 10,
   "metadata": {
    "collapsed": false
   },
   "outputs": [
    {
     "data": {
      "text/plain": [
       "4"
      ]
     },
     "execution_count": 10,
     "metadata": {},
     "output_type": "execute_result"
    }
   ],
   "source": [
    "length(ex.terms)"
   ]
  },
  {
   "cell_type": "code",
   "execution_count": 11,
   "metadata": {
    "collapsed": false
   },
   "outputs": [
    {
     "data": {
      "text/latex": [
       "$F'(\\mathcal{E}_{F}(t,u))\\cdot F'''(\\mathcal{E}_{F}(t,u))(F(\\mathcal{E}_{F}(t,u)),F(\\mathcal{E}_{F}(t,u)),F(\\mathcal{E}_{F}(t,u)))+3F'(\\mathcal{E}_{F}(t,u))\\cdot F''(\\mathcal{E}_{F}(t,u))(F'(\\mathcal{E}_{F}(t,u))\\cdot F(\\mathcal{E}_{F}(t,u)),F(\\mathcal{E}_{F}(t,u)))+F'(\\mathcal{E}_{F}(t,u))\\cdot F'(\\mathcal{E}_{F}(t,u))\\cdot F'(\\mathcal{E}_{F}(t,u))\\cdot F'(\\mathcal{E}_{F}(t,u))\\cdot F(\\mathcal{E}_{F}(t,u))+F'(\\mathcal{E}_{F}(t,u))\\cdot F'(\\mathcal{E}_{F}(t,u))\\cdot F''(\\mathcal{E}_{F}(t,u))(F(\\mathcal{E}_{F}(t,u)),F(\\mathcal{E}_{F}(t,u)))+F^{(4)}(\\mathcal{E}_{F}(t,u))(F(\\mathcal{E}_{F}(t,u)),F(\\mathcal{E}_{F}(t,u)),F(\\mathcal{E}_{F}(t,u)),F(\\mathcal{E}_{F}(t,u)))+4F''(\\mathcal{E}_{F}(t,u))(F''(\\mathcal{E}_{F}(t,u))(F(\\mathcal{E}_{F}(t,u)),F(\\mathcal{E}_{F}(t,u))),F(\\mathcal{E}_{F}(t,u)))+4F''(\\mathcal{E}_{F}(t,u))(F'(\\mathcal{E}_{F}(t,u))\\cdot F'(\\mathcal{E}_{F}(t,u))\\cdot F(\\mathcal{E}_{F}(t,u)),F(\\mathcal{E}_{F}(t,u)))+6F'''(\\mathcal{E}_{F}(t,u))(F'(\\mathcal{E}_{F}(t,u))\\cdot F(\\mathcal{E}_{F}(t,u)),F(\\mathcal{E}_{F}(t,u)),F(\\mathcal{E}_{F}(t,u)))+3F''(\\mathcal{E}_{F}(t,u))(F'(\\mathcal{E}_{F}(t,u))\\cdot F(\\mathcal{E}_{F}(t,u)),F'(\\mathcal{E}_{F}(t,u))\\cdot F(\\mathcal{E}_{F}(t,u)))$"
      ],
      "text/plain": [
       "F{1}[E_F[t,u]](F{3}[E_F[t,u]](F[E_F[t,u]],F[E_F[t,u]],F[E_F[t,u]]))+3F{1}[E_F[t,u]](F{2}[E_F[t,u]](F{1}[E_F[t,u]](F[E_F[t,u]]),F[E_F[t,u]]))+F{1}[E_F[t,u]](F{1}[E_F[t,u]](F{1}[E_F[t,u]](F{1}[E_F[t,u]](F[E_F[t,u]]))))+F{1}[E_F[t,u]](F{1}[E_F[t,u]](F{2}[E_F[t,u]](F[E_F[t,u]],F[E_F[t,u]])))+F{4}[E_F[t,u]](F[E_F[t,u]],F[E_F[t,u]],F[E_F[t,u]],F[E_F[t,u]])+4F{2}[E_F[t,u]](F{2}[E_F[t,u]](F[E_F[t,u]],F[E_F[t,u]]),F[E_F[t,u]])+4F{2}[E_F[t,u]](F{1}[E_F[t,u]](F{1}[E_F[t,u]](F[E_F[t,u]])),F[E_F[t,u]])+6F{3}[E_F[t,u]](F{1}[E_F[t,u]](F[E_F[t,u]]),F[E_F[t,u]],F[E_F[t,u]])+3F{2}[E_F[t,u]](F{1}[E_F[t,u]](F[E_F[t,u]]),F{1}[E_F[t,u]](F[E_F[t,u]]))"
      ]
     },
     "execution_count": 11,
     "metadata": {},
     "output_type": "execute_result"
    }
   ],
   "source": [
    "ex = expand(t_derivative(ex, t))"
   ]
  },
  {
   "cell_type": "code",
   "execution_count": 12,
   "metadata": {
    "collapsed": false
   },
   "outputs": [
    {
     "data": {
      "text/plain": [
       "9"
      ]
     },
     "execution_count": 12,
     "metadata": {},
     "output_type": "execute_result"
    }
   ],
   "source": [
    "length(ex.terms)"
   ]
  },
  {
   "cell_type": "code",
   "execution_count": 13,
   "metadata": {
    "collapsed": false,
    "scrolled": true
   },
   "outputs": [
    {
     "data": {
      "text/latex": [
       "$10F''(\\mathcal{E}_{F}(t,u))(F''(\\mathcal{E}_{F}(t,u))(F(\\mathcal{E}_{F}(t,u)),F(\\mathcal{E}_{F}(t,u))),F'(\\mathcal{E}_{F}(t,u))\\cdot F(\\mathcal{E}_{F}(t,u)))+3F'(\\mathcal{E}_{F}(t,u))\\cdot F'(\\mathcal{E}_{F}(t,u))\\cdot F''(\\mathcal{E}_{F}(t,u))(F'(\\mathcal{E}_{F}(t,u))\\cdot F(\\mathcal{E}_{F}(t,u)),F(\\mathcal{E}_{F}(t,u)))+5F''(\\mathcal{E}_{F}(t,u))(F'(\\mathcal{E}_{F}(t,u))\\cdot F'(\\mathcal{E}_{F}(t,u))\\cdot F'(\\mathcal{E}_{F}(t,u))\\cdot F(\\mathcal{E}_{F}(t,u)),F(\\mathcal{E}_{F}(t,u)))+10F''(\\mathcal{E}_{F}(t,u))(F'(\\mathcal{E}_{F}(t,u))\\cdot F'(\\mathcal{E}_{F}(t,u))\\cdot F(\\mathcal{E}_{F}(t,u)),F'(\\mathcal{E}_{F}(t,u))\\cdot F(\\mathcal{E}_{F}(t,u)))+4F'(\\mathcal{E}_{F}(t,u))\\cdot F''(\\mathcal{E}_{F}(t,u))(F'(\\mathcal{E}_{F}(t,u))\\cdot F'(\\mathcal{E}_{F}(t,u))\\cdot F(\\mathcal{E}_{F}(t,u)),F(\\mathcal{E}_{F}(t,u)))+15F'''(\\mathcal{E}_{F}(t,u))(F'(\\mathcal{E}_{F}(t,u))\\cdot F(\\mathcal{E}_{F}(t,u)),F'(\\mathcal{E}_{F}(t,u))\\cdot F(\\mathcal{E}_{F}(t,u)),F(\\mathcal{E}_{F}(t,u)))+F'(\\mathcal{E}_{F}(t,u))\\cdot F'(\\mathcal{E}_{F}(t,u))\\cdot F'(\\mathcal{E}_{F}(t,u))\\cdot F'(\\mathcal{E}_{F}(t,u))\\cdot F'(\\mathcal{E}_{F}(t,u))\\cdot F(\\mathcal{E}_{F}(t,u))+10F'''(\\mathcal{E}_{F}(t,u))(F''(\\mathcal{E}_{F}(t,u))(F(\\mathcal{E}_{F}(t,u)),F(\\mathcal{E}_{F}(t,u))),F(\\mathcal{E}_{F}(t,u)),F(\\mathcal{E}_{F}(t,u)))+3F'(\\mathcal{E}_{F}(t,u))\\cdot F''(\\mathcal{E}_{F}(t,u))(F'(\\mathcal{E}_{F}(t,u))\\cdot F(\\mathcal{E}_{F}(t,u)),F'(\\mathcal{E}_{F}(t,u))\\cdot F(\\mathcal{E}_{F}(t,u)))+F^{(5)}(\\mathcal{E}_{F}(t,u))(F(\\mathcal{E}_{F}(t,u)),F(\\mathcal{E}_{F}(t,u)),F(\\mathcal{E}_{F}(t,u)),F(\\mathcal{E}_{F}(t,u)),F(\\mathcal{E}_{F}(t,u)))+F'(\\mathcal{E}_{F}(t,u))\\cdot F'(\\mathcal{E}_{F}(t,u))\\cdot F'(\\mathcal{E}_{F}(t,u))\\cdot F''(\\mathcal{E}_{F}(t,u))(F(\\mathcal{E}_{F}(t,u)),F(\\mathcal{E}_{F}(t,u)))+5F''(\\mathcal{E}_{F}(t,u))(F'''(\\mathcal{E}_{F}(t,u))(F(\\mathcal{E}_{F}(t,u)),F(\\mathcal{E}_{F}(t,u)),F(\\mathcal{E}_{F}(t,u))),F(\\mathcal{E}_{F}(t,u)))+5F''(\\mathcal{E}_{F}(t,u))(F'(\\mathcal{E}_{F}(t,u))\\cdot F''(\\mathcal{E}_{F}(t,u))(F(\\mathcal{E}_{F}(t,u)),F(\\mathcal{E}_{F}(t,u))),F(\\mathcal{E}_{F}(t,u)))+6F'(\\mathcal{E}_{F}(t,u))\\cdot F'''(\\mathcal{E}_{F}(t,u))(F'(\\mathcal{E}_{F}(t,u))\\cdot F(\\mathcal{E}_{F}(t,u)),F(\\mathcal{E}_{F}(t,u)),F(\\mathcal{E}_{F}(t,u)))+10F^{(4)}(\\mathcal{E}_{F}(t,u))(F'(\\mathcal{E}_{F}(t,u))\\cdot F(\\mathcal{E}_{F}(t,u)),F(\\mathcal{E}_{F}(t,u)),F(\\mathcal{E}_{F}(t,u)),F(\\mathcal{E}_{F}(t,u)))+F'(\\mathcal{E}_{F}(t,u))\\cdot F^{(4)}(\\mathcal{E}_{F}(t,u))(F(\\mathcal{E}_{F}(t,u)),F(\\mathcal{E}_{F}(t,u)),F(\\mathcal{E}_{F}(t,u)),F(\\mathcal{E}_{F}(t,u)))+F'(\\mathcal{E}_{F}(t,u))\\cdot F'(\\mathcal{E}_{F}(t,u))\\cdot F'''(\\mathcal{E}_{F}(t,u))(F(\\mathcal{E}_{F}(t,u)),F(\\mathcal{E}_{F}(t,u)),F(\\mathcal{E}_{F}(t,u)))+4F'(\\mathcal{E}_{F}(t,u))\\cdot F''(\\mathcal{E}_{F}(t,u))(F''(\\mathcal{E}_{F}(t,u))(F(\\mathcal{E}_{F}(t,u)),F(\\mathcal{E}_{F}(t,u))),F(\\mathcal{E}_{F}(t,u)))+15F''(\\mathcal{E}_{F}(t,u))(F''(\\mathcal{E}_{F}(t,u))(F'(\\mathcal{E}_{F}(t,u))\\cdot F(\\mathcal{E}_{F}(t,u)),F(\\mathcal{E}_{F}(t,u))),F(\\mathcal{E}_{F}(t,u)))+10F'''(\\mathcal{E}_{F}(t,u))(F'(\\mathcal{E}_{F}(t,u))\\cdot F'(\\mathcal{E}_{F}(t,u))\\cdot F(\\mathcal{E}_{F}(t,u)),F(\\mathcal{E}_{F}(t,u)),F(\\mathcal{E}_{F}(t,u)))$"
      ],
      "text/plain": [
       "10F{2}[E_F[t,u]](F{2}[E_F[t,u]](F[E_F[t,u]],F[E_F[t,u]]),F{1}[E_F[t,u]](F[E_F[t,u]]))+3F{1}[E_F[t,u]](F{1}[E_F[t,u]](F{2}[E_F[t,u]](F{1}[E_F[t,u]](F[E_F[t,u]]),F[E_F[t,u]])))+5F{2}[E_F[t,u]](F{1}[E_F[t,u]](F{1}[E_F[t,u]](F{1}[E_F[t,u]](F[E_F[t,u]]))),F[E_F[t,u]])+10F{2}[E_F[t,u]](F{1}[E_F[t,u]](F{1}[E_F[t,u]](F[E_F[t,u]])),F{1}[E_F[t,u]](F[E_F[t,u]]))+4F{1}[E_F[t,u]](F{2}[E_F[t,u]](F{1}[E_F[t,u]](F{1}[E_F[t,u]](F[E_F[t,u]])),F[E_F[t,u]]))+15F{3}[E_F[t,u]](F{1}[E_F[t,u]](F[E_F[t,u]]),F{1}[E_F[t,u]](F[E_F[t,u]]),F[E_F[t,u]])+F{1}[E_F[t,u]](F{1}[E_F[t,u]](F{1}[E_F[t,u]](F{1}[E_F[t,u]](F{1}[E_F[t,u]](F[E_F[t,u]])))))+10F{3}[E_F[t,u]](F{2}[E_F[t,u]](F[E_F[t,u]],F[E_F[t,u]]),F[E_F[t,u]],F[E_F[t,u]])+3F{1}[E_F[t,u]](F{2}[E_F[t,u]](F{1}[E_F[t,u]](F[E_F[t,u]]),F{1}[E_F[t,u]](F[E_F[t,u]])))+F{5}[E_F[t,u]](F[E_F[t,u]],F[E_F[t,u]],F[E_F[t,u]],F[E_F[t,u]],F[E_F[t,u]])+F{1}[E_F[t,u]](F{1}[E_F[t,u]](F{1}[E_F[t,u]](F{2}[E_F[t,u]](F[E_F[t,u]],F[E_F[t,u]]))))+5F{2}[E_F[t,u]](F{3}[E_F[t,u]](F[E_F[t,u]],F[E_F[t,u]],F[E_F[t,u]]),F[E_F[t,u]])+5F{2}[E_F[t,u]](F{1}[E_F[t,u]](F{2}[E_F[t,u]](F[E_F[t,u]],F[E_F[t,u]])),F[E_F[t,u]])+6F{1}[E_F[t,u]](F{3}[E_F[t,u]](F{1}[E_F[t,u]](F[E_F[t,u]]),F[E_F[t,u]],F[E_F[t,u]]))+10F{4}[E_F[t,u]](F{1}[E_F[t,u]](F[E_F[t,u]]),F[E_F[t,u]],F[E_F[t,u]],F[E_F[t,u]])+F{1}[E_F[t,u]](F{4}[E_F[t,u]](F[E_F[t,u]],F[E_F[t,u]],F[E_F[t,u]],F[E_F[t,u]]))+F{1}[E_F[t,u]](F{1}[E_F[t,u]](F{3}[E_F[t,u]](F[E_F[t,u]],F[E_F[t,u]],F[E_F[t,u]])))+4F{1}[E_F[t,u]](F{2}[E_F[t,u]](F{2}[E_F[t,u]](F[E_F[t,u]],F[E_F[t,u]]),F[E_F[t,u]]))+15F{2}[E_F[t,u]](F{2}[E_F[t,u]](F{1}[E_F[t,u]](F[E_F[t,u]]),F[E_F[t,u]]),F[E_F[t,u]])+10F{3}[E_F[t,u]](F{1}[E_F[t,u]](F{1}[E_F[t,u]](F[E_F[t,u]])),F[E_F[t,u]],F[E_F[t,u]])"
      ]
     },
     "execution_count": 13,
     "metadata": {},
     "output_type": "execute_result"
    }
   ],
   "source": [
    "ex = expand(t_derivative(ex, t))"
   ]
  },
  {
   "cell_type": "code",
   "execution_count": 14,
   "metadata": {
    "collapsed": false
   },
   "outputs": [
    {
     "data": {
      "text/plain": [
       "20"
      ]
     },
     "execution_count": 14,
     "metadata": {},
     "output_type": "execute_result"
    }
   ],
   "source": [
    "length(ex.terms)"
   ]
  },
  {
   "cell_type": "code",
   "execution_count": 15,
   "metadata": {
    "collapsed": false
   },
   "outputs": [
    {
     "name": "stdout",
     "output_type": "stream",
     "text": [
      "20F{2}[E_F[t,u]](F{1}[E_F[t,u]](F{1}[E_F[t,u]](F[E_F[t,u]])),F{2}[E_F[t,u]](F[E_F[t,u]],F[E_F[t,u]]))+18F{2}[E_F[t,u]](F{1}[E_F[t,u]](F{2}[E_F[t,u]](F{1}[E_F[t,u]](F[E_F[t,u]]),F[E_F[t,u]])),F[E_F[t,u]])+15F{2}[E_F[t,u]](F{1}[E_F[t,u]](F{2}[E_F[t,u]](F[E_F[t,u]],F[E_F[t,u]])),F{1}[E_F[t,u]](F[E_F[t,u]]))+45F{4}[E_F[t,u]](F{1}[E_F[t,u]](F[E_F[t,u]]),F{1}[E_F[t,u]](F[E_F[t,u]]),F[E_F[t,u]],F[E_F[t,u]])+15F{3}[E_F[t,u]](F{3}[E_F[t,u]](F[E_F[t,u]],F[E_F[t,u]],F[E_F[t,u]]),F[E_F[t,u]],F[E_F[t,u]])+5F{1}[E_F[t,u]](F{2}[E_F[t,u]](F{1}[E_F[t,u]](F{2}[E_F[t,u]](F[E_F[t,u]],F[E_F[t,u]])),F[E_F[t,u]]))+10F{1}[E_F[t,u]](F{3}[E_F[t,u]](F{2}[E_F[t,u]](F[E_F[t,u]],F[E_F[t,u]]),F[E_F[t,u]],F[E_F[t,u]]))+F{1}[E_F[t,u]](F{5}[E_F[t,u]](F[E_F[t,u]],F[E_F[t,u]],F[E_F[t,u]],F[E_F[t,u]],F[E_F[t,u]]))+15F{3}[E_F[t,u]](F{1}[E_F[t,u]](F{2}[E_F[t,u]](F[E_F[t,u]],F[E_F[t,u]])),F[E_F[t,u]],F[E_F[t,u]])+15F{3}[E_F[t,u]](F{1}[E_F[t,u]](F{1}[E_F[t,u]](F{1}[E_F[t,u]](F[E_F[t,u]]))),F[E_F[t,u]],F[E_F[t,u]])+10F{1}[E_F[t,u]](F{4}[E_F[t,u]](F{1}[E_F[t,u]](F[E_F[t,u]]),F[E_F[t,u]],F[E_F[t,u]],F[E_F[t,u]]))+45F{2}[E_F[t,u]](F{2}[E_F[t,u]](F{1}[E_F[t,u]](F[E_F[t,u]]),F[E_F[t,u]]),F{1}[E_F[t,u]](F[E_F[t,u]]))+15F{1}[E_F[t,u]](F{3}[E_F[t,u]](F{1}[E_F[t,u]](F[E_F[t,u]]),F{1}[E_F[t,u]](F[E_F[t,u]]),F[E_F[t,u]]))+6F{2}[E_F[t,u]](F{4}[E_F[t,u]](F[E_F[t,u]],F[E_F[t,u]],F[E_F[t,u]],F[E_F[t,u]]),F[E_F[t,u]])+18F{2}[E_F[t,u]](F{2}[E_F[t,u]](F{1}[E_F[t,u]](F[E_F[t,u]]),F{1}[E_F[t,u]](F[E_F[t,u]])),F[E_F[t,u]])+15F{2}[E_F[t,u]](F{3}[E_F[t,u]](F[E_F[t,u]],F[E_F[t,u]],F[E_F[t,u]]),F{1}[E_F[t,u]](F[E_F[t,u]]))+F{1}[E_F[t,u]](F{1}[E_F[t,u]](F{1}[E_F[t,u]](F{1}[E_F[t,u]](F{1}[E_F[t,u]](F{1}[E_F[t,u]](F[E_F[t,u]]))))))+4F{1}[E_F[t,u]](F{1}[E_F[t,u]](F{2}[E_F[t,u]](F{1}[E_F[t,u]](F{1}[E_F[t,u]](F[E_F[t,u]])),F[E_F[t,u]])))+20F{4}[E_F[t,u]](F{2}[E_F[t,u]](F[E_F[t,u]],F[E_F[t,u]]),F[E_F[t,u]],F[E_F[t,u]],F[E_F[t,u]])+5F{1}[E_F[t,u]](F{2}[E_F[t,u]](F{1}[E_F[t,u]](F{1}[E_F[t,u]](F{1}[E_F[t,u]](F[E_F[t,u]]))),F[E_F[t,u]]))+60F{3}[E_F[t,u]](F{2}[E_F[t,u]](F[E_F[t,u]],F[E_F[t,u]]),F{1}[E_F[t,u]](F[E_F[t,u]]),F[E_F[t,u]])+3F{1}[E_F[t,u]](F{1}[E_F[t,u]](F{2}[E_F[t,u]](F{1}[E_F[t,u]](F[E_F[t,u]]),F{1}[E_F[t,u]](F[E_F[t,u]]))))+10F{1}[E_F[t,u]](F{2}[E_F[t,u]](F{1}[E_F[t,u]](F{1}[E_F[t,u]](F[E_F[t,u]])),F{1}[E_F[t,u]](F[E_F[t,u]])))+F{1}[E_F[t,u]](F{1}[E_F[t,u]](F{4}[E_F[t,u]](F[E_F[t,u]],F[E_F[t,u]],F[E_F[t,u]],F[E_F[t,u]])))+4F{1}[E_F[t,u]](F{1}[E_F[t,u]](F{2}[E_F[t,u]](F{2}[E_F[t,u]](F[E_F[t,u]],F[E_F[t,u]]),F[E_F[t,u]])))+20F{4}[E_F[t,u]](F{1}[E_F[t,u]](F{1}[E_F[t,u]](F[E_F[t,u]])),F[E_F[t,u]],F[E_F[t,u]],F[E_F[t,u]])+6F{2}[E_F[t,u]](F{1}[E_F[t,u]](F{3}[E_F[t,u]](F[E_F[t,u]],F[E_F[t,u]],F[E_F[t,u]])),F[E_F[t,u]])+10F{1}[E_F[t,u]](F{2}[E_F[t,u]](F{2}[E_F[t,u]](F[E_F[t,u]],F[E_F[t,u]]),F{1}[E_F[t,u]](F[E_F[t,u]])))+F{1}[E_F[t,u]](F{1}[E_F[t,u]](F{1}[E_F[t,u]](F{1}[E_F[t,u]](F{2}[E_F[t,u]](F[E_F[t,u]],F[E_F[t,u]])))))+60F{3}[E_F[t,u]](F{1}[E_F[t,u]](F{1}[E_F[t,u]](F[E_F[t,u]])),F{1}[E_F[t,u]](F[E_F[t,u]]),F[E_F[t,u]])+24F{2}[E_F[t,u]](F{2}[E_F[t,u]](F{2}[E_F[t,u]](F[E_F[t,u]],F[E_F[t,u]]),F[E_F[t,u]]),F[E_F[t,u]])+10F{1}[E_F[t,u]](F{3}[E_F[t,u]](F{1}[E_F[t,u]](F{1}[E_F[t,u]](F[E_F[t,u]])),F[E_F[t,u]],F[E_F[t,u]]))+10F{2}[E_F[t,u]](F{1}[E_F[t,u]](F{1}[E_F[t,u]](F[E_F[t,u]])),F{1}[E_F[t,u]](F{1}[E_F[t,u]](F[E_F[t,u]])))+45F{3}[E_F[t,u]](F{2}[E_F[t,u]](F{1}[E_F[t,u]](F[E_F[t,u]]),F[E_F[t,u]]),F[E_F[t,u]],F[E_F[t,u]])+5F{1}[E_F[t,u]](F{2}[E_F[t,u]](F{3}[E_F[t,u]](F[E_F[t,u]],F[E_F[t,u]],F[E_F[t,u]]),F[E_F[t,u]]))+24F{2}[E_F[t,u]](F{2}[E_F[t,u]](F{1}[E_F[t,u]](F{1}[E_F[t,u]](F[E_F[t,u]])),F[E_F[t,u]]),F[E_F[t,u]])+F{1}[E_F[t,u]](F{1}[E_F[t,u]](F{1}[E_F[t,u]](F{3}[E_F[t,u]](F[E_F[t,u]],F[E_F[t,u]],F[E_F[t,u]]))))+6F{2}[E_F[t,u]](F{1}[E_F[t,u]](F{1}[E_F[t,u]](F{2}[E_F[t,u]](F[E_F[t,u]],F[E_F[t,u]]))),F[E_F[t,u]])+6F{1}[E_F[t,u]](F{1}[E_F[t,u]](F{3}[E_F[t,u]](F{1}[E_F[t,u]](F[E_F[t,u]]),F[E_F[t,u]],F[E_F[t,u]])))+15F{2}[E_F[t,u]](F{1}[E_F[t,u]](F{1}[E_F[t,u]](F{1}[E_F[t,u]](F[E_F[t,u]]))),F{1}[E_F[t,u]](F[E_F[t,u]]))+15F{3}[E_F[t,u]](F{1}[E_F[t,u]](F[E_F[t,u]]),F{1}[E_F[t,u]](F[E_F[t,u]]),F{1}[E_F[t,u]](F[E_F[t,u]]))+15F{5}[E_F[t,u]](F{1}[E_F[t,u]](F[E_F[t,u]]),F[E_F[t,u]],F[E_F[t,u]],F[E_F[t,u]],F[E_F[t,u]])+3F{1}[E_F[t,u]](F{1}[E_F[t,u]](F{1}[E_F[t,u]](F{2}[E_F[t,u]](F{1}[E_F[t,u]](F[E_F[t,u]]),F[E_F[t,u]]))))+15F{1}[E_F[t,u]](F{2}[E_F[t,u]](F{2}[E_F[t,u]](F{1}[E_F[t,u]](F[E_F[t,u]]),F[E_F[t,u]]),F[E_F[t,u]]))+10F{2}[E_F[t,u]](F{2}[E_F[t,u]](F[E_F[t,u]],F[E_F[t,u]]),F{2}[E_F[t,u]](F[E_F[t,u]],F[E_F[t,u]]))+36F{2}[E_F[t,u]](F{3}[E_F[t,u]](F{1}[E_F[t,u]](F[E_F[t,u]]),F[E_F[t,u]],F[E_F[t,u]]),F[E_F[t,u]])+F{6}[E_F[t,u]](F[E_F[t,u]],F[E_F[t,u]],F[E_F[t,u]],F[E_F[t,u]],F[E_F[t,u]],F[E_F[t,u]])+6F{2}[E_F[t,u]](F{1}[E_F[t,u]](F{1}[E_F[t,u]](F{1}[E_F[t,u]](F{1}[E_F[t,u]](F[E_F[t,u]])))),F[E_F[t,u]])"
     ]
    }
   ],
   "source": [
    "ex = expand(t_derivative(ex, t))\n",
    "print(ex) # Here the LaTeX output of Jupyter gives up..."
   ]
  },
  {
   "cell_type": "code",
   "execution_count": 16,
   "metadata": {
    "collapsed": false
   },
   "outputs": [
    {
     "data": {
      "text/plain": [
       "48"
      ]
     },
     "execution_count": 16,
     "metadata": {},
     "output_type": "execute_result"
    }
   ],
   "source": [
    "length(ex.terms)"
   ]
  },
  {
   "cell_type": "markdown",
   "metadata": {},
   "source": [
    "### Number of elementary differentials\n",
    "We generate a table of the number of elementary differentials (Butcher trees) up to order 12.  \n",
    "This table is to be compared with https://oeis.org/A000081 or Table 2.1 in\n",
    "> E. Hairer, S.P. Norsett, G. Wanner, Solving Ordinary Differential Equations I, 2nd ed, Springer, 1993.\n"
   ]
  },
  {
   "cell_type": "code",
   "execution_count": null,
   "metadata": {
    "collapsed": false
   },
   "outputs": [
    {
     "name": "stdout",
     "output_type": "stream",
     "text": [
      "order\t#terms\n",
      "---------------\n",
      "1\t1\n",
      "2\t1\n",
      "3\t2\n",
      "4\t4\n",
      "5\t9\n",
      "6\t20\n",
      "7\t48\n",
      "8\t115\n",
      "9\t286\n",
      "10\t719\n",
      "11\t1842\n",
      "12\t4766\n",
      "13\t12486\n",
      "14\t32973\n",
      "15\t87811\n",
      "16\t235381\n",
      "17\t"
     ]
    }
   ],
   "source": [
    "ex = E(F,t,u)\n",
    "ex = expand(t_derivative(ex, t))\n",
    "println(\"order\\t#terms\")\n",
    "println(\"---------------\")\n",
    "println(1,\"\\t\",1)\n",
    "ex = expand(t_derivative(ex, t))\n",
    "println(2,\"\\t\",1)\n",
    "for k=3:20\n",
    "    ex = expand(t_derivative(ex, t))\n",
    "    println(k,\"\\t\", length(ex.terms))\n",
    "end"
   ]
  },
  {
   "cell_type": "code",
   "execution_count": null,
   "metadata": {
    "collapsed": false
   },
   "outputs": [],
   "source": []
  },
  {
   "cell_type": "code",
   "execution_count": null,
   "metadata": {
    "collapsed": true
   },
   "outputs": [],
   "source": []
  }
 ],
 "metadata": {
  "kernelspec": {
   "display_name": "Julia 0.4.5",
   "language": "julia",
   "name": "julia-0.4"
  },
  "language_info": {
   "file_extension": ".jl",
   "mimetype": "application/julia",
   "name": "julia",
   "version": "0.4.5"
  }
 },
 "nbformat": 4,
 "nbformat_minor": 0
}
