{
 "cells": [
  {
   "cell_type": "code",
   "execution_count": 1,
   "metadata": {
    "collapsed": false
   },
   "outputs": [],
   "source": [
    "using Flows"
   ]
  },
  {
   "cell_type": "code",
   "execution_count": 2,
   "metadata": {
    "collapsed": false
   },
   "outputs": [
    {
     "data": {
      "text/plain": [
       "(A,B,C)"
      ]
     },
     "execution_count": 2,
     "metadata": {},
     "output_type": "execute_result"
    }
   ],
   "source": [
    "@funs A,B,C"
   ]
  },
  {
   "cell_type": "code",
   "execution_count": 3,
   "metadata": {
    "collapsed": false
   },
   "outputs": [
    {
     "data": {
      "text/latex": [
       "$A+3B$"
      ],
      "text/plain": [
       "A+3B"
      ]
     },
     "execution_count": 3,
     "metadata": {},
     "output_type": "execute_result"
    }
   ],
   "source": [
    "A+3B"
   ]
  },
  {
   "cell_type": "code",
   "execution_count": 4,
   "metadata": {
    "collapsed": false
   },
   "outputs": [
    {
     "data": {
      "text/plain": [
       "commutator (generic function with 3 methods)"
      ]
     },
     "execution_count": 4,
     "metadata": {},
     "output_type": "execute_result"
    }
   ],
   "source": [
    "_C=commutator"
   ]
  },
  {
   "cell_type": "code",
   "execution_count": 5,
   "metadata": {
    "collapsed": false
   },
   "outputs": [
    {
     "data": {
      "text/latex": [
       "$[B,A+C]-[B,A]+A+[A,B]$"
      ],
      "text/plain": [
       "commutator(B,A+C)-commutator(B,A)+A+commutator(A,B)"
      ]
     },
     "execution_count": 5,
     "metadata": {},
     "output_type": "execute_result"
    }
   ],
   "source": [
    "ex = _C(A,B)-_C(B,A)+_C(B,C+A)+A"
   ]
  },
  {
   "cell_type": "code",
   "execution_count": 6,
   "metadata": {
    "collapsed": false
   },
   "outputs": [
    {
     "data": {
      "text/plain": [
       "\"commutator(B,A+C)-commutator(B,A)+A+commutator(A,B)\""
      ]
     },
     "execution_count": 6,
     "metadata": {},
     "output_type": "execute_result"
    }
   ],
   "source": [
    "s=string(ex)"
   ]
  },
  {
   "cell_type": "code",
   "execution_count": 7,
   "metadata": {
    "collapsed": false
   },
   "outputs": [
    {
     "data": {
      "text/latex": [
       "$[B,A+C]-[B,A]+A+[A,B]$"
      ],
      "text/plain": [
       "commutator(B,A+C)-commutator(B,A)+A+commutator(A,B)"
      ]
     },
     "execution_count": 7,
     "metadata": {},
     "output_type": "execute_result"
    }
   ],
   "source": [
    "eval(parse(s))"
   ]
  },
  {
   "cell_type": "code",
   "execution_count": 8,
   "metadata": {
    "collapsed": false
   },
   "outputs": [
    {
     "data": {
      "text/latex": [
       "$[B,A]+[A,B]$"
      ],
      "text/plain": [
       "commutator(B,A)+commutator(A,B)"
      ]
     },
     "execution_count": 8,
     "metadata": {},
     "output_type": "execute_result"
    }
   ],
   "source": [
    "_C(A,B)-(-_C(B,A))"
   ]
  },
  {
   "cell_type": "code",
   "execution_count": 9,
   "metadata": {
    "collapsed": false
   },
   "outputs": [
    {
     "data": {
      "text/latex": [
       "$[B,A]+[A,B]$"
      ],
      "text/plain": [
       "commutator(B,A)+commutator(A,B)"
      ]
     },
     "execution_count": 9,
     "metadata": {},
     "output_type": "execute_result"
    }
   ],
   "source": [
    "_C(A,B)+_C(B,A)"
   ]
  },
  {
   "cell_type": "code",
   "execution_count": 10,
   "metadata": {
    "collapsed": false
   },
   "outputs": [
    {
     "data": {
      "text/latex": [
       "$0$"
      ],
      "text/plain": [
       "op_zero"
      ]
     },
     "execution_count": 10,
     "metadata": {},
     "output_type": "execute_result"
    }
   ],
   "source": [
    "_C(A,A)"
   ]
  },
  {
   "cell_type": "code",
   "execution_count": 11,
   "metadata": {
    "collapsed": false
   },
   "outputs": [
    {
     "data": {
      "text/latex": [
       "$0$"
      ],
      "text/plain": [
       "op_zero"
      ]
     },
     "execution_count": 11,
     "metadata": {},
     "output_type": "execute_result"
    }
   ],
   "source": [
    "_C(A,op_zero)"
   ]
  },
  {
   "cell_type": "code",
   "execution_count": 12,
   "metadata": {
    "collapsed": false
   },
   "outputs": [
    {
     "data": {
      "text/latex": [
       "$[[B,A+2C],[A-2B,C]+3C]$"
      ],
      "text/plain": [
       "commutator(commutator(B,A+2C),commutator(A-2B,C)+3C)"
      ]
     },
     "execution_count": 12,
     "metadata": {},
     "output_type": "execute_result"
    }
   ],
   "source": [
    "ex = _C(_C(B,A+2C),3C+_C(A-2B, C))"
   ]
  },
  {
   "cell_type": "code",
   "execution_count": 13,
   "metadata": {
    "collapsed": false
   },
   "outputs": [
    {
     "data": {
      "text/latex": [
       "$-6[C,[B,C]]+2[[B,C],[A,C]]-2[[B,C],[A,B]]+3[C,[A,B]]+[[A,C],[A,B]]$"
      ],
      "text/plain": [
       "-6commutator(C,commutator(B,C))+2commutator(commutator(B,C),commutator(A,C))-2commutator(commutator(B,C),commutator(A,B))+3commutator(C,commutator(A,B))+commutator(commutator(A,C),commutator(A,B))"
      ]
     },
     "execution_count": 13,
     "metadata": {},
     "output_type": "execute_result"
    }
   ],
   "source": [
    "normalize(ex)"
   ]
  },
  {
   "cell_type": "code",
   "execution_count": 14,
   "metadata": {
    "collapsed": false
   },
   "outputs": [
    {
     "data": {
      "text/latex": [
       "$2[[B,C],[A,C]]+6[[B,C],C]-2[[B,A],[B,C]]+3[[B,A],C]+[[B,A],[A,C]]$"
      ],
      "text/plain": [
       "2commutator(commutator(B,C),commutator(A,C))+6commutator(commutator(B,C),C)-2commutator(commutator(B,A),commutator(B,C))+3commutator(commutator(B,A),C)+commutator(commutator(B,A),commutator(A,C))"
      ]
     },
     "execution_count": 14,
     "metadata": {},
     "output_type": "execute_result"
    }
   ],
   "source": [
    "ex=expand(ex)"
   ]
  },
  {
   "cell_type": "code",
   "execution_count": 15,
   "metadata": {
    "collapsed": false
   },
   "outputs": [
    {
     "data": {
      "text/latex": [
       "$-6[C,[B,C]]+2[[B,C],[A,C]]-2[[B,C],[A,B]]+3[C,[A,B]]+[[A,C],[A,B]]$"
      ],
      "text/plain": [
       "-6commutator(C,commutator(B,C))+2commutator(commutator(B,C),commutator(A,C))-2commutator(commutator(B,C),commutator(A,B))+3commutator(C,commutator(A,B))+commutator(commutator(A,C),commutator(A,B))"
      ]
     },
     "execution_count": 15,
     "metadata": {},
     "output_type": "execute_result"
    }
   ],
   "source": [
    "ex=normalize(ex)"
   ]
  },
  {
   "cell_type": "code",
   "execution_count": 16,
   "metadata": {
    "collapsed": false
   },
   "outputs": [
    {
     "data": {
      "text/latex": [
       "$-6[C,[B,C]]+2[[B,C],[A,C]]-2[[B,C],[A,B]]+3[C,[A,B]]+[[A,C],[A,B]]$"
      ],
      "text/plain": [
       "-6commutator(C,commutator(B,C))+2commutator(commutator(B,C),commutator(A,C))-2commutator(commutator(B,C),commutator(A,B))+3commutator(C,commutator(A,B))+commutator(commutator(A,C),commutator(A,B))"
      ]
     },
     "execution_count": 16,
     "metadata": {},
     "output_type": "execute_result"
    }
   ],
   "source": [
    "normalize(ex)"
   ]
  },
  {
   "cell_type": "code",
   "execution_count": 17,
   "metadata": {
    "collapsed": false
   },
   "outputs": [
    {
     "data": {
      "text/latex": [
       "$-[C,[A,B]]$"
      ],
      "text/plain": [
       "-commutator(C,commutator(A,B))"
      ]
     },
     "execution_count": 17,
     "metadata": {},
     "output_type": "execute_result"
    }
   ],
   "source": [
    "normalize(_C(_C(A,B),C))"
   ]
  },
  {
   "cell_type": "code",
   "execution_count": 18,
   "metadata": {
    "collapsed": false
   },
   "outputs": [
    {
     "data": {
      "text/latex": [
       "$[C,[A,B]]$"
      ],
      "text/plain": [
       "commutator(C,commutator(A,B))"
      ]
     },
     "execution_count": 18,
     "metadata": {},
     "output_type": "execute_result"
    }
   ],
   "source": [
    "normalize(_C(_C(B,A),C))"
   ]
  },
  {
   "cell_type": "code",
   "execution_count": 19,
   "metadata": {
    "collapsed": false
   },
   "outputs": [
    {
     "data": {
      "text/latex": [
       "$-[C,[B,C]]$"
      ],
      "text/plain": [
       "-commutator(C,commutator(B,C))"
      ]
     },
     "execution_count": 19,
     "metadata": {},
     "output_type": "execute_result"
    }
   ],
   "source": [
    "normalize(_C(C,_C(C,B)))"
   ]
  },
  {
   "cell_type": "code",
   "execution_count": 20,
   "metadata": {
    "collapsed": false
   },
   "outputs": [
    {
     "data": {
      "text/latex": [
       "$[A,B]$"
      ],
      "text/plain": [
       "commutator(A,B)"
      ]
     },
     "execution_count": 20,
     "metadata": {},
     "output_type": "execute_result"
    }
   ],
   "source": [
    "normalize(_C(A,B))"
   ]
  },
  {
   "cell_type": "code",
   "execution_count": 21,
   "metadata": {
    "collapsed": false
   },
   "outputs": [
    {
     "data": {
      "text/latex": [
       "$-[A,B]$"
      ],
      "text/plain": [
       "-commutator(A,B)"
      ]
     },
     "execution_count": 21,
     "metadata": {},
     "output_type": "execute_result"
    }
   ],
   "source": [
    "normalize(_C(B,A))"
   ]
  },
  {
   "cell_type": "code",
   "execution_count": 22,
   "metadata": {
    "collapsed": false
   },
   "outputs": [
    {
     "data": {
      "text/latex": [
       "$[[A,B],[A,C]]+[[A,B],[C,A]]$"
      ],
      "text/plain": [
       "commutator(commutator(A,B),commutator(A,C))+commutator(commutator(A,B),commutator(C,A))"
      ]
     },
     "execution_count": 22,
     "metadata": {},
     "output_type": "execute_result"
    }
   ],
   "source": [
    "ex = _C(_C(A,B),_C(A,C))+_C(_C(A,B),_C(C,A))"
   ]
  },
  {
   "cell_type": "code",
   "execution_count": 23,
   "metadata": {
    "collapsed": false
   },
   "outputs": [
    {
     "data": {
      "text/latex": [
       "$[[A,B],[A,C]]+[[A,B],[C,A]]$"
      ],
      "text/plain": [
       "commutator(commutator(A,B),commutator(A,C))+commutator(commutator(A,B),commutator(C,A))"
      ]
     },
     "execution_count": 23,
     "metadata": {},
     "output_type": "execute_result"
    }
   ],
   "source": [
    "expand(ex)"
   ]
  },
  {
   "cell_type": "code",
   "execution_count": 24,
   "metadata": {
    "collapsed": false
   },
   "outputs": [
    {
     "data": {
      "text/latex": [
       "$0$"
      ],
      "text/plain": [
       "op_zero"
      ]
     },
     "execution_count": 24,
     "metadata": {},
     "output_type": "execute_result"
    }
   ],
   "source": [
    "normalize(ex)"
   ]
  },
  {
   "cell_type": "code",
   "execution_count": 25,
   "metadata": {
    "collapsed": false
   },
   "outputs": [
    {
     "data": {
      "text/plain": [
       "(u,v,w)"
      ]
     },
     "execution_count": 25,
     "metadata": {},
     "output_type": "execute_result"
    }
   ],
   "source": [
    "@x_vars u,v,w"
   ]
  },
  {
   "cell_type": "code",
   "execution_count": 26,
   "metadata": {
    "collapsed": false
   },
   "outputs": [
    {
     "data": {
      "text/latex": [
       "$A(u)$"
      ],
      "text/plain": [
       "A(u)"
      ]
     },
     "execution_count": 26,
     "metadata": {},
     "output_type": "execute_result"
    }
   ],
   "source": [
    "A(u)"
   ]
  },
  {
   "cell_type": "code",
   "execution_count": 27,
   "metadata": {
    "collapsed": false
   },
   "outputs": [
    {
     "data": {
      "text/latex": [
       "$(A+B)(u)$"
      ],
      "text/plain": [
       "(A+B)(u)"
      ]
     },
     "execution_count": 27,
     "metadata": {},
     "output_type": "execute_result"
    }
   ],
   "source": [
    "(A+B)(u)"
   ]
  },
  {
   "cell_type": "code",
   "execution_count": 28,
   "metadata": {
    "collapsed": false
   },
   "outputs": [
    {
     "data": {
      "text/plain": [
       "(t,s,r)"
      ]
     },
     "execution_count": 28,
     "metadata": {},
     "output_type": "execute_result"
    }
   ],
   "source": [
    "@t_vars t,s,r"
   ]
  },
  {
   "cell_type": "code",
   "execution_count": 29,
   "metadata": {
    "collapsed": false
   },
   "outputs": [
    {
     "data": {
      "text/latex": [
       "$\\mathcal{E}_{A+B}(t,u)$"
      ],
      "text/plain": [
       "E(A+B,t,u)"
      ]
     },
     "execution_count": 29,
     "metadata": {},
     "output_type": "execute_result"
    }
   ],
   "source": [
    "ex=E(A+B,t,u)"
   ]
  },
  {
   "cell_type": "code",
   "execution_count": 30,
   "metadata": {
    "collapsed": false
   },
   "outputs": [
    {
     "data": {
      "text/latex": [
       "$(A+B)(\\mathcal{E}_{A+B}(t,u))$"
      ],
      "text/plain": [
       "(A+B)(E(A+B,t,u))"
      ]
     },
     "execution_count": 30,
     "metadata": {},
     "output_type": "execute_result"
    }
   ],
   "source": [
    "t_derivative(ex,t)"
   ]
  },
  {
   "cell_type": "code",
   "execution_count": 31,
   "metadata": {
    "collapsed": false
   },
   "outputs": [
    {
     "data": {
      "text/latex": [
       "$[A,B](u)$"
      ],
      "text/plain": [
       "commutator(A,B)(u)"
      ]
     },
     "execution_count": 31,
     "metadata": {},
     "output_type": "execute_result"
    }
   ],
   "source": [
    "ex=_C(A,B)(u)"
   ]
  },
  {
   "cell_type": "code",
   "execution_count": 32,
   "metadata": {
    "collapsed": false
   },
   "outputs": [
    {
     "data": {
      "text/latex": [
       "$[A,B]'(u)\\cdot v$"
      ],
      "text/plain": [
       "commutator(A,B)(u,v)"
      ]
     },
     "execution_count": 32,
     "metadata": {},
     "output_type": "execute_result"
    }
   ],
   "source": [
    "differential(ex,u,v)"
   ]
  },
  {
   "cell_type": "code",
   "execution_count": 33,
   "metadata": {
    "collapsed": false
   },
   "outputs": [
    {
     "data": {
      "text/plain": [
       "Flows.VectorFieldLinearCombination"
      ]
     },
     "execution_count": 33,
     "metadata": {},
     "output_type": "execute_result"
    }
   ],
   "source": [
    "typeof(2A)"
   ]
  },
  {
   "cell_type": "code",
   "execution_count": 34,
   "metadata": {
    "collapsed": false
   },
   "outputs": [
    {
     "data": {
      "text/latex": [
       "$(2A)(u)$"
      ],
      "text/plain": [
       "(2A)(u)"
      ]
     },
     "execution_count": 34,
     "metadata": {},
     "output_type": "execute_result"
    }
   ],
   "source": [
    "(2A)(u)"
   ]
  },
  {
   "cell_type": "code",
   "execution_count": 35,
   "metadata": {
    "collapsed": false
   },
   "outputs": [
    {
     "data": {
      "text/latex": [
       "$-[A,B]'(u)\\cdot A(u)+A'(u)\\cdot [A,B](u)$"
      ],
      "text/plain": [
       "-commutator(A,B)(u,A(u))+A(u,commutator(A,B)(u))"
      ]
     },
     "execution_count": 35,
     "metadata": {},
     "output_type": "execute_result"
    }
   ],
   "source": [
    "commutator(A,_C(A,B),u)"
   ]
  },
  {
   "cell_type": "code",
   "execution_count": 36,
   "metadata": {
    "collapsed": false
   },
   "outputs": [
    {
     "data": {
      "text/latex": [
       "$[A,[A,B]]$"
      ],
      "text/plain": [
       "commutator(A,commutator(A,B))"
      ]
     },
     "execution_count": 36,
     "metadata": {},
     "output_type": "execute_result"
    }
   ],
   "source": [
    "commutator(A,_C(A,B))"
   ]
  },
  {
   "cell_type": "code",
   "execution_count": 37,
   "metadata": {
    "collapsed": false
   },
   "outputs": [
    {
     "data": {
      "text/latex": [
       "$(0)(u)$"
      ],
      "text/plain": [
       "(op_zero)(u)"
      ]
     },
     "execution_count": 37,
     "metadata": {},
     "output_type": "execute_result"
    }
   ],
   "source": [
    "op_zero(u) # zero operator ..."
   ]
  },
  {
   "cell_type": "code",
   "execution_count": 38,
   "metadata": {
    "collapsed": false
   },
   "outputs": [
    {
     "data": {
      "text/latex": [
       "$(-17C+[A,B])''(u)(v,v+w)$"
      ],
      "text/plain": [
       "(-17C+commutator(A,B))(u,v,v+w)"
      ]
     },
     "execution_count": 38,
     "metadata": {},
     "output_type": "execute_result"
    }
   ],
   "source": [
    "ex=(_C(A,B)-17C)(u,v,w+v)"
   ]
  },
  {
   "cell_type": "code",
   "execution_count": 39,
   "metadata": {
    "collapsed": false
   },
   "outputs": [
    {
     "data": {
      "text/latex": [
       "$2A''(u)(B'(u)\\cdot v,v)+A'''(u)(B(u),v,v)+A''(u)(B'(u)\\cdot v,w)-B''(u)(A'(u)\\cdot w,v)+A'''(u)(B(u),v,w)-B''(u)(A'(u)\\cdot v,w)-17C''(u)(v,v)-B'(u)\\cdot A''(u)(v,w)-B'''(u)(A(u),v,v)-B'(u)\\cdot A''(u)(v,v)+A'(u)\\cdot B''(u)(v,w)-17C''(u)(v,w)-B'''(u)(A(u),v,w)+A'(u)\\cdot B''(u)(v,v)+A''(u)(B'(u)\\cdot w,v)-2B''(u)(A'(u)\\cdot v,v)$"
      ],
      "text/plain": [
       "2A(u,B(u,v),v)+A(u,B(u),v,v)+A(u,B(u,v),w)-B(u,A(u,w),v)+A(u,B(u),v,w)-B(u,A(u,v),w)-17C(u,v,v)-B(u,A(u,v,w))-B(u,A(u),v,v)-B(u,A(u,v,v))+A(u,B(u,v,w))-17C(u,v,w)-B(u,A(u),v,w)+A(u,B(u,v,v))+A(u,B(u,w),v)-2B(u,A(u,v),v)"
      ]
     },
     "execution_count": 39,
     "metadata": {},
     "output_type": "execute_result"
    }
   ],
   "source": [
    "expand(expand_vector_field_expressions(ex))"
   ]
  },
  {
   "cell_type": "code",
   "execution_count": 40,
   "metadata": {
    "collapsed": false
   },
   "outputs": [
    {
     "data": {
      "text/latex": [
       "$(0)(u)$"
      ],
      "text/plain": [
       "(op_zero)(u)"
      ]
     },
     "execution_count": 40,
     "metadata": {},
     "output_type": "execute_result"
    }
   ],
   "source": [
    "ex=(A-A)(u)"
   ]
  },
  {
   "cell_type": "code",
   "execution_count": 41,
   "metadata": {
    "collapsed": false
   },
   "outputs": [
    {
     "data": {
      "text/latex": [
       "$0$"
      ],
      "text/plain": [
       "x_zero"
      ]
     },
     "execution_count": 41,
     "metadata": {},
     "output_type": "execute_result"
    }
   ],
   "source": [
    "expand_vector_field_expressions(ex)"
   ]
  },
  {
   "cell_type": "code",
   "execution_count": 42,
   "metadata": {
    "collapsed": false
   },
   "outputs": [
    {
     "data": {
      "text/latex": [
       "$(A+B)(u)+(-A+C)(u)$"
      ],
      "text/plain": [
       "(A+B)(u)+(-A+C)(u)"
      ]
     },
     "execution_count": 42,
     "metadata": {},
     "output_type": "execute_result"
    }
   ],
   "source": [
    "ex=(A+B)(u)+(C-A)(u)"
   ]
  },
  {
   "cell_type": "code",
   "execution_count": 43,
   "metadata": {
    "collapsed": false
   },
   "outputs": [
    {
     "data": {
      "text/latex": [
       "$C(u)+B(u)$"
      ],
      "text/plain": [
       "C(u)+B(u)"
      ]
     },
     "execution_count": 43,
     "metadata": {},
     "output_type": "execute_result"
    }
   ],
   "source": [
    "expand_vector_field_expressions(ex)"
   ]
  },
  {
   "cell_type": "code",
   "execution_count": 44,
   "metadata": {
    "collapsed": false
   },
   "outputs": [
    {
     "data": {
      "text/latex": [
       "$[A,B]''(u)(v,w)+[B,A]''(u)(v,w)$"
      ],
      "text/plain": [
       "commutator(A,B)(u,v,w)+commutator(B,A)(u,v,w)"
      ]
     },
     "execution_count": 44,
     "metadata": {},
     "output_type": "execute_result"
    }
   ],
   "source": [
    "ex=_C(A,B)(u,v,w)+_C(B,A)(u,v,w)"
   ]
  },
  {
   "cell_type": "code",
   "execution_count": 45,
   "metadata": {
    "collapsed": false
   },
   "outputs": [
    {
     "data": {
      "text/latex": [
       "$0$"
      ],
      "text/plain": [
       "x_zero"
      ]
     },
     "execution_count": 45,
     "metadata": {},
     "output_type": "execute_result"
    }
   ],
   "source": [
    "expand_vector_field_expressions(ex)"
   ]
  },
  {
   "cell_type": "code",
   "execution_count": null,
   "metadata": {
    "collapsed": true
   },
   "outputs": [],
   "source": []
  }
 ],
 "metadata": {
  "kernelspec": {
   "display_name": "Julia 0.4",
   "language": "julia",
   "name": "julia-0.4"
  },
  "language_info": {
   "file_extension": ".jl",
   "mimetype": "application/julia",
   "name": "julia",
   "version": "0.4.5"
  }
 },
 "nbformat": 4,
 "nbformat_minor": 0
}
