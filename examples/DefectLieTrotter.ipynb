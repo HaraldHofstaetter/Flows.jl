{
 "cells": [
  {
   "cell_type": "code",
   "execution_count": 1,
   "metadata": {
    "collapsed": false
   },
   "outputs": [],
   "source": [
    "using Flows"
   ]
  },
  {
   "cell_type": "markdown",
   "metadata": {},
   "source": [
    "## Check (1)"
   ]
  },
  {
   "cell_type": "code",
   "execution_count": 2,
   "metadata": {
    "collapsed": false
   },
   "outputs": [
    {
     "data": {
      "text/plain": [
       "(t,)"
      ]
     },
     "execution_count": 2,
     "metadata": {},
     "output_type": "execute_result"
    }
   ],
   "source": [
    "@t_vars t"
   ]
  },
  {
   "cell_type": "code",
   "execution_count": 3,
   "metadata": {
    "collapsed": false
   },
   "outputs": [
    {
     "data": {
      "text/plain": [
       "(u,v)"
      ]
     },
     "execution_count": 3,
     "metadata": {},
     "output_type": "execute_result"
    }
   ],
   "source": [
    "@x_vars u,v"
   ]
  },
  {
   "cell_type": "code",
   "execution_count": 4,
   "metadata": {
    "collapsed": false
   },
   "outputs": [
    {
     "data": {
      "text/plain": [
       "(A,B)"
      ]
     },
     "execution_count": 4,
     "metadata": {},
     "output_type": "execute_result"
    }
   ],
   "source": [
    "@funs A, B"
   ]
  },
  {
   "cell_type": "code",
   "execution_count": 5,
   "metadata": {
    "collapsed": false
   },
   "outputs": [
    {
     "data": {
      "text/latex": [
       "$\\mathcal{E}_{A}(t,u)$"
      ],
      "text/plain": [
       "E_A[t,u]"
      ]
     },
     "execution_count": 5,
     "metadata": {},
     "output_type": "execute_result"
    }
   ],
   "source": [
    "E_Atu = E(A, t, u)"
   ]
  },
  {
   "cell_type": "code",
   "execution_count": 6,
   "metadata": {
    "collapsed": false
   },
   "outputs": [
    {
     "data": {
      "text/latex": [
       "$\\mathcal{E}_{B}(t,v)$"
      ],
      "text/plain": [
       "E_B[t,v]"
      ]
     },
     "execution_count": 6,
     "metadata": {},
     "output_type": "execute_result"
    }
   ],
   "source": [
    "E_Btv =E(B, t, v)"
   ]
  },
  {
   "cell_type": "code",
   "execution_count": 7,
   "metadata": {
    "collapsed": false
   },
   "outputs": [
    {
     "data": {
      "text/latex": [
       "$\\mathcal{E}_{B}(t,\\mathcal{E}_{A}(t,u))$"
      ],
      "text/plain": [
       "E_B[t,E_A[t,u]]"
      ]
     },
     "execution_count": 7,
     "metadata": {},
     "output_type": "execute_result"
    }
   ],
   "source": [
    "Stu = E(B, t, E(A, t, u))"
   ]
  },
  {
   "cell_type": "code",
   "execution_count": 8,
   "metadata": {
    "collapsed": false
   },
   "outputs": [
    {
     "data": {
      "text/latex": [
       "$\\partial_{2}\\mathcal{E}_{B}(t,v)\\cdot A(v)-A(\\mathcal{E}_{B}(t,v))$"
      ],
      "text/plain": [
       "E_B{0,1}[t,v](A[v])-A[E_B[t,v]]"
      ]
     },
     "execution_count": 8,
     "metadata": {},
     "output_type": "execute_result"
    }
   ],
   "source": [
    "S1tv = differential(E(B,t,v), v, A(v)) -A(E(B,t,v))"
   ]
  },
  {
   "cell_type": "code",
   "execution_count": 9,
   "metadata": {
    "collapsed": false
   },
   "outputs": [
    {
     "data": {
      "text/latex": [
       "$-A(\\mathcal{E}_{B}(t,\\mathcal{E}_{A}(t,u)))+\\partial_{2}\\mathcal{E}_{B}(t,\\mathcal{E}_{A}(t,u))\\cdot A(\\mathcal{E}_{A}(t,u))$"
      ],
      "text/plain": [
       "-A[E_B[t,E_A[t,u]]]+E_B{0,1}[t,E_A[t,u]](A[E_A[t,u]])"
      ]
     },
     "execution_count": 9,
     "metadata": {},
     "output_type": "execute_result"
    }
   ],
   "source": [
    "S1tu  = substitute(S1tv, v, E(A,t,u))\n",
    "ex1 = S1tu"
   ]
  },
  {
   "cell_type": "code",
   "execution_count": 10,
   "metadata": {
    "collapsed": false
   },
   "outputs": [
    {
     "data": {
      "text/latex": [
       "$-A(\\mathcal{E}_{B}(t,\\mathcal{E}_{A}(t,u)))+\\partial_{2}\\mathcal{E}_{B}(t,\\mathcal{E}_{A}(t,u))\\cdot A(\\mathcal{E}_{A}(t,u))$"
      ],
      "text/plain": [
       "-A[E_B[t,E_A[t,u]]]+E_B{0,1}[t,E_A[t,u]](A[E_A[t,u]])"
      ]
     },
     "execution_count": 10,
     "metadata": {},
     "output_type": "execute_result"
    }
   ],
   "source": [
    "ex2 = t_derivative(Stu, t) - (A(Stu) + B(Stu))"
   ]
  },
  {
   "cell_type": "code",
   "execution_count": 11,
   "metadata": {
    "collapsed": false
   },
   "outputs": [
    {
     "data": {
      "text/latex": [
       "$0$"
      ],
      "text/plain": [
       "0"
      ]
     },
     "execution_count": 11,
     "metadata": {},
     "output_type": "execute_result"
    }
   ],
   "source": [
    "ex1 - ex2"
   ]
  },
  {
   "cell_type": "markdown",
   "metadata": {},
   "source": [
    "## Check (2)"
   ]
  },
  {
   "cell_type": "code",
   "execution_count": 12,
   "metadata": {
    "collapsed": false
   },
   "outputs": [
    {
     "data": {
      "text/latex": [
       "$-A'(\\mathcal{E}_{B}(t,v))\\cdot B(\\mathcal{E}_{B}(t,v))+B'(\\mathcal{E}_{B}(t,v))\\cdot (\\partial_{2}\\mathcal{E}_{B}(t,v)\\cdot A(v)-A(\\mathcal{E}_{B}(t,v)))+B'(\\mathcal{E}_{B}(t,v))\\cdot A(\\mathcal{E}_{B}(t,v))$"
      ],
      "text/plain": [
       "-A{1}[E_B[t,v]](B[E_B[t,v]])+B{1}[E_B[t,v]](E_B{0,1}[t,v](A[v])-A[E_B[t,v]])+B{1}[E_B[t,v]](A[E_B[t,v]])"
      ]
     },
     "execution_count": 12,
     "metadata": {},
     "output_type": "execute_result"
    }
   ],
   "source": [
    "ex1 = B(E(B,t,v), S1tv) + commutator(B,A,E(B,t,v))"
   ]
  },
  {
   "cell_type": "code",
   "execution_count": 13,
   "metadata": {
    "collapsed": false
   },
   "outputs": [
    {
     "data": {
      "text/latex": [
       "$-A'(\\mathcal{E}_{B}(t,v))\\cdot B(\\mathcal{E}_{B}(t,v))+B'(\\mathcal{E}_{B}(t,v))\\cdot \\partial_{2}\\mathcal{E}_{B}(t,v)\\cdot A(v)$"
      ],
      "text/plain": [
       "-A{1}[E_B[t,v]](B[E_B[t,v]])+B{1}[E_B[t,v]](E_B{0,1}[t,v](A[v]))"
      ]
     },
     "execution_count": 13,
     "metadata": {},
     "output_type": "execute_result"
    }
   ],
   "source": [
    "ex2 = t_derivative(S1tv, t)"
   ]
  },
  {
   "cell_type": "code",
   "execution_count": 14,
   "metadata": {
    "collapsed": false
   },
   "outputs": [
    {
     "data": {
      "text/latex": [
       "$0$"
      ],
      "text/plain": [
       "0"
      ]
     },
     "execution_count": 14,
     "metadata": {},
     "output_type": "execute_result"
    }
   ],
   "source": [
    "reduce_order(expand(ex1-ex2))"
   ]
  },
  {
   "cell_type": "markdown",
   "metadata": {},
   "source": [
    "## Check (3) ( to be done !!!)"
   ]
  },
  {
   "cell_type": "markdown",
   "metadata": {},
   "source": [
    "## Check(4)"
   ]
  },
  {
   "cell_type": "code",
   "execution_count": 15,
   "metadata": {
    "collapsed": false
   },
   "outputs": [
    {
     "data": {
      "text/latex": [
       "$\\partial_{2}^{2}\\mathcal{E}_{B}(t,\\mathcal{E}_{A}(t,u))(A(\\mathcal{E}_{A}(t,u)),A(\\mathcal{E}_{A}(t,u)))-A'(\\mathcal{E}_{B}(t,\\mathcal{E}_{A}(t,u)))\\cdot (B(\\mathcal{E}_{B}(t,\\mathcal{E}_{A}(t,u)))+\\partial_{2}\\mathcal{E}_{B}(t,\\mathcal{E}_{A}(t,u))\\cdot A(\\mathcal{E}_{A}(t,u)))+B'(\\mathcal{E}_{B}(t,\\mathcal{E}_{A}(t,u)))\\cdot \\partial_{2}\\mathcal{E}_{B}(t,\\mathcal{E}_{A}(t,u))\\cdot A(\\mathcal{E}_{A}(t,u))+\\partial_{2}\\mathcal{E}_{B}(t,\\mathcal{E}_{A}(t,u))\\cdot A'(\\mathcal{E}_{A}(t,u))\\cdot A(\\mathcal{E}_{A}(t,u))-A'(\\mathcal{E}_{B}(t,\\mathcal{E}_{A}(t,u)))\\cdot (-A(\\mathcal{E}_{B}(t,\\mathcal{E}_{A}(t,u)))+\\partial_{2}\\mathcal{E}_{B}(t,\\mathcal{E}_{A}(t,u))\\cdot A(\\mathcal{E}_{A}(t,u)))-B'(\\mathcal{E}_{B}(t,\\mathcal{E}_{A}(t,u)))\\cdot (-A(\\mathcal{E}_{B}(t,\\mathcal{E}_{A}(t,u)))+\\partial_{2}\\mathcal{E}_{B}(t,\\mathcal{E}_{A}(t,u))\\cdot A(\\mathcal{E}_{A}(t,u)))$"
      ],
      "text/plain": [
       "E_B{0,2}[t,E_A[t,u]](A[E_A[t,u]],A[E_A[t,u]])-A{1}[E_B[t,E_A[t,u]]](B[E_B[t,E_A[t,u]]]+E_B{0,1}[t,E_A[t,u]](A[E_A[t,u]]))+B{1}[E_B[t,E_A[t,u]]](E_B{0,1}[t,E_A[t,u]](A[E_A[t,u]]))+E_B{0,1}[t,E_A[t,u]](A{1}[E_A[t,u]](A[E_A[t,u]]))-A{1}[E_B[t,E_A[t,u]]](-A[E_B[t,E_A[t,u]]]+E_B{0,1}[t,E_A[t,u]](A[E_A[t,u]]))-B{1}[E_B[t,E_A[t,u]]](-A[E_B[t,E_A[t,u]]]+E_B{0,1}[t,E_A[t,u]](A[E_A[t,u]]))"
      ]
     },
     "execution_count": 15,
     "metadata": {},
     "output_type": "execute_result"
    }
   ],
   "source": [
    "S2tu = t_derivative(S1tu, t) - A(Stu, S1tu) - B(Stu, S1tu)\n",
    "ex1 = S2tu"
   ]
  },
  {
   "cell_type": "code",
   "execution_count": 16,
   "metadata": {
    "collapsed": false
   },
   "outputs": [
    {
     "data": {
      "text/latex": [
       "$-A'(\\mathcal{E}_{B}(t,\\mathcal{E}_{A}(t,u)))\\cdot \\partial_{2}\\mathcal{E}_{B}(t,\\mathcal{E}_{A}(t,u))\\cdot A(\\mathcal{E}_{A}(t,u))+B'(\\mathcal{E}_{B}(t,\\mathcal{E}_{A}(t,u)))\\cdot A(\\mathcal{E}_{B}(t,\\mathcal{E}_{A}(t,u)))-A'(\\mathcal{E}_{B}(t,\\mathcal{E}_{A}(t,u)))\\cdot B(\\mathcal{E}_{B}(t,\\mathcal{E}_{A}(t,u)))+\\partial_{2}^{2}\\mathcal{E}_{B}(t,\\mathcal{E}_{A}(t,u))(A(\\mathcal{E}_{A}(t,u)),A(\\mathcal{E}_{A}(t,u)))-A'(\\mathcal{E}_{B}(t,\\mathcal{E}_{A}(t,u)))\\cdot (-A(\\mathcal{E}_{B}(t,\\mathcal{E}_{A}(t,u)))+\\partial_{2}\\mathcal{E}_{B}(t,\\mathcal{E}_{A}(t,u))\\cdot A(\\mathcal{E}_{A}(t,u)))+\\partial_{2}\\mathcal{E}_{B}(t,\\mathcal{E}_{A}(t,u))\\cdot A'(\\mathcal{E}_{A}(t,u))\\cdot A(\\mathcal{E}_{A}(t,u))$"
      ],
      "text/plain": [
       "-A{1}[E_B[t,E_A[t,u]]](E_B{0,1}[t,E_A[t,u]](A[E_A[t,u]]))+B{1}[E_B[t,E_A[t,u]]](A[E_B[t,E_A[t,u]]])-A{1}[E_B[t,E_A[t,u]]](B[E_B[t,E_A[t,u]]])+E_B{0,2}[t,E_A[t,u]](A[E_A[t,u]],A[E_A[t,u]])-A{1}[E_B[t,E_A[t,u]]](-A[E_B[t,E_A[t,u]]]+E_B{0,1}[t,E_A[t,u]](A[E_A[t,u]]))+E_B{0,1}[t,E_A[t,u]](A{1}[E_A[t,u]](A[E_A[t,u]]))"
      ]
     },
     "execution_count": 16,
     "metadata": {},
     "output_type": "execute_result"
    }
   ],
   "source": [
    "S2tv = differential(S1tv, v, A(v)) - A(E(B,t,v), S1tv) + commutator(B,A, E(B,t,v))\n",
    "ex2 = substitute(S2tv, v, E(A,t,u))"
   ]
  },
  {
   "cell_type": "code",
   "execution_count": 17,
   "metadata": {
    "collapsed": false
   },
   "outputs": [
    {
     "data": {
      "text/latex": [
       "$0$"
      ],
      "text/plain": [
       "0"
      ]
     },
     "execution_count": 17,
     "metadata": {},
     "output_type": "execute_result"
    }
   ],
   "source": [
    "expand(ex1 - ex2)"
   ]
  },
  {
   "cell_type": "markdown",
   "metadata": {},
   "source": [
    "## Check (5)"
   ]
  },
  {
   "cell_type": "code",
   "execution_count": 18,
   "metadata": {
    "collapsed": false
   },
   "outputs": [
    {
     "data": {
      "text/latex": [
       "$-G''(u)(H(u),F(u))-G'(u)\\cdot H'(u)\\cdot F(u)+H''(u)(G(u),F(u))+H'(u)\\cdot G'(u)\\cdot F(u)+F'(u)\\cdot (G'(u)\\cdot H(u)-H'(u)\\cdot G(u))$"
      ],
      "text/plain": [
       "-G{2}[u](H[u],F[u])-G{1}[u](H{1}[u](F[u]))+H{2}[u](G[u],F[u])+H{1}[u](G{1}[u](F[u]))+F{1}[u](G{1}[u](H[u])-H{1}[u](G[u]))"
      ]
     },
     "execution_count": 18,
     "metadata": {},
     "output_type": "execute_result"
    }
   ],
   "source": [
    "@funs F, G, H \n",
    "substitute(substitute(commutator(F,G,v), G, commutator(G,H,v), v), v, u)"
   ]
  },
  {
   "cell_type": "code",
   "execution_count": 19,
   "metadata": {
    "collapsed": false
   },
   "outputs": [
    {
     "data": {
      "text/plain": [
       "(w,)"
      ]
     },
     "execution_count": 19,
     "metadata": {},
     "output_type": "execute_result"
    }
   ],
   "source": [
    "@x_vars w"
   ]
  },
  {
   "cell_type": "code",
   "execution_count": 20,
   "metadata": {
    "collapsed": false
   },
   "outputs": [
    {
     "data": {
      "text/latex": [
       "$B''(\\mathcal{E}_{B}(t,v))(A(\\mathcal{E}_{B}(t,v)),A(\\mathcal{E}_{B}(t,v)))+2B'(\\mathcal{E}_{B}(t,v))\\cdot A'(\\mathcal{E}_{B}(t,v))\\cdot (\\partial_{2}\\mathcal{E}_{B}(t,v)\\cdot A(v)-A(\\mathcal{E}_{B}(t,v)))+2B''(\\mathcal{E}_{B}(t,v))(A(\\mathcal{E}_{B}(t,v)),\\partial_{2}\\mathcal{E}_{B}(t,v)\\cdot A(v)-A(\\mathcal{E}_{B}(t,v)))-2A'(\\mathcal{E}_{B}(t,v))\\cdot B'(\\mathcal{E}_{B}(t,v))\\cdot (\\partial_{2}\\mathcal{E}_{B}(t,v)\\cdot A(v)-A(\\mathcal{E}_{B}(t,v)))-A''(\\mathcal{E}_{B}(t,v))(B(\\mathcal{E}_{B}(t,v)),B(\\mathcal{E}_{B}(t,v)))-A'(\\mathcal{E}_{B}(t,v))\\cdot B'(\\mathcal{E}_{B}(t,v))\\cdot A(\\mathcal{E}_{B}(t,v))-A''(\\mathcal{E}_{B}(t,v))(B(\\mathcal{E}_{B}(t,v)),A(\\mathcal{E}_{B}(t,v)))+B'(\\mathcal{E}_{B}(t,v))\\cdot A'(\\mathcal{E}_{B}(t,v))\\cdot A(\\mathcal{E}_{B}(t,v))+B''(\\mathcal{E}_{B}(t,v))(A(\\mathcal{E}_{B}(t,v)),B(\\mathcal{E}_{B}(t,v)))+B''(\\mathcal{E}_{B}(t,v))(\\partial_{2}\\mathcal{E}_{B}(t,v)\\cdot A(v)-A(\\mathcal{E}_{B}(t,v)),\\partial_{2}\\mathcal{E}_{B}(t,v)\\cdot A(v)-A(\\mathcal{E}_{B}(t,v)))-A'(\\mathcal{E}_{B}(t,v))\\cdot B'(\\mathcal{E}_{B}(t,v))\\cdot B(\\mathcal{E}_{B}(t,v))-A'(\\mathcal{E}_{B}(t,v))\\cdot (-A'(\\mathcal{E}_{B}(t,v))\\cdot B(\\mathcal{E}_{B}(t,v))+B'(\\mathcal{E}_{B}(t,v))\\cdot A(\\mathcal{E}_{B}(t,v)))-2A''(\\mathcal{E}_{B}(t,v))(B(\\mathcal{E}_{B}(t,v)),\\partial_{2}\\mathcal{E}_{B}(t,v)\\cdot A(v)-A(\\mathcal{E}_{B}(t,v)))+B'(\\mathcal{E}_{B}(t,v))\\cdot A'(\\mathcal{E}_{B}(t,v))\\cdot B(\\mathcal{E}_{B}(t,v))-B'(\\mathcal{E}_{B}(t,v))\\cdot (-A'(\\mathcal{E}_{B}(t,v))\\cdot B(\\mathcal{E}_{B}(t,v))+B'(\\mathcal{E}_{B}(t,v))\\cdot A(\\mathcal{E}_{B}(t,v)))+B'(\\mathcal{E}_{B}(t,v))\\cdot (-A'(\\mathcal{E}_{B}(t,v))\\cdot B(\\mathcal{E}_{B}(t,v))-A'(\\mathcal{E}_{B}(t,v))\\cdot \\partial_{2}\\mathcal{E}_{B}(t,v)\\cdot A(v)+\\partial_{2}^{2}\\mathcal{E}_{B}(t,v)(A(v),A(v))-A'(\\mathcal{E}_{B}(t,v))\\cdot (\\partial_{2}\\mathcal{E}_{B}(t,v)\\cdot A(v)-A(\\mathcal{E}_{B}(t,v)))+B'(\\mathcal{E}_{B}(t,v))\\cdot A(\\mathcal{E}_{B}(t,v))+\\partial_{2}\\mathcal{E}_{B}(t,v)\\cdot A'(v)\\cdot A(v))$"
      ],
      "text/plain": [
       "B{2}[E_B[t,v]](A[E_B[t,v]],A[E_B[t,v]])+2B{1}[E_B[t,v]](A{1}[E_B[t,v]](E_B{0,1}[t,v](A[v])-A[E_B[t,v]]))+2B{2}[E_B[t,v]](A[E_B[t,v]],E_B{0,1}[t,v](A[v])-A[E_B[t,v]])-2A{1}[E_B[t,v]](B{1}[E_B[t,v]](E_B{0,1}[t,v](A[v])-A[E_B[t,v]]))-A{2}[E_B[t,v]](B[E_B[t,v]],B[E_B[t,v]])-A{1}[E_B[t,v]](B{1}[E_B[t,v]](A[E_B[t,v]]))-A{2}[E_B[t,v]](B[E_B[t,v]],A[E_B[t,v]])+B{1}[E_B[t,v]](A{1}[E_B[t,v]](A[E_B[t,v]]))+B{2}[E_B[t,v]](A[E_B[t,v]],B[E_B[t,v]])+B{2}[E_B[t,v]](E_B{0,1}[t,v](A[v])-A[E_B[t,v]],E_B{0,1}[t,v](A[v])-A[E_B[t,v]])-A{1}[E_B[t,v]](B{1}[E_B[t,v]](B[E_B[t,v]]))-A{1}[E_B[t,v]](-A{1}[E_B[t,v]](B[E_B[t,v]])+B{1}[E_B[t,v]](A[E_B[t,v]]))-2A{2}[E_B[t,v]](B[E_B[t,v]],E_B{0,1}[t,v](A[v])-A[E_B[t,v]])+B{1}[E_B[t,v]](A{1}[E_B[t,v]](B[E_B[t,v]]))-B{1}[E_B[t,v]](-A{1}[E_B[t,v]](B[E_B[t,v]])+B{1}[E_B[t,v]](A[E_B[t,v]]))+B{1}[E_B[t,v]](-A{1}[E_B[t,v]](B[E_B[t,v]])-A{1}[E_B[t,v]](E_B{0,1}[t,v](A[v]))+E_B{0,2}[t,v](A[v],A[v])-A{1}[E_B[t,v]](E_B{0,1}[t,v](A[v])-A[E_B[t,v]])+B{1}[E_B[t,v]](A[E_B[t,v]])+E_B{0,1}[t,v](A{1}[v](A[v])))"
      ]
     },
     "execution_count": 20,
     "metadata": {},
     "output_type": "execute_result"
    }
   ],
   "source": [
    "ex1 = (B(E(B,t,v), S2tv) \n",
    "     +B(E(B,t,v), S1tv, S1tv)\n",
    "     -commutator(B,B,A, E(B,t,v)) \n",
    "     -commutator(A,B,A, E(B,t,v)) \n",
    "     +2*substitute(differential(commutator(B,A,w), w, S1tv), w, E(B,t,v) ) )"
   ]
  },
  {
   "cell_type": "code",
   "execution_count": 21,
   "metadata": {
    "collapsed": false
   },
   "outputs": [
    {
     "data": {
      "text/latex": [
       "$B'(\\mathcal{E}_{B}(t,v))\\cdot \\partial_{2}\\mathcal{E}_{B}(t,v)\\cdot A'(v)\\cdot A(v)-A''(\\mathcal{E}_{B}(t,v))(B(\\mathcal{E}_{B}(t,v)),B(\\mathcal{E}_{B}(t,v)))+B'(\\mathcal{E}_{B}(t,v))\\cdot \\partial_{2}^{2}\\mathcal{E}_{B}(t,v)(A(v),A(v))+B''(\\mathcal{E}_{B}(t,v))(A(\\mathcal{E}_{B}(t,v)),B(\\mathcal{E}_{B}(t,v)))-A''(\\mathcal{E}_{B}(t,v))(\\partial_{2}\\mathcal{E}_{B}(t,v)\\cdot A(v),B(\\mathcal{E}_{B}(t,v)))-A'(\\mathcal{E}_{B}(t,v))\\cdot B'(\\mathcal{E}_{B}(t,v))\\cdot B(\\mathcal{E}_{B}(t,v))-A'(\\mathcal{E}_{B}(t,v))\\cdot (-A'(\\mathcal{E}_{B}(t,v))\\cdot B(\\mathcal{E}_{B}(t,v))+B'(\\mathcal{E}_{B}(t,v))\\cdot \\partial_{2}\\mathcal{E}_{B}(t,v)\\cdot A(v))+B''(\\mathcal{E}_{B}(t,v))(\\partial_{2}\\mathcal{E}_{B}(t,v)\\cdot A(v),\\partial_{2}\\mathcal{E}_{B}(t,v)\\cdot A(v))-A''(\\mathcal{E}_{B}(t,v))(B(\\mathcal{E}_{B}(t,v)),\\partial_{2}\\mathcal{E}_{B}(t,v)\\cdot A(v)-A(\\mathcal{E}_{B}(t,v)))+B'(\\mathcal{E}_{B}(t,v))\\cdot A'(\\mathcal{E}_{B}(t,v))\\cdot B(\\mathcal{E}_{B}(t,v))-A'(\\mathcal{E}_{B}(t,v))\\cdot B'(\\mathcal{E}_{B}(t,v))\\cdot \\partial_{2}\\mathcal{E}_{B}(t,v)\\cdot A(v)$"
      ],
      "text/plain": [
       "B{1}[E_B[t,v]](E_B{0,1}[t,v](A{1}[v](A[v])))-A{2}[E_B[t,v]](B[E_B[t,v]],B[E_B[t,v]])+B{1}[E_B[t,v]](E_B{0,2}[t,v](A[v],A[v]))+B{2}[E_B[t,v]](A[E_B[t,v]],B[E_B[t,v]])-A{2}[E_B[t,v]](E_B{0,1}[t,v](A[v]),B[E_B[t,v]])-A{1}[E_B[t,v]](B{1}[E_B[t,v]](B[E_B[t,v]]))-A{1}[E_B[t,v]](-A{1}[E_B[t,v]](B[E_B[t,v]])+B{1}[E_B[t,v]](E_B{0,1}[t,v](A[v])))+B{2}[E_B[t,v]](E_B{0,1}[t,v](A[v]),E_B{0,1}[t,v](A[v]))-A{2}[E_B[t,v]](B[E_B[t,v]],E_B{0,1}[t,v](A[v])-A[E_B[t,v]])+B{1}[E_B[t,v]](A{1}[E_B[t,v]](B[E_B[t,v]]))-A{1}[E_B[t,v]](B{1}[E_B[t,v]](E_B{0,1}[t,v](A[v])))"
      ]
     },
     "execution_count": 21,
     "metadata": {},
     "output_type": "execute_result"
    }
   ],
   "source": [
    "ex2 = t_derivative(S2tv, t)"
   ]
  },
  {
   "cell_type": "code",
   "execution_count": 22,
   "metadata": {
    "collapsed": false
   },
   "outputs": [
    {
     "data": {
      "text/latex": [
       "$0$"
      ],
      "text/plain": [
       "0"
      ]
     },
     "execution_count": 22,
     "metadata": {},
     "output_type": "execute_result"
    }
   ],
   "source": [
    "expand(ex1-ex2)"
   ]
  },
  {
   "cell_type": "markdown",
   "metadata": {},
   "source": [
    "### Check (6)"
   ]
  },
  {
   "cell_type": "code",
   "execution_count": 23,
   "metadata": {
    "collapsed": false
   },
   "outputs": [
    {
     "data": {
      "text/plain": [
       "(T,)"
      ]
     },
     "execution_count": 23,
     "metadata": {},
     "output_type": "execute_result"
    }
   ],
   "source": [
    "@t_vars T"
   ]
  },
  {
   "cell_type": "code",
   "execution_count": 24,
   "metadata": {
    "collapsed": false
   },
   "outputs": [
    {
     "data": {
      "text/plain": [
       "(H,)"
      ]
     },
     "execution_count": 24,
     "metadata": {},
     "output_type": "execute_result"
    }
   ],
   "source": [
    "@funs H"
   ]
  },
  {
   "cell_type": "code",
   "execution_count": 25,
   "metadata": {
    "collapsed": false
   },
   "outputs": [
    {
     "data": {
      "text/latex": [
       "$\\partial_{2}\\mathcal{E}_{H}(T-t,\\mathcal{E}_{B}(t,\\mathcal{E}_{A}(t,u)))\\cdot (\\partial_{2}^{2}\\mathcal{E}_{B}(t,\\mathcal{E}_{A}(t,u))(B'(\\mathcal{E}_{A}(t,u))\\cdot A(\\mathcal{E}_{A}(t,u))-A'(\\mathcal{E}_{A}(t,u))\\cdot B(\\mathcal{E}_{A}(t,u)),A(\\mathcal{E}_{A}(t,u)))+B'(\\mathcal{E}_{B}(t,\\mathcal{E}_{A}(t,u)))\\cdot \\partial_{2}\\mathcal{E}_{B}(t,\\mathcal{E}_{A}(t,u))\\cdot (B'(\\mathcal{E}_{A}(t,u))\\cdot A(\\mathcal{E}_{A}(t,u))-A'(\\mathcal{E}_{A}(t,u))\\cdot B(\\mathcal{E}_{A}(t,u)))+\\partial_{2}\\mathcal{E}_{B}(t,\\mathcal{E}_{A}(t,u))\\cdot (-A''(\\mathcal{E}_{A}(t,u))(B(\\mathcal{E}_{A}(t,u)),A(\\mathcal{E}_{A}(t,u)))+B'(\\mathcal{E}_{A}(t,u))\\cdot A'(\\mathcal{E}_{A}(t,u))\\cdot A(\\mathcal{E}_{A}(t,u))+B''(\\mathcal{E}_{A}(t,u))(A(\\mathcal{E}_{A}(t,u)),A(\\mathcal{E}_{A}(t,u)))-A'(\\mathcal{E}_{A}(t,u))\\cdot B'(\\mathcal{E}_{A}(t,u))\\cdot A(\\mathcal{E}_{A}(t,u))))-H'(\\mathcal{E}_{H}(T-t,\\mathcal{E}_{B}(t,\\mathcal{E}_{A}(t,u))))\\cdot \\partial_{2}\\mathcal{E}_{H}(T-t,\\mathcal{E}_{B}(t,\\mathcal{E}_{A}(t,u)))\\cdot \\partial_{2}\\mathcal{E}_{B}(t,\\mathcal{E}_{A}(t,u))\\cdot (B'(\\mathcal{E}_{A}(t,u))\\cdot A(\\mathcal{E}_{A}(t,u))-A'(\\mathcal{E}_{A}(t,u))\\cdot B(\\mathcal{E}_{A}(t,u)))+\\partial_{2}^{2}\\mathcal{E}_{H}(T-t,\\mathcal{E}_{B}(t,\\mathcal{E}_{A}(t,u)))(\\partial_{2}\\mathcal{E}_{B}(t,\\mathcal{E}_{A}(t,u))\\cdot (B'(\\mathcal{E}_{A}(t,u))\\cdot A(\\mathcal{E}_{A}(t,u))-A'(\\mathcal{E}_{A}(t,u))\\cdot B(\\mathcal{E}_{A}(t,u))),B(\\mathcal{E}_{B}(t,\\mathcal{E}_{A}(t,u)))+\\partial_{2}\\mathcal{E}_{B}(t,\\mathcal{E}_{A}(t,u))\\cdot A(\\mathcal{E}_{A}(t,u)))$"
      ],
      "text/plain": [
       "E_H{0,1}[T-t,E_B[t,E_A[t,u]]](E_B{0,2}[t,E_A[t,u]](B{1}[E_A[t,u]](A[E_A[t,u]])-A{1}[E_A[t,u]](B[E_A[t,u]]),A[E_A[t,u]])+B{1}[E_B[t,E_A[t,u]]](E_B{0,1}[t,E_A[t,u]](B{1}[E_A[t,u]](A[E_A[t,u]])-A{1}[E_A[t,u]](B[E_A[t,u]])))+E_B{0,1}[t,E_A[t,u]](-A{2}[E_A[t,u]](B[E_A[t,u]],A[E_A[t,u]])+B{1}[E_A[t,u]](A{1}[E_A[t,u]](A[E_A[t,u]]))+B{2}[E_A[t,u]](A[E_A[t,u]],A[E_A[t,u]])-A{1}[E_A[t,u]](B{1}[E_A[t,u]](A[E_A[t,u]]))))-H{1}[E_H[T-t,E_B[t,E_A[t,u]]]](E_H{0,1}[T-t,E_B[t,E_A[t,u]]](E_B{0,1}[t,E_A[t,u]](B{1}[E_A[t,u]](A[E_A[t,u]])-A{1}[E_A[t,u]](B[E_A[t,u]]))))+E_H{0,2}[T-t,E_B[t,E_A[t,u]]](E_B{0,1}[t,E_A[t,u]](B{1}[E_A[t,u]](A[E_A[t,u]])-A{1}[E_A[t,u]](B[E_A[t,u]])),B[E_B[t,E_A[t,u]]]+E_B{0,1}[t,E_A[t,u]](A[E_A[t,u]]))"
      ]
     },
     "execution_count": 25,
     "metadata": {},
     "output_type": "execute_result"
    }
   ],
   "source": [
    "ex1 = t_derivative(E(H, T-t, Stu, E(B, t, E(A, t, u), commutator(B, A, E(A, t, u)))), t)"
   ]
  },
  {
   "cell_type": "code",
   "execution_count": 26,
   "metadata": {
    "collapsed": false
   },
   "outputs": [
    {
     "data": {
      "text/latex": [
       "$\\partial_{2}^{2}\\mathcal{E}_{H}(T-t,\\mathcal{E}_{B}(t,\\mathcal{E}_{A}(t,u)))(-A(\\mathcal{E}_{B}(t,\\mathcal{E}_{A}(t,u)))+\\partial_{2}\\mathcal{E}_{B}(t,\\mathcal{E}_{A}(t,u))\\cdot A(\\mathcal{E}_{A}(t,u)),\\partial_{2}\\mathcal{E}_{B}(t,\\mathcal{E}_{A}(t,u))\\cdot (B'(\\mathcal{E}_{A}(t,u))\\cdot A(\\mathcal{E}_{A}(t,u))-A'(\\mathcal{E}_{A}(t,u))\\cdot B(\\mathcal{E}_{A}(t,u))))-\\partial_{2}\\mathcal{E}_{H}(T-t,\\mathcal{E}_{B}(t,\\mathcal{E}_{A}(t,u)))\\cdot \\partial_{2}\\mathcal{E}_{B}(t,\\mathcal{E}_{A}(t,u))\\cdot (A''(\\mathcal{E}_{A}(t,u))(B(\\mathcal{E}_{A}(t,u)),A(\\mathcal{E}_{A}(t,u)))+A'(\\mathcal{E}_{A}(t,u))\\cdot (B'(\\mathcal{E}_{A}(t,u))\\cdot A(\\mathcal{E}_{A}(t,u))-A'(\\mathcal{E}_{A}(t,u))\\cdot B(\\mathcal{E}_{A}(t,u)))-B'(\\mathcal{E}_{A}(t,u))\\cdot A'(\\mathcal{E}_{A}(t,u))\\cdot A(\\mathcal{E}_{A}(t,u))+A'(\\mathcal{E}_{A}(t,u))\\cdot B'(\\mathcal{E}_{A}(t,u))\\cdot A(\\mathcal{E}_{A}(t,u))-B''(\\mathcal{E}_{A}(t,u))(A(\\mathcal{E}_{A}(t,u)),A(\\mathcal{E}_{A}(t,u))))+\\partial_{2}\\mathcal{E}_{H}(T-t,\\mathcal{E}_{B}(t,\\mathcal{E}_{A}(t,u)))\\cdot (\\partial_{2}^{2}\\mathcal{E}_{B}(t,\\mathcal{E}_{A}(t,u))(B'(\\mathcal{E}_{A}(t,u))\\cdot A(\\mathcal{E}_{A}(t,u))-A'(\\mathcal{E}_{A}(t,u))\\cdot B(\\mathcal{E}_{A}(t,u)),A(\\mathcal{E}_{A}(t,u)))+\\partial_{2}\\mathcal{E}_{B}(t,\\mathcal{E}_{A}(t,u))\\cdot A'(\\mathcal{E}_{A}(t,u))\\cdot (B'(\\mathcal{E}_{A}(t,u))\\cdot A(\\mathcal{E}_{A}(t,u))-A'(\\mathcal{E}_{A}(t,u))\\cdot B(\\mathcal{E}_{A}(t,u)))-A'(\\mathcal{E}_{B}(t,\\mathcal{E}_{A}(t,u)))\\cdot \\partial_{2}\\mathcal{E}_{B}(t,\\mathcal{E}_{A}(t,u))\\cdot (B'(\\mathcal{E}_{A}(t,u))\\cdot A(\\mathcal{E}_{A}(t,u))-A'(\\mathcal{E}_{A}(t,u))\\cdot B(\\mathcal{E}_{A}(t,u))))$"
      ],
      "text/plain": [
       "E_H{0,2}[T-t,E_B[t,E_A[t,u]]](-A[E_B[t,E_A[t,u]]]+E_B{0,1}[t,E_A[t,u]](A[E_A[t,u]]),E_B{0,1}[t,E_A[t,u]](B{1}[E_A[t,u]](A[E_A[t,u]])-A{1}[E_A[t,u]](B[E_A[t,u]])))-E_H{0,1}[T-t,E_B[t,E_A[t,u]]](E_B{0,1}[t,E_A[t,u]](A{2}[E_A[t,u]](B[E_A[t,u]],A[E_A[t,u]])+A{1}[E_A[t,u]](B{1}[E_A[t,u]](A[E_A[t,u]])-A{1}[E_A[t,u]](B[E_A[t,u]]))-B{1}[E_A[t,u]](A{1}[E_A[t,u]](A[E_A[t,u]]))+A{1}[E_A[t,u]](B{1}[E_A[t,u]](A[E_A[t,u]]))-B{2}[E_A[t,u]](A[E_A[t,u]],A[E_A[t,u]])))+E_H{0,1}[T-t,E_B[t,E_A[t,u]]](E_B{0,2}[t,E_A[t,u]](B{1}[E_A[t,u]](A[E_A[t,u]])-A{1}[E_A[t,u]](B[E_A[t,u]]),A[E_A[t,u]])+E_B{0,1}[t,E_A[t,u]](A{1}[E_A[t,u]](B{1}[E_A[t,u]](A[E_A[t,u]])-A{1}[E_A[t,u]](B[E_A[t,u]])))-A{1}[E_B[t,E_A[t,u]]](E_B{0,1}[t,E_A[t,u]](B{1}[E_A[t,u]](A[E_A[t,u]])-A{1}[E_A[t,u]](B[E_A[t,u]]))))"
      ]
     },
     "execution_count": 26,
     "metadata": {},
     "output_type": "execute_result"
    }
   ],
   "source": [
    "ex2 = substitute(-E(H, T-t, E(B, t, v), E(B, t, v, commutator(A, B, A, v)))\n",
    "                 +E(H, T-t, E(B, t, v), differential(S1tv, v, commutator(B, A, v)))\n",
    "                 +E(H, T-t, E(B, t, v), S1tv, E(B, t, v, commutator(B, A, v)))\n",
    "                ,v , E(A,t,u))"
   ]
  },
  {
   "cell_type": "code",
   "execution_count": 27,
   "metadata": {
    "collapsed": false
   },
   "outputs": [
    {
     "data": {
      "text/latex": [
       "$0$"
      ],
      "text/plain": [
       "0"
      ]
     },
     "execution_count": 27,
     "metadata": {},
     "output_type": "execute_result"
    }
   ],
   "source": [
    "diff = ex1-ex2\n",
    "diff = FE2DEF(ex1-ex2)\n",
    "diff = substitute(diff, H, A(v)+B(v), v)\n",
    "diff = \n",
    "expand(reduce_order(diff))"
   ]
  },
  {
   "cell_type": "code",
   "execution_count": null,
   "metadata": {
    "collapsed": true
   },
   "outputs": [],
   "source": []
  }
 ],
 "metadata": {
  "kernelspec": {
   "display_name": "Julia 0.4.5",
   "language": "julia",
   "name": "julia-0.4"
  },
  "language_info": {
   "file_extension": ".jl",
   "mimetype": "application/julia",
   "name": "julia",
   "version": "0.4.5"
  }
 },
 "nbformat": 4,
 "nbformat_minor": 0
}
