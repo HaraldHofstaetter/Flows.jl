{
 "cells": [
  {
   "cell_type": "code",
   "execution_count": 1,
   "metadata": {
    "collapsed": false
   },
   "outputs": [],
   "source": [
    "using Flows"
   ]
  },
  {
   "cell_type": "code",
   "execution_count": 2,
   "metadata": {
    "collapsed": false
   },
   "outputs": [
    {
     "data": {
      "text/plain": [
       "(F,G,H)"
      ]
     },
     "execution_count": 2,
     "metadata": {},
     "output_type": "execute_result"
    }
   ],
   "source": [
    "@funs F,G,H"
   ]
  },
  {
   "cell_type": "code",
   "execution_count": 3,
   "metadata": {
    "collapsed": false
   },
   "outputs": [
    {
     "data": {
      "text/plain": [
       "(u,v)"
      ]
     },
     "execution_count": 3,
     "metadata": {},
     "output_type": "execute_result"
    }
   ],
   "source": [
    "@x_vars u,v"
   ]
  },
  {
   "cell_type": "code",
   "execution_count": 4,
   "metadata": {
    "collapsed": false
   },
   "outputs": [
    {
     "data": {
      "text/plain": [
       "(t,s)"
      ]
     },
     "execution_count": 4,
     "metadata": {},
     "output_type": "execute_result"
    }
   ],
   "source": [
    "@t_vars t,s"
   ]
  },
  {
   "cell_type": "code",
   "execution_count": 5,
   "metadata": {
    "collapsed": false
   },
   "outputs": [
    {
     "data": {
      "text/latex": [
       "$F$"
      ],
      "text/plain": [
       "F"
      ]
     },
     "execution_count": 5,
     "metadata": {},
     "output_type": "execute_result"
    }
   ],
   "source": [
    "F"
   ]
  },
  {
   "cell_type": "code",
   "execution_count": 6,
   "metadata": {
    "collapsed": false
   },
   "outputs": [
    {
     "data": {
      "text/latex": [
       "$F+2G$"
      ],
      "text/plain": [
       "F+2G"
      ]
     },
     "execution_count": 6,
     "metadata": {},
     "output_type": "execute_result"
    }
   ],
   "source": [
    "F+2G"
   ]
  },
  {
   "cell_type": "code",
   "execution_count": 7,
   "metadata": {
    "collapsed": false
   },
   "outputs": [
    {
     "data": {
      "text/latex": [
       "$3F+6G$"
      ],
      "text/plain": [
       "3F+6G"
      ]
     },
     "execution_count": 7,
     "metadata": {},
     "output_type": "execute_result"
    }
   ],
   "source": [
    "ex=F+2(F+3G)"
   ]
  },
  {
   "cell_type": "code",
   "execution_count": 8,
   "metadata": {
    "collapsed": false
   },
   "outputs": [
    {
     "data": {
      "text/plain": [
       "Flows.OperatorLinearCombination"
      ]
     },
     "execution_count": 8,
     "metadata": {},
     "output_type": "execute_result"
    }
   ],
   "source": [
    "typeof(ex)"
   ]
  },
  {
   "cell_type": "code",
   "execution_count": 9,
   "metadata": {
    "collapsed": false
   },
   "outputs": [
    {
     "data": {
      "text/plain": [
       "6"
      ]
     },
     "execution_count": 9,
     "metadata": {},
     "output_type": "execute_result"
    }
   ],
   "source": [
    "coefficient(ex, G)"
   ]
  },
  {
   "cell_type": "code",
   "execution_count": 10,
   "metadata": {
    "collapsed": false
   },
   "outputs": [
    {
     "data": {
      "text/latex": [
       "$\\mathrm{e}^{(3s+2t)D_{2F+3G}}$"
      ],
      "text/plain": [
       "exp(3s+2t,D(2F+3G))"
      ]
     },
     "execution_count": 10,
     "metadata": {},
     "output_type": "execute_result"
    }
   ],
   "source": [
    "exp(2t+3s,D(2F+3G))"
   ]
  },
  {
   "cell_type": "code",
   "execution_count": 11,
   "metadata": {
    "collapsed": false
   },
   "outputs": [
    {
     "data": {
      "text/latex": [
       "$D_{3F+2G}$"
      ],
      "text/plain": [
       "D(3F+2G)"
      ]
     },
     "execution_count": 11,
     "metadata": {},
     "output_type": "execute_result"
    }
   ],
   "source": [
    "D(3F+2G)"
   ]
  },
  {
   "cell_type": "code",
   "execution_count": 12,
   "metadata": {
    "collapsed": false
   },
   "outputs": [
    {
     "data": {
      "text/latex": [
       "$D_{-F}D_{2F}$"
      ],
      "text/plain": [
       "D(-F)*D(2F)"
      ]
     },
     "execution_count": 12,
     "metadata": {},
     "output_type": "execute_result"
    }
   ],
   "source": [
    "D(-1F)*D(2F)"
   ]
  },
  {
   "cell_type": "code",
   "execution_count": 13,
   "metadata": {
    "collapsed": false,
    "scrolled": true
   },
   "outputs": [
    {
     "data": {
      "text/latex": [
       "$\\mathrm{e}^{(3s+2t)D_{2F+3G}}D_{3F+2G}$"
      ],
      "text/plain": [
       "exp(3s+2t,D(2F+3G))*D(3F+2G)"
      ]
     },
     "execution_count": 13,
     "metadata": {},
     "output_type": "execute_result"
    }
   ],
   "source": [
    "exp(2t+3s,D(2F+3G))D(3F+2G)"
   ]
  },
  {
   "cell_type": "code",
   "execution_count": 14,
   "metadata": {
    "collapsed": false
   },
   "outputs": [
    {
     "data": {
      "text/latex": [
       "$D_{F}D_{G}$"
      ],
      "text/plain": [
       "D(F)*D(G)"
      ]
     },
     "execution_count": 14,
     "metadata": {},
     "output_type": "execute_result"
    }
   ],
   "source": [
    "ex=D(F)*D(G)"
   ]
  },
  {
   "cell_type": "code",
   "execution_count": 15,
   "metadata": {
    "collapsed": false
   },
   "outputs": [
    {
     "data": {
      "text/plain": [
       "Flows.LieMonomial"
      ]
     },
     "execution_count": 15,
     "metadata": {},
     "output_type": "execute_result"
    }
   ],
   "source": [
    "typeof(ex)"
   ]
  },
  {
   "cell_type": "code",
   "execution_count": 16,
   "metadata": {
    "collapsed": false
   },
   "outputs": [
    {
     "data": {
      "text/latex": [
       "$D_{H}D_{F}D_{G}$"
      ],
      "text/plain": [
       "D(H)*D(F)*D(G)"
      ]
     },
     "execution_count": 16,
     "metadata": {},
     "output_type": "execute_result"
    }
   ],
   "source": [
    "D(H)*ex"
   ]
  },
  {
   "cell_type": "code",
   "execution_count": 17,
   "metadata": {
    "collapsed": false
   },
   "outputs": [
    {
     "data": {
      "text/plain": [
       "Flows.LieMonomial"
      ]
     },
     "execution_count": 17,
     "metadata": {},
     "output_type": "execute_result"
    }
   ],
   "source": [
    "typeof(ex*D(F))"
   ]
  },
  {
   "cell_type": "code",
   "execution_count": 18,
   "metadata": {
    "collapsed": false
   },
   "outputs": [
    {
     "data": {
      "text/latex": [
       "$D_{F}D_{G}\\mathrm{e}^{(-3s+2t)D_{3F}}+D_{F}D_{H}\\mathrm{e}^{(-3s+2t)D_{3F}}$"
      ],
      "text/plain": [
       "D(F)*D(G)*exp(-3s+2t,D(3F))+D(F)*D(H)*exp(-3s+2t,D(3F))"
      ]
     },
     "execution_count": 18,
     "metadata": {},
     "output_type": "execute_result"
    }
   ],
   "source": [
    "ex=D(F)*(D(G)+D(H))*exp(2t-3s,D(3F))"
   ]
  },
  {
   "cell_type": "code",
   "execution_count": 19,
   "metadata": {
    "collapsed": false
   },
   "outputs": [
    {
     "data": {
      "text/plain": [
       "\"D(F)*D(G)*exp(-3s+2t,D(3F))+D(F)*D(H)*exp(-3s+2t,D(3F))\""
      ]
     },
     "execution_count": 19,
     "metadata": {},
     "output_type": "execute_result"
    }
   ],
   "source": [
    "string(ex)"
   ]
  },
  {
   "cell_type": "code",
   "execution_count": 20,
   "metadata": {
    "collapsed": false
   },
   "outputs": [
    {
     "data": {
      "text/latex": [
       "$6D_{F}D_{G}+6D_{F}D_{H}$"
      ],
      "text/plain": [
       "6D(F)*D(G)+6D(F)*D(H)"
      ]
     },
     "execution_count": 20,
     "metadata": {},
     "output_type": "execute_result"
    }
   ],
   "source": [
    "6D(F)D(H)+6D(F)D(G)"
   ]
  },
  {
   "cell_type": "code",
   "execution_count": 21,
   "metadata": {
    "collapsed": false
   },
   "outputs": [
    {
     "data": {
      "text/plain": [
       "Flows.LieLinearCombination"
      ]
     },
     "execution_count": 21,
     "metadata": {},
     "output_type": "execute_result"
    }
   ],
   "source": [
    "typeof(ex)"
   ]
  },
  {
   "cell_type": "code",
   "execution_count": 22,
   "metadata": {
    "collapsed": false
   },
   "outputs": [
    {
     "data": {
      "text/latex": [
       "$D_{F}D_{G}-D_{G}D_{F}$"
      ],
      "text/plain": [
       "D(F)*D(G)-D(G)*D(F)"
      ]
     },
     "execution_count": 22,
     "metadata": {},
     "output_type": "execute_result"
    }
   ],
   "source": [
    "D(F)D(G)-D(G)D(F)"
   ]
  },
  {
   "cell_type": "code",
   "execution_count": 23,
   "metadata": {
    "collapsed": false
   },
   "outputs": [
    {
     "data": {
      "text/plain": [
       "Flows.LieDerivative"
      ]
     },
     "execution_count": 23,
     "metadata": {},
     "output_type": "execute_result"
    }
   ],
   "source": [
    "typeof(D(F))"
   ]
  },
  {
   "cell_type": "code",
   "execution_count": 24,
   "metadata": {
    "collapsed": false
   },
   "outputs": [
    {
     "data": {
      "text/latex": [
       "$\\mathrm{e}^{(17s-t)D_{3F-4G}}$"
      ],
      "text/plain": [
       "exp(17s-t,D(3F-4G))"
      ]
     },
     "execution_count": 24,
     "metadata": {},
     "output_type": "execute_result"
    }
   ],
   "source": [
    "exp(-t+17s,D(3F-4G))"
   ]
  },
  {
   "cell_type": "code",
   "execution_count": 25,
   "metadata": {
    "collapsed": false
   },
   "outputs": [
    {
     "data": {
      "text/plain": [
       "Flows.LieExponential"
      ]
     },
     "execution_count": 25,
     "metadata": {},
     "output_type": "execute_result"
    }
   ],
   "source": [
    "typeof(exp(t,D(F)))"
   ]
  },
  {
   "cell_type": "code",
   "execution_count": 26,
   "metadata": {
    "collapsed": false
   },
   "outputs": [
    {
     "data": {
      "text/latex": [
       "$-F$"
      ],
      "text/plain": [
       "-F"
      ]
     },
     "execution_count": 26,
     "metadata": {},
     "output_type": "execute_result"
    }
   ],
   "source": [
    "-4F+3F"
   ]
  },
  {
   "cell_type": "code",
   "execution_count": 27,
   "metadata": {
    "collapsed": false
   },
   "outputs": [
    {
     "data": {
      "text/latex": [
       "$D_{F}D_{G}\\mathrm{e}^{(-3s+2t)D_{3F}}+D_{F}D_{H}\\mathrm{e}^{(-3s+2t)D_{3F}}$"
      ],
      "text/plain": [
       "D(F)*D(G)*exp(-3s+2t,D(3F))+D(F)*D(H)*exp(-3s+2t,D(3F))"
      ]
     },
     "execution_count": 27,
     "metadata": {},
     "output_type": "execute_result"
    }
   ],
   "source": [
    "ex"
   ]
  },
  {
   "cell_type": "code",
   "execution_count": 28,
   "metadata": {
    "collapsed": false
   },
   "outputs": [
    {
     "data": {
      "text/latex": [
       "$(D_{F}D_{G}\\mathrm{e}^{(-3s+2t)D_{3F}}+D_{F}D_{H}\\mathrm{e}^{(-3s+2t)D_{3F}})F(u)$"
      ],
      "text/plain": [
       "combine(D(F)*D(G)*exp(-3s+2t,D(3F))+D(F)*D(H)*exp(-3s+2t,D(3F)),F(u),u)"
      ]
     },
     "execution_count": 28,
     "metadata": {},
     "output_type": "execute_result"
    }
   ],
   "source": [
    "comb=combine(ex,F(u),u)"
   ]
  },
  {
   "cell_type": "code",
   "execution_count": 29,
   "metadata": {
    "collapsed": false
   },
   "outputs": [
    {
     "data": {
      "text/latex": [
       "$F'(\\mathcal{E}_{F}(-9s+6t,u))\\cdot (\\partial_{2}\\mathcal{E}_{F}(-9s+6t,u)\\cdot G'(u)\\cdot F(u)+\\partial_{2}^{2}\\mathcal{E}_{F}(-9s+6t,u)(G(u),F(u)))+F'(\\mathcal{E}_{F}(-9s+6t,u))\\cdot (\\partial_{2}\\mathcal{E}_{F}(-9s+6t,u)\\cdot H'(u)\\cdot F(u)+\\partial_{2}^{2}\\mathcal{E}_{F}(-9s+6t,u)(H(u),F(u)))+F''(\\mathcal{E}_{F}(-9s+6t,u))(\\partial_{2}\\mathcal{E}_{F}(-9s+6t,u)\\cdot H(u),\\partial_{2}\\mathcal{E}_{F}(-9s+6t,u)\\cdot F(u))+F''(\\mathcal{E}_{F}(-9s+6t,u))(\\partial_{2}\\mathcal{E}_{F}(-9s+6t,u)\\cdot G(u),\\partial_{2}\\mathcal{E}_{F}(-9s+6t,u)\\cdot F(u))$"
      ],
      "text/plain": [
       "F(E(F,-9s+6t,u),E(F,-9s+6t,u,G(u,F(u)))+E(F,-9s+6t,u,G(u),F(u)))+F(E(F,-9s+6t,u),E(F,-9s+6t,u,H(u,F(u)))+E(F,-9s+6t,u,H(u),F(u)))+F(E(F,-9s+6t,u),E(F,-9s+6t,u,H(u)),E(F,-9s+6t,u,F(u)))+F(E(F,-9s+6t,u),E(F,-9s+6t,u,G(u)),E(F,-9s+6t,u,F(u)))"
      ]
     },
     "execution_count": 29,
     "metadata": {},
     "output_type": "execute_result"
    }
   ],
   "source": [
    "transform(comb)"
   ]
  },
  {
   "cell_type": "code",
   "execution_count": 30,
   "metadata": {
    "collapsed": false
   },
   "outputs": [
    {
     "data": {
      "text/latex": [
       "$(-D_{F})G(u)$"
      ],
      "text/plain": [
       "combine(-D(F),G(u),u)"
      ]
     },
     "execution_count": 30,
     "metadata": {},
     "output_type": "execute_result"
    }
   ],
   "source": [
    "-D(F)*G(u)"
   ]
  },
  {
   "cell_type": "code",
   "execution_count": 31,
   "metadata": {
    "collapsed": false,
    "scrolled": true
   },
   "outputs": [
    {
     "data": {
      "text/plain": [
       "\"combine(3exp(t,D(F)),u,u)+v\""
      ]
     },
     "execution_count": 31,
     "metadata": {},
     "output_type": "execute_result"
    }
   ],
   "source": [
    "string(3exp(t,D(F))*u+v)"
   ]
  },
  {
   "cell_type": "code",
   "execution_count": 32,
   "metadata": {
    "collapsed": false
   },
   "outputs": [
    {
     "data": {
      "text/latex": [
       "$D_{F}D_{G}[G(\\cdot)+F(\\cdot)](u)$"
      ],
      "text/plain": [
       "combine(D(F)*D(G),G(u)+F(u),u)"
      ]
     },
     "execution_count": 32,
     "metadata": {},
     "output_type": "execute_result"
    }
   ],
   "source": [
    "ex = combine(D(F)*D(G),F(u)+G(u),u)"
   ]
  },
  {
   "cell_type": "code",
   "execution_count": 33,
   "metadata": {
    "collapsed": false
   },
   "outputs": [
    {
     "data": {
      "text/latex": [
       "$G''(u)(G(u),F(u))+G'(u)\\cdot G'(u)\\cdot F(u)+F'(u)\\cdot G'(u)\\cdot F(u)+F''(u)(G(u),F(u))$"
      ],
      "text/plain": [
       "G(u,G(u),F(u))+G(u,G(u,F(u)))+F(u,G(u,F(u)))+F(u,G(u),F(u))"
      ]
     },
     "execution_count": 33,
     "metadata": {},
     "output_type": "execute_result"
    }
   ],
   "source": [
    "transform(ex)"
   ]
  },
  {
   "cell_type": "code",
   "execution_count": 34,
   "metadata": {
    "collapsed": false
   },
   "outputs": [
    {
     "data": {
      "text/latex": [
       "$D_{F}[(\\cdot)+2v](u)$"
      ],
      "text/plain": [
       "combine(D(F),u+2v,u)"
      ]
     },
     "execution_count": 34,
     "metadata": {},
     "output_type": "execute_result"
    }
   ],
   "source": [
    "comb=combine(D(F), u+2v,u)"
   ]
  },
  {
   "cell_type": "code",
   "execution_count": 35,
   "metadata": {
    "collapsed": false
   },
   "outputs": [
    {
     "data": {
      "text/latex": [
       "$F(u)$"
      ],
      "text/plain": [
       "F(u)"
      ]
     },
     "execution_count": 35,
     "metadata": {},
     "output_type": "execute_result"
    }
   ],
   "source": [
    "transform(comb)"
   ]
  },
  {
   "cell_type": "code",
   "execution_count": 36,
   "metadata": {
    "collapsed": false
   },
   "outputs": [
    {
     "data": {
      "text/plain": [
       "\"combine(D(F),u+2v,u)\""
      ]
     },
     "execution_count": 36,
     "metadata": {},
     "output_type": "execute_result"
    }
   ],
   "source": [
    "string(comb)"
   ]
  },
  {
   "cell_type": "code",
   "execution_count": 37,
   "metadata": {
    "collapsed": false
   },
   "outputs": [
    {
     "data": {
      "text/latex": [
       "$D_{F+G}$"
      ],
      "text/plain": [
       "D(F+G)"
      ]
     },
     "execution_count": 37,
     "metadata": {},
     "output_type": "execute_result"
    }
   ],
   "source": [
    "ex=D(F+G)"
   ]
  },
  {
   "cell_type": "code",
   "execution_count": 38,
   "metadata": {
    "collapsed": false
   },
   "outputs": [
    {
     "data": {
      "text/plain": [
       "Flows.OperatorLinearCombination"
      ]
     },
     "execution_count": 38,
     "metadata": {},
     "output_type": "execute_result"
    }
   ],
   "source": [
    "typeof(ex.F)"
   ]
  },
  {
   "cell_type": "code",
   "execution_count": 39,
   "metadata": {
    "collapsed": false
   },
   "outputs": [
    {
     "data": {
      "text/latex": [
       "$G$"
      ],
      "text/plain": [
       "G"
      ]
     },
     "execution_count": 39,
     "metadata": {},
     "output_type": "execute_result"
    }
   ],
   "source": [
    "G=Operator(\"G\")"
   ]
  },
  {
   "cell_type": "code",
   "execution_count": 40,
   "metadata": {
    "collapsed": false
   },
   "outputs": [
    {
     "data": {
      "text/latex": [
       "$3H'(u)\\cdot F(u)+G'(u)\\cdot F(u)$"
      ],
      "text/plain": [
       "3H(u,F(u))+G(u,F(u))"
      ]
     },
     "execution_count": 40,
     "metadata": {},
     "output_type": "execute_result"
    }
   ],
   "source": [
    "transform(D(F),(G(u)+3H(u)),u)"
   ]
  },
  {
   "cell_type": "code",
   "execution_count": 41,
   "metadata": {
    "collapsed": false
   },
   "outputs": [
    {
     "data": {
      "text/latex": [
       "$G'(H(u))\\cdot H'(u)\\cdot F(u)$"
      ],
      "text/plain": [
       "G(H(u),H(u,F(u)))"
      ]
     },
     "execution_count": 41,
     "metadata": {},
     "output_type": "execute_result"
    }
   ],
   "source": [
    "transform(D(F),(G(H(u))),u)"
   ]
  },
  {
   "cell_type": "code",
   "execution_count": 42,
   "metadata": {
    "collapsed": false
   },
   "outputs": [
    {
     "data": {
      "text/latex": [
       "$F(u)$"
      ],
      "text/plain": [
       "F(u)"
      ]
     },
     "execution_count": 42,
     "metadata": {},
     "output_type": "execute_result"
    }
   ],
   "source": [
    "transform(D(F),u,u)"
   ]
  },
  {
   "cell_type": "code",
   "execution_count": 43,
   "metadata": {
    "collapsed": false
   },
   "outputs": [
    {
     "data": {
      "text/latex": [
       "$H'(u)\\cdot (2G(u)+F(u))$"
      ],
      "text/plain": [
       "H(u,2G(u)+F(u))"
      ]
     },
     "execution_count": 43,
     "metadata": {},
     "output_type": "execute_result"
    }
   ],
   "source": [
    "transform(D(F+2G),H(u),u)"
   ]
  },
  {
   "cell_type": "code",
   "execution_count": 44,
   "metadata": {
    "collapsed": false
   },
   "outputs": [
    {
     "data": {
      "text/latex": [
       "$D_{F}G(u)$"
      ],
      "text/plain": [
       "combine(D(F),G(u),u)"
      ]
     },
     "execution_count": 44,
     "metadata": {},
     "output_type": "execute_result"
    }
   ],
   "source": [
    "ex = D(F)*G(u)"
   ]
  },
  {
   "cell_type": "code",
   "execution_count": 45,
   "metadata": {
    "collapsed": false
   },
   "outputs": [
    {
     "data": {
      "text/latex": [
       "$G'(u)\\cdot F(u)$"
      ],
      "text/plain": [
       "G(u,F(u))"
      ]
     },
     "execution_count": 45,
     "metadata": {},
     "output_type": "execute_result"
    }
   ],
   "source": [
    "transform(ex)"
   ]
  },
  {
   "cell_type": "code",
   "execution_count": 46,
   "metadata": {
    "collapsed": false
   },
   "outputs": [
    {
     "data": {
      "text/latex": [
       "$3H(\\mathcal{E}_{F}(t,u))+G(\\mathcal{E}_{F}(t,u))$"
      ],
      "text/plain": [
       "3H(E(F,t,u))+G(E(F,t,u))"
      ]
     },
     "execution_count": 46,
     "metadata": {},
     "output_type": "execute_result"
    }
   ],
   "source": [
    "transform(exp(t,D(F)), G(u)+3H(u), u)"
   ]
  },
  {
   "cell_type": "code",
   "execution_count": 47,
   "metadata": {
    "collapsed": false
   },
   "outputs": [
    {
     "data": {
      "text/latex": [
       "$G(H(\\mathcal{E}_{F}(t,u)))$"
      ],
      "text/plain": [
       "G(H(E(F,t,u)))"
      ]
     },
     "execution_count": 47,
     "metadata": {},
     "output_type": "execute_result"
    }
   ],
   "source": [
    "transform(exp(t,D(F)), G(H(u)), u)"
   ]
  },
  {
   "cell_type": "code",
   "execution_count": 48,
   "metadata": {
    "collapsed": false
   },
   "outputs": [
    {
     "data": {
      "text/latex": [
       "$\\mathcal{E}_{F}(t,u)$"
      ],
      "text/plain": [
       "E(F,t,u)"
      ]
     },
     "execution_count": 48,
     "metadata": {},
     "output_type": "execute_result"
    }
   ],
   "source": [
    "transform(exp(t,D(F)), u, u)"
   ]
  },
  {
   "cell_type": "code",
   "execution_count": 49,
   "metadata": {
    "collapsed": false
   },
   "outputs": [
    {
     "data": {
      "text/latex": [
       "$\\mathcal{E}_{F}(6s+3t,u)$"
      ],
      "text/plain": [
       "E(F,6s+3t,u)"
      ]
     },
     "execution_count": 49,
     "metadata": {},
     "output_type": "execute_result"
    }
   ],
   "source": [
    "transform(exp(t+2s,D(3F)), u, u)"
   ]
  },
  {
   "cell_type": "code",
   "execution_count": 50,
   "metadata": {
    "collapsed": false
   },
   "outputs": [
    {
     "ename": "LoadError",
     "evalue": "LoadError: AssertionError: Flow of OperatorLinearCombination not implemented\nwhile loading In[50], in expression starting on line 1",
     "output_type": "error",
     "traceback": [
      "LoadError: AssertionError: Flow of OperatorLinearCombination not implemented\nwhile loading In[50], in expression starting on line 1",
      "",
      " in transform at /home/hofi/.julia/v0.4/Flows/src/lie_derivatives.jl:311"
     ]
    }
   ],
   "source": [
    "transform(exp(t,D(F+G)), u, u)"
   ]
  },
  {
   "cell_type": "code",
   "execution_count": 51,
   "metadata": {
    "collapsed": false
   },
   "outputs": [
    {
     "data": {
      "text/latex": [
       "$H'(u)\\cdot F(u)-2H'(u)\\cdot G(u)$"
      ],
      "text/plain": [
       "H(u,F(u))-2H(u,G(u))"
      ]
     },
     "execution_count": 51,
     "metadata": {},
     "output_type": "execute_result"
    }
   ],
   "source": [
    "transform(D(F)-2D(G),H(u))"
   ]
  },
  {
   "cell_type": "code",
   "execution_count": 52,
   "metadata": {
    "collapsed": false
   },
   "outputs": [
    {
     "data": {
      "text/plain": [
       "true"
      ]
     },
     "execution_count": 52,
     "metadata": {},
     "output_type": "execute_result"
    }
   ],
   "source": [
    "F(u)-G(v)==F(u)-G(v)"
   ]
  },
  {
   "cell_type": "code",
   "execution_count": 53,
   "metadata": {
    "collapsed": false
   },
   "outputs": [
    {
     "data": {
      "text/latex": [
       "$(-D_{G}D_{F}+D_{F}D_{G})\\mathrm{Id}(u)$"
      ],
      "text/plain": [
       "combine(-D(G)*D(F)+D(F)*D(G),u,u)"
      ]
     },
     "execution_count": 53,
     "metadata": {},
     "output_type": "execute_result"
    }
   ],
   "source": [
    "C = (D(F)*D(G)-D(G)*D(F))*u"
   ]
  },
  {
   "cell_type": "code",
   "execution_count": 54,
   "metadata": {
    "collapsed": false
   },
   "outputs": [
    {
     "data": {
      "text/latex": [
       "$-F'(u)\\cdot G(u)+G'(u)\\cdot F(u)$"
      ],
      "text/plain": [
       "-F(u,G(u))+G(u,F(u))"
      ]
     },
     "execution_count": 54,
     "metadata": {},
     "output_type": "execute_result"
    }
   ],
   "source": [
    "transform(C)"
   ]
  },
  {
   "cell_type": "code",
   "execution_count": 55,
   "metadata": {
    "collapsed": false
   },
   "outputs": [
    {
     "data": {
      "text/latex": [
       "$\\mathrm{e}^{tD_{F}}\\mathrm{e}^{sD_{G}}H(u)$"
      ],
      "text/plain": [
       "combine(exp(t,D(F))*exp(s,D(G)),H(u),u)"
      ]
     },
     "execution_count": 55,
     "metadata": {},
     "output_type": "execute_result"
    }
   ],
   "source": [
    "ex = exp(t,D(F))*exp(s,D(G))*H(u)"
   ]
  },
  {
   "cell_type": "code",
   "execution_count": 56,
   "metadata": {
    "collapsed": false
   },
   "outputs": [
    {
     "data": {
      "text/latex": [
       "$H(\\mathcal{E}_{G}(s,\\mathcal{E}_{F}(t,u)))$"
      ],
      "text/plain": [
       "H(E(G,s,E(F,t,u)))"
      ]
     },
     "execution_count": 56,
     "metadata": {},
     "output_type": "execute_result"
    }
   ],
   "source": [
    "transform(ex)"
   ]
  },
  {
   "cell_type": "code",
   "execution_count": 57,
   "metadata": {
    "collapsed": false
   },
   "outputs": [
    {
     "data": {
      "text/plain": [
       "\"exp(t,D(F))*exp(s,D(G))\""
      ]
     },
     "execution_count": 57,
     "metadata": {},
     "output_type": "execute_result"
    }
   ],
   "source": [
    "string(ex.lie_ex)"
   ]
  },
  {
   "cell_type": "code",
   "execution_count": 58,
   "metadata": {
    "collapsed": false
   },
   "outputs": [
    {
     "data": {
      "text/latex": [
       "$G(F(v)+v)$"
      ],
      "text/plain": [
       "G(F(v)+v)"
      ]
     },
     "execution_count": 58,
     "metadata": {},
     "output_type": "execute_result"
    }
   ],
   "source": [
    "G(transform(D(F)*v+v))"
   ]
  },
  {
   "cell_type": "code",
   "execution_count": 59,
   "metadata": {
    "collapsed": false
   },
   "outputs": [
    {
     "data": {
      "text/latex": [
       "$\\mathrm{e}^{tD_{F}}\\mathrm{e}^{sD_{G}}H(u)$"
      ],
      "text/plain": [
       "combine(exp(t,D(F))*exp(s,D(G)),H(u),u)"
      ]
     },
     "execution_count": 59,
     "metadata": {},
     "output_type": "execute_result"
    }
   ],
   "source": [
    "Flows.LieExSpaceExVarCombination(exp(t,D(F))*exp(s,D(G)),H(u),u)"
   ]
  },
  {
   "cell_type": "code",
   "execution_count": 60,
   "metadata": {
    "collapsed": false
   },
   "outputs": [
    {
     "data": {
      "text/latex": [
       "$\\partial_{2}\\mathcal{E}_{F}(t,u)\\cdot F'(u)\\cdot F(u)+\\partial_{2}^{2}\\mathcal{E}_{F}(t,u)(F(u),F(u))$"
      ],
      "text/plain": [
       "E(F,t,u,F(u,F(u)))+E(F,t,u,F(u),F(u))"
      ]
     },
     "execution_count": 60,
     "metadata": {},
     "output_type": "execute_result"
    }
   ],
   "source": [
    "transform(D(F)*D(F)*exp(t,D(F))*u)"
   ]
  },
  {
   "cell_type": "code",
   "execution_count": 61,
   "metadata": {
    "collapsed": false
   },
   "outputs": [
    {
     "data": {
      "text/latex": [
       "$F'(\\mathcal{E}_{F}(t,u))\\cdot \\partial_{2}\\mathcal{E}_{F}(t,u)\\cdot F(u)$"
      ],
      "text/plain": [
       "F(E(F,t,u),E(F,t,u,F(u)))"
      ]
     },
     "execution_count": 61,
     "metadata": {},
     "output_type": "execute_result"
    }
   ],
   "source": [
    "transform(D(F)*exp(t,D(F))*D(F)*u)"
   ]
  },
  {
   "cell_type": "code",
   "execution_count": 62,
   "metadata": {
    "collapsed": false
   },
   "outputs": [
    {
     "data": {
      "text/latex": [
       "$F''(\\mathcal{E}_{F}(t,u))(F(\\mathcal{E}_{F}(t,u)),\\partial_{2}\\mathcal{E}_{F}(t,u)\\cdot F(u))+F'(\\mathcal{E}_{F}(t,u))\\cdot F'(\\mathcal{E}_{F}(t,u))\\cdot \\partial_{2}\\mathcal{E}_{F}(t,u)\\cdot F(u)$"
      ],
      "text/plain": [
       "F(E(F,t,u),F(E(F,t,u)),E(F,t,u,F(u)))+F(E(F,t,u),F(E(F,t,u),E(F,t,u,F(u))))"
      ]
     },
     "execution_count": 62,
     "metadata": {},
     "output_type": "execute_result"
    }
   ],
   "source": [
    "transform(D(F)*exp(t,D(F))*D(F)*D(F)*u)"
   ]
  },
  {
   "cell_type": "code",
   "execution_count": 63,
   "metadata": {
    "collapsed": false
   },
   "outputs": [
    {
     "data": {
      "text/latex": [
       "$D_{F}D_{F}+D_{F}D_{G}+D_{G}D_{F}+D_{G}D_{G}$"
      ],
      "text/plain": [
       "D(F)*D(F)+D(F)*D(G)+D(G)*D(F)+D(G)*D(G)"
      ]
     },
     "execution_count": 63,
     "metadata": {},
     "output_type": "execute_result"
    }
   ],
   "source": [
    "(D(F)+D(G))*(D(F)+D(G))"
   ]
  },
  {
   "cell_type": "code",
   "execution_count": 64,
   "metadata": {
    "collapsed": false
   },
   "outputs": [
    {
     "data": {
      "text/latex": [
       "$D_{G}D_{G}\\mathrm{e}^{tD_{F}}D_{F}D_{F}\\mathrm{e}^{tD_{G}}\\mathrm{Id}(u)$"
      ],
      "text/plain": [
       "combine(D(G)*D(G)*exp(t,D(F))*D(F)*D(F)*exp(t,D(G)),u,u)"
      ]
     },
     "execution_count": 64,
     "metadata": {},
     "output_type": "execute_result"
    }
   ],
   "source": [
    "ex=D(G)^2*exp(t,D(F))*D(F)^2*exp(t,D(G))*u"
   ]
  },
  {
   "cell_type": "code",
   "execution_count": 65,
   "metadata": {
    "collapsed": false
   },
   "outputs": [
    {
     "data": {
      "text/latex": [
       "$\\partial_{2}^{3}\\mathcal{E}_{G}(t,\\mathcal{E}_{F}(t,u))(F'(\\mathcal{E}_{F}(t,u))\\cdot F(\\mathcal{E}_{F}(t,u)),\\partial_{2}\\mathcal{E}_{F}(t,u)\\cdot G(u),\\partial_{2}\\mathcal{E}_{F}(t,u)\\cdot G(u))+2\\partial_{2}^{2}\\mathcal{E}_{G}(t,\\mathcal{E}_{F}(t,u))(F'(\\mathcal{E}_{F}(t,u))\\cdot \\partial_{2}\\mathcal{E}_{F}(t,u)\\cdot G(u),F'(\\mathcal{E}_{F}(t,u))\\cdot \\partial_{2}\\mathcal{E}_{F}(t,u)\\cdot G(u))+2\\partial_{2}^{2}\\mathcal{E}_{G}(t,\\mathcal{E}_{F}(t,u))(F''(\\mathcal{E}_{F}(t,u))(\\partial_{2}\\mathcal{E}_{F}(t,u)\\cdot G(u),\\partial_{2}\\mathcal{E}_{F}(t,u)\\cdot G(u))+F'(\\mathcal{E}_{F}(t,u))\\cdot (\\partial_{2}\\mathcal{E}_{F}(t,u)\\cdot G'(u)\\cdot G(u)+\\partial_{2}^{2}\\mathcal{E}_{F}(t,u)(G(u),G(u))),F(\\mathcal{E}_{F}(t,u)))+4\\partial_{2}^{3}\\mathcal{E}_{G}(t,\\mathcal{E}_{F}(t,u))(F'(\\mathcal{E}_{F}(t,u))\\cdot \\partial_{2}\\mathcal{E}_{F}(t,u)\\cdot G(u),F(\\mathcal{E}_{F}(t,u)),\\partial_{2}\\mathcal{E}_{F}(t,u)\\cdot G(u))+\\partial_{2}\\mathcal{E}_{G}(t,\\mathcal{E}_{F}(t,u))\\cdot (2F''(\\mathcal{E}_{F}(t,u))(F'(\\mathcal{E}_{F}(t,u))\\cdot \\partial_{2}\\mathcal{E}_{F}(t,u)\\cdot G(u),\\partial_{2}\\mathcal{E}_{F}(t,u)\\cdot G(u))+F'(\\mathcal{E}_{F}(t,u))\\cdot (F''(\\mathcal{E}_{F}(t,u))(\\partial_{2}\\mathcal{E}_{F}(t,u)\\cdot G(u),\\partial_{2}\\mathcal{E}_{F}(t,u)\\cdot G(u))+F'(\\mathcal{E}_{F}(t,u))\\cdot (\\partial_{2}\\mathcal{E}_{F}(t,u)\\cdot G'(u)\\cdot G(u)+\\partial_{2}^{2}\\mathcal{E}_{F}(t,u)(G(u),G(u))))+F''(\\mathcal{E}_{F}(t,u))(F(\\mathcal{E}_{F}(t,u)),\\partial_{2}\\mathcal{E}_{F}(t,u)\\cdot G'(u)\\cdot G(u)+\\partial_{2}^{2}\\mathcal{E}_{F}(t,u)(G(u),G(u)))+F'''(\\mathcal{E}_{F}(t,u))(F(\\mathcal{E}_{F}(t,u)),\\partial_{2}\\mathcal{E}_{F}(t,u)\\cdot G(u),\\partial_{2}\\mathcal{E}_{F}(t,u)\\cdot G(u)))+2\\partial_{2}^{2}\\mathcal{E}_{G}(t,\\mathcal{E}_{F}(t,u))(F''(\\mathcal{E}_{F}(t,u))(F(\\mathcal{E}_{F}(t,u)),\\partial_{2}\\mathcal{E}_{F}(t,u)\\cdot G(u))+F'(\\mathcal{E}_{F}(t,u))\\cdot F'(\\mathcal{E}_{F}(t,u))\\cdot \\partial_{2}\\mathcal{E}_{F}(t,u)\\cdot G(u),\\partial_{2}\\mathcal{E}_{F}(t,u)\\cdot G(u))+\\partial_{2}^{2}\\mathcal{E}_{G}(t,\\mathcal{E}_{F}(t,u))(F'(\\mathcal{E}_{F}(t,u))\\cdot F(\\mathcal{E}_{F}(t,u)),\\partial_{2}\\mathcal{E}_{F}(t,u)\\cdot G'(u)\\cdot G(u)+\\partial_{2}^{2}\\mathcal{E}_{F}(t,u)(G(u),G(u)))+\\partial_{2}^{4}\\mathcal{E}_{G}(t,\\mathcal{E}_{F}(t,u))(F(\\mathcal{E}_{F}(t,u)),F(\\mathcal{E}_{F}(t,u)),\\partial_{2}\\mathcal{E}_{F}(t,u)\\cdot G(u),\\partial_{2}\\mathcal{E}_{F}(t,u)\\cdot G(u))+\\partial_{2}^{3}\\mathcal{E}_{G}(t,\\mathcal{E}_{F}(t,u))(F(\\mathcal{E}_{F}(t,u)),F(\\mathcal{E}_{F}(t,u)),\\partial_{2}\\mathcal{E}_{F}(t,u)\\cdot G'(u)\\cdot G(u)+\\partial_{2}^{2}\\mathcal{E}_{F}(t,u)(G(u),G(u)))$"
      ],
      "text/plain": [
       "E(G,t,E(F,t,u),F(E(F,t,u),F(E(F,t,u))),E(F,t,u,G(u)),E(F,t,u,G(u)))+2E(G,t,E(F,t,u),F(E(F,t,u),E(F,t,u,G(u))),F(E(F,t,u),E(F,t,u,G(u))))+2E(G,t,E(F,t,u),F(E(F,t,u),E(F,t,u,G(u)),E(F,t,u,G(u)))+F(E(F,t,u),E(F,t,u,G(u,G(u)))+E(F,t,u,G(u),G(u))),F(E(F,t,u)))+4E(G,t,E(F,t,u),F(E(F,t,u),E(F,t,u,G(u))),F(E(F,t,u)),E(F,t,u,G(u)))+E(G,t,E(F,t,u),2F(E(F,t,u),F(E(F,t,u),E(F,t,u,G(u))),E(F,t,u,G(u)))+F(E(F,t,u),F(E(F,t,u),E(F,t,u,G(u)),E(F,t,u,G(u)))+F(E(F,t,u),E(F,t,u,G(u,G(u)))+E(F,t,u,G(u),G(u))))+F(E(F,t,u),F(E(F,t,u)),E(F,t,u,G(u,G(u)))+E(F,t,u,G(u),G(u)))+F(E(F,t,u),F(E(F,t,u)),E(F,t,u,G(u)),E(F,t,u,G(u))))+2E(G,t,E(F,t,u),F(E(F,t,u),F(E(F,t,u)),E(F,t,u,G(u)))+F(E(F,t,u),F(E(F,t,u),E(F,t,u,G(u)))),E(F,t,u,G(u)))+E(G,t,E(F,t,u),F(E(F,t,u),F(E(F,t,u))),E(F,t,u,G(u,G(u)))+E(F,t,u,G(u),G(u)))+E(G,t,E(F,t,u),F(E(F,t,u)),F(E(F,t,u)),E(F,t,u,G(u)),E(F,t,u,G(u)))+E(G,t,E(F,t,u),F(E(F,t,u)),F(E(F,t,u)),E(F,t,u,G(u,G(u)))+E(F,t,u,G(u),G(u)))"
      ]
     },
     "execution_count": 65,
     "metadata": {},
     "output_type": "execute_result"
    }
   ],
   "source": [
    "transform(ex)"
   ]
  },
  {
   "cell_type": "code",
   "execution_count": 66,
   "metadata": {
    "collapsed": false
   },
   "outputs": [
    {
     "data": {
      "text/latex": [
       "$2\\partial_{2}\\mathcal{E}_{G}(t,\\mathcal{E}_{F}(t,u))\\cdot F''(\\mathcal{E}_{F}(t,u))(F'(\\mathcal{E}_{F}(t,u))\\cdot \\partial_{2}\\mathcal{E}_{F}(t,u)\\cdot G(u),\\partial_{2}\\mathcal{E}_{F}(t,u)\\cdot G(u))+\\partial_{2}^{3}\\mathcal{E}_{G}(t,\\mathcal{E}_{F}(t,u))(F(\\mathcal{E}_{F}(t,u)),F(\\mathcal{E}_{F}(t,u)),\\partial_{2}^{2}\\mathcal{E}_{F}(t,u)(G(u),G(u)))+2\\partial_{2}^{2}\\mathcal{E}_{G}(t,\\mathcal{E}_{F}(t,u))(F''(\\mathcal{E}_{F}(t,u))(F(\\mathcal{E}_{F}(t,u)),\\partial_{2}\\mathcal{E}_{F}(t,u)\\cdot G(u)),\\partial_{2}\\mathcal{E}_{F}(t,u)\\cdot G(u))+2\\partial_{2}^{2}\\mathcal{E}_{G}(t,\\mathcal{E}_{F}(t,u))(F''(\\mathcal{E}_{F}(t,u))(\\partial_{2}\\mathcal{E}_{F}(t,u)\\cdot G(u),\\partial_{2}\\mathcal{E}_{F}(t,u)\\cdot G(u)),F(\\mathcal{E}_{F}(t,u)))+\\partial_{2}\\mathcal{E}_{G}(t,\\mathcal{E}_{F}(t,u))\\cdot F''(\\mathcal{E}_{F}(t,u))(F(\\mathcal{E}_{F}(t,u)),\\partial_{2}\\mathcal{E}_{F}(t,u)\\cdot G'(u)\\cdot G(u))+\\partial_{2}^{2}\\mathcal{E}_{G}(t,\\mathcal{E}_{F}(t,u))(F'(\\mathcal{E}_{F}(t,u))\\cdot F(\\mathcal{E}_{F}(t,u)),\\partial_{2}^{2}\\mathcal{E}_{F}(t,u)(G(u),G(u)))+2\\partial_{2}^{2}\\mathcal{E}_{G}(t,\\mathcal{E}_{F}(t,u))(F'(\\mathcal{E}_{F}(t,u))\\cdot F'(\\mathcal{E}_{F}(t,u))\\cdot \\partial_{2}\\mathcal{E}_{F}(t,u)\\cdot G(u),\\partial_{2}\\mathcal{E}_{F}(t,u)\\cdot G(u))+4\\partial_{2}^{3}\\mathcal{E}_{G}(t,\\mathcal{E}_{F}(t,u))(F'(\\mathcal{E}_{F}(t,u))\\cdot \\partial_{2}\\mathcal{E}_{F}(t,u)\\cdot G(u),F(\\mathcal{E}_{F}(t,u)),\\partial_{2}\\mathcal{E}_{F}(t,u)\\cdot G(u))+\\partial_{2}\\mathcal{E}_{G}(t,\\mathcal{E}_{F}(t,u))\\cdot F'(\\mathcal{E}_{F}(t,u))\\cdot F'(\\mathcal{E}_{F}(t,u))\\cdot \\partial_{2}\\mathcal{E}_{F}(t,u)\\cdot G'(u)\\cdot G(u)+\\partial_{2}^{3}\\mathcal{E}_{G}(t,\\mathcal{E}_{F}(t,u))(F(\\mathcal{E}_{F}(t,u)),F(\\mathcal{E}_{F}(t,u)),\\partial_{2}\\mathcal{E}_{F}(t,u)\\cdot G'(u)\\cdot G(u))+\\partial_{2}\\mathcal{E}_{G}(t,\\mathcal{E}_{F}(t,u))\\cdot F'(\\mathcal{E}_{F}(t,u))\\cdot F'(\\mathcal{E}_{F}(t,u))\\cdot \\partial_{2}^{2}\\mathcal{E}_{F}(t,u)(G(u),G(u))+\\partial_{2}^{3}\\mathcal{E}_{G}(t,\\mathcal{E}_{F}(t,u))(F'(\\mathcal{E}_{F}(t,u))\\cdot F(\\mathcal{E}_{F}(t,u)),\\partial_{2}\\mathcal{E}_{F}(t,u)\\cdot G(u),\\partial_{2}\\mathcal{E}_{F}(t,u)\\cdot G(u))+2\\partial_{2}^{2}\\mathcal{E}_{G}(t,\\mathcal{E}_{F}(t,u))(F'(\\mathcal{E}_{F}(t,u))\\cdot \\partial_{2}^{2}\\mathcal{E}_{F}(t,u)(G(u),G(u)),F(\\mathcal{E}_{F}(t,u)))+\\partial_{2}^{2}\\mathcal{E}_{G}(t,\\mathcal{E}_{F}(t,u))(F'(\\mathcal{E}_{F}(t,u))\\cdot F(\\mathcal{E}_{F}(t,u)),\\partial_{2}\\mathcal{E}_{F}(t,u)\\cdot G'(u)\\cdot G(u))+\\partial_{2}\\mathcal{E}_{G}(t,\\mathcal{E}_{F}(t,u))\\cdot F''(\\mathcal{E}_{F}(t,u))(F(\\mathcal{E}_{F}(t,u)),\\partial_{2}^{2}\\mathcal{E}_{F}(t,u)(G(u),G(u)))+\\partial_{2}\\mathcal{E}_{G}(t,\\mathcal{E}_{F}(t,u))\\cdot F'''(\\mathcal{E}_{F}(t,u))(F(\\mathcal{E}_{F}(t,u)),\\partial_{2}\\mathcal{E}_{F}(t,u)\\cdot G(u),\\partial_{2}\\mathcal{E}_{F}(t,u)\\cdot G(u))+\\partial_{2}^{4}\\mathcal{E}_{G}(t,\\mathcal{E}_{F}(t,u))(F(\\mathcal{E}_{F}(t,u)),F(\\mathcal{E}_{F}(t,u)),\\partial_{2}\\mathcal{E}_{F}(t,u)\\cdot G(u),\\partial_{2}\\mathcal{E}_{F}(t,u)\\cdot G(u))+2\\partial_{2}^{2}\\mathcal{E}_{G}(t,\\mathcal{E}_{F}(t,u))(F'(\\mathcal{E}_{F}(t,u))\\cdot \\partial_{2}\\mathcal{E}_{F}(t,u)\\cdot G(u),F'(\\mathcal{E}_{F}(t,u))\\cdot \\partial_{2}\\mathcal{E}_{F}(t,u)\\cdot G(u))+2\\partial_{2}^{2}\\mathcal{E}_{G}(t,\\mathcal{E}_{F}(t,u))(F'(\\mathcal{E}_{F}(t,u))\\cdot \\partial_{2}\\mathcal{E}_{F}(t,u)\\cdot G'(u)\\cdot G(u),F(\\mathcal{E}_{F}(t,u)))+\\partial_{2}\\mathcal{E}_{G}(t,\\mathcal{E}_{F}(t,u))\\cdot F'(\\mathcal{E}_{F}(t,u))\\cdot F''(\\mathcal{E}_{F}(t,u))(\\partial_{2}\\mathcal{E}_{F}(t,u)\\cdot G(u),\\partial_{2}\\mathcal{E}_{F}(t,u)\\cdot G(u))$"
      ],
      "text/plain": [
       "2E(G,t,E(F,t,u),F(E(F,t,u),F(E(F,t,u),E(F,t,u,G(u))),E(F,t,u,G(u))))+E(G,t,E(F,t,u),F(E(F,t,u)),F(E(F,t,u)),E(F,t,u,G(u),G(u)))+2E(G,t,E(F,t,u),F(E(F,t,u),F(E(F,t,u)),E(F,t,u,G(u))),E(F,t,u,G(u)))+2E(G,t,E(F,t,u),F(E(F,t,u),E(F,t,u,G(u)),E(F,t,u,G(u))),F(E(F,t,u)))+E(G,t,E(F,t,u),F(E(F,t,u),F(E(F,t,u)),E(F,t,u,G(u,G(u)))))+E(G,t,E(F,t,u),F(E(F,t,u),F(E(F,t,u))),E(F,t,u,G(u),G(u)))+2E(G,t,E(F,t,u),F(E(F,t,u),F(E(F,t,u),E(F,t,u,G(u)))),E(F,t,u,G(u)))+4E(G,t,E(F,t,u),F(E(F,t,u),E(F,t,u,G(u))),F(E(F,t,u)),E(F,t,u,G(u)))+E(G,t,E(F,t,u),F(E(F,t,u),F(E(F,t,u),E(F,t,u,G(u,G(u))))))+E(G,t,E(F,t,u),F(E(F,t,u)),F(E(F,t,u)),E(F,t,u,G(u,G(u))))+E(G,t,E(F,t,u),F(E(F,t,u),F(E(F,t,u),E(F,t,u,G(u),G(u)))))+E(G,t,E(F,t,u),F(E(F,t,u),F(E(F,t,u))),E(F,t,u,G(u)),E(F,t,u,G(u)))+2E(G,t,E(F,t,u),F(E(F,t,u),E(F,t,u,G(u),G(u))),F(E(F,t,u)))+E(G,t,E(F,t,u),F(E(F,t,u),F(E(F,t,u))),E(F,t,u,G(u,G(u))))+E(G,t,E(F,t,u),F(E(F,t,u),F(E(F,t,u)),E(F,t,u,G(u),G(u))))+E(G,t,E(F,t,u),F(E(F,t,u),F(E(F,t,u)),E(F,t,u,G(u)),E(F,t,u,G(u))))+E(G,t,E(F,t,u),F(E(F,t,u)),F(E(F,t,u)),E(F,t,u,G(u)),E(F,t,u,G(u)))+2E(G,t,E(F,t,u),F(E(F,t,u),E(F,t,u,G(u))),F(E(F,t,u),E(F,t,u,G(u))))+2E(G,t,E(F,t,u),F(E(F,t,u),E(F,t,u,G(u,G(u)))),F(E(F,t,u)))+E(G,t,E(F,t,u),F(E(F,t,u),F(E(F,t,u),E(F,t,u,G(u)),E(F,t,u,G(u)))))"
      ]
     },
     "execution_count": 66,
     "metadata": {},
     "output_type": "execute_result"
    }
   ],
   "source": [
    "expand(transform(ex))"
   ]
  },
  {
   "cell_type": "code",
   "execution_count": 67,
   "metadata": {
    "collapsed": false
   },
   "outputs": [
    {
     "data": {
      "text/plain": [
       "commutator (generic function with 1 method)"
      ]
     },
     "execution_count": 67,
     "metadata": {},
     "output_type": "execute_result"
    }
   ],
   "source": [
    "commutator(a,b) = a*b-b*a"
   ]
  },
  {
   "cell_type": "code",
   "execution_count": 68,
   "metadata": {
    "collapsed": false
   },
   "outputs": [
    {
     "data": {
      "text/plain": [
       "commutator (generic function with 2 methods)"
      ]
     },
     "execution_count": 68,
     "metadata": {},
     "output_type": "execute_result"
    }
   ],
   "source": [
    "commutator(a,b,c) = commutator(a, commutator(b,c))"
   ]
  },
  {
   "cell_type": "code",
   "execution_count": 69,
   "metadata": {
    "collapsed": false
   },
   "outputs": [
    {
     "data": {
      "text/latex": [
       "$(-D_{H}D_{F}D_{G}-D_{H}D_{G}D_{F}+D_{G}D_{H}D_{F}+D_{F}D_{H}D_{G}+D_{H}D_{F}D_{G}-D_{G}D_{H}D_{F}+D_{G}D_{F}D_{H}+D_{F}D_{G}D_{H}-D_{F}D_{H}D_{G}-D_{G}D_{F}D_{H}-D_{F}D_{G}D_{H}+D_{H}D_{G}D_{F})\\mathrm{Id}(u)$"
      ],
      "text/plain": [
       "combine(-D(H)*D(F)*D(G)-D(H)*D(G)*D(F)+D(G)*D(H)*D(F)+D(F)*D(H)*D(G)+D(H)*D(F)*D(G)-D(G)*D(H)*D(F)+D(G)*D(F)*D(H)+D(F)*D(G)*D(H)-D(F)*D(H)*D(G)-D(G)*D(F)*D(H)-D(F)*D(G)*D(H)+D(H)*D(G)*D(F),u,u)"
      ]
     },
     "execution_count": 69,
     "metadata": {},
     "output_type": "execute_result"
    }
   ],
   "source": [
    "ex=(commutator(D(F),D(G),D(H)) + commutator(D(G),D(H),D(F)) + commutator(D(H),D(F),D(G)))*u"
   ]
  },
  {
   "cell_type": "code",
   "execution_count": 70,
   "metadata": {
    "collapsed": false
   },
   "outputs": [
    {
     "data": {
      "text/latex": [
       "$0$"
      ],
      "text/plain": [
       "x_zero"
      ]
     },
     "execution_count": 70,
     "metadata": {},
     "output_type": "execute_result"
    }
   ],
   "source": [
    "transform(ex)"
   ]
  },
  {
   "cell_type": "code",
   "execution_count": 71,
   "metadata": {
    "collapsed": false
   },
   "outputs": [
    {
     "data": {
      "text/latex": [
       "$(-D_{F}D_{H}D_{G}+D_{F}D_{G}D_{H}-D_{G}D_{H}D_{F}+D_{H}D_{G}D_{F})\\mathrm{Id}(u)$"
      ],
      "text/plain": [
       "combine(-D(F)*D(H)*D(G)+D(F)*D(G)*D(H)-D(G)*D(H)*D(F)+D(H)*D(G)*D(F),u,u)"
      ]
     },
     "execution_count": 71,
     "metadata": {},
     "output_type": "execute_result"
    }
   ],
   "source": [
    "ex=commutator(D(F),D(G),D(H))*u"
   ]
  },
  {
   "cell_type": "code",
   "execution_count": 72,
   "metadata": {
    "collapsed": false
   },
   "outputs": [
    {
     "data": {
      "text/latex": [
       "$-F'(u)\\cdot H'(u)\\cdot G(u)+H'(u)\\cdot G'(u)\\cdot F(u)+H''(u)(F(u),G(u))-G''(u)(F(u),H(u))+F'(u)\\cdot G'(u)\\cdot H(u)-G'(u)\\cdot H'(u)\\cdot F(u)$"
      ],
      "text/plain": [
       "-F(u,H(u,G(u)))+H(u,G(u,F(u)))+H(u,F(u),G(u))-G(u,F(u),H(u))+F(u,G(u,H(u)))-G(u,H(u,F(u)))"
      ]
     },
     "execution_count": 72,
     "metadata": {},
     "output_type": "execute_result"
    }
   ],
   "source": [
    "transform(ex)"
   ]
  },
  {
   "cell_type": "code",
   "execution_count": 73,
   "metadata": {
    "collapsed": false
   },
   "outputs": [
    {
     "data": {
      "text/latex": [
       "$(\\mathrm{e}^{tD_{F}}\\mathrm{e}^{tD_{H}}\\mathrm{e}^{tD_{G}}-\\mathrm{e}^{tD_{H}}\\mathrm{e}^{tD_{F}}\\mathrm{e}^{tD_{G}}-\\mathrm{e}^{tD_{G}}\\mathrm{e}^{tD_{F}}\\mathrm{e}^{tD_{H}}+\\mathrm{e}^{tD_{H}}\\mathrm{e}^{tD_{G}}\\mathrm{e}^{tD_{F}}+\\mathrm{e}^{tD_{G}}\\mathrm{e}^{tD_{H}}\\mathrm{e}^{tD_{F}}+\\mathrm{e}^{tD_{G}}\\mathrm{e}^{tD_{F}}\\mathrm{e}^{tD_{H}}+\\mathrm{e}^{tD_{F}}\\mathrm{e}^{tD_{G}}\\mathrm{e}^{tD_{H}}-\\mathrm{e}^{tD_{G}}\\mathrm{e}^{tD_{H}}\\mathrm{e}^{tD_{F}}-\\mathrm{e}^{tD_{F}}\\mathrm{e}^{tD_{H}}\\mathrm{e}^{tD_{G}}-\\mathrm{e}^{tD_{F}}\\mathrm{e}^{tD_{G}}\\mathrm{e}^{tD_{H}}-\\mathrm{e}^{tD_{H}}\\mathrm{e}^{tD_{G}}\\mathrm{e}^{tD_{F}}+\\mathrm{e}^{tD_{H}}\\mathrm{e}^{tD_{F}}\\mathrm{e}^{tD_{G}})\\mathrm{Id}(u)$"
      ],
      "text/plain": [
       "combine(exp(t,D(F))*exp(t,D(H))*exp(t,D(G))-exp(t,D(H))*exp(t,D(F))*exp(t,D(G))-exp(t,D(G))*exp(t,D(F))*exp(t,D(H))+exp(t,D(H))*exp(t,D(G))*exp(t,D(F))+exp(t,D(G))*exp(t,D(H))*exp(t,D(F))+exp(t,D(G))*exp(t,D(F))*exp(t,D(H))+exp(t,D(F))*exp(t,D(G))*exp(t,D(H))-exp(t,D(G))*exp(t,D(H))*exp(t,D(F))-exp(t,D(F))*exp(t,D(H))*exp(t,D(G))-exp(t,D(F))*exp(t,D(G))*exp(t,D(H))-exp(t,D(H))*exp(t,D(G))*exp(t,D(F))+exp(t,D(H))*exp(t,D(F))*exp(t,D(G)),u,u)"
      ]
     },
     "execution_count": 73,
     "metadata": {},
     "output_type": "execute_result"
    }
   ],
   "source": [
    "ex=(commutator(exp(t,D(F)),exp(t,D(G)),exp(t,D(H))) + commutator(exp(t,D(G)),exp(t,D(H)),exp(t,D(F)))\n",
    "  + commutator(exp(t,D(H)),exp(t,D(F)),exp(t,D(G))))*u"
   ]
  },
  {
   "cell_type": "code",
   "execution_count": 74,
   "metadata": {
    "collapsed": false
   },
   "outputs": [
    {
     "data": {
      "text/latex": [
       "$0$"
      ],
      "text/plain": [
       "x_zero"
      ]
     },
     "execution_count": 74,
     "metadata": {},
     "output_type": "execute_result"
    }
   ],
   "source": [
    "transform(ex)"
   ]
  },
  {
   "cell_type": "code",
   "execution_count": 75,
   "metadata": {
    "collapsed": false
   },
   "outputs": [
    {
     "data": {
      "text/latex": [
       "$(\\mathrm{e}^{tD_{F}}\\mathrm{e}^{tD_{G}}\\mathrm{e}^{tD_{H}}-\\mathrm{e}^{tD_{F}}\\mathrm{e}^{tD_{H}}\\mathrm{e}^{tD_{G}}-\\mathrm{e}^{tD_{G}}\\mathrm{e}^{tD_{H}}\\mathrm{e}^{tD_{F}}+\\mathrm{e}^{tD_{H}}\\mathrm{e}^{tD_{G}}\\mathrm{e}^{tD_{F}})\\mathrm{Id}(u)$"
      ],
      "text/plain": [
       "combine(exp(t,D(F))*exp(t,D(G))*exp(t,D(H))-exp(t,D(F))*exp(t,D(H))*exp(t,D(G))-exp(t,D(G))*exp(t,D(H))*exp(t,D(F))+exp(t,D(H))*exp(t,D(G))*exp(t,D(F)),u,u)"
      ]
     },
     "execution_count": 75,
     "metadata": {},
     "output_type": "execute_result"
    }
   ],
   "source": [
    "ex=commutator(exp(t,D(F)),exp(t,D(G)),exp(t,D(H)))*u"
   ]
  },
  {
   "cell_type": "code",
   "execution_count": 76,
   "metadata": {
    "collapsed": false
   },
   "outputs": [
    {
     "data": {
      "text/latex": [
       "$-\\mathcal{E}_{G}(t,\\mathcal{E}_{H}(t,\\mathcal{E}_{F}(t,u)))-\\mathcal{E}_{F}(t,\\mathcal{E}_{H}(t,\\mathcal{E}_{G}(t,u)))+\\mathcal{E}_{F}(t,\\mathcal{E}_{G}(t,\\mathcal{E}_{H}(t,u)))+\\mathcal{E}_{H}(t,\\mathcal{E}_{G}(t,\\mathcal{E}_{F}(t,u)))$"
      ],
      "text/plain": [
       "-E(G,t,E(H,t,E(F,t,u)))-E(F,t,E(H,t,E(G,t,u)))+E(F,t,E(G,t,E(H,t,u)))+E(H,t,E(G,t,E(F,t,u)))"
      ]
     },
     "execution_count": 76,
     "metadata": {},
     "output_type": "execute_result"
    }
   ],
   "source": [
    "transform(ex)"
   ]
  },
  {
   "cell_type": "code",
   "execution_count": null,
   "metadata": {
    "collapsed": true
   },
   "outputs": [],
   "source": []
  }
 ],
 "metadata": {
  "kernelspec": {
   "display_name": "Julia 0.4",
   "language": "julia",
   "name": "julia-0.4"
  },
  "language_info": {
   "file_extension": ".jl",
   "mimetype": "application/julia",
   "name": "julia",
   "version": "0.4.5"
  }
 },
 "nbformat": 4,
 "nbformat_minor": 0
}
