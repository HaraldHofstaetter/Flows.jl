{
 "cells": [
  {
   "cell_type": "code",
   "execution_count": 1,
   "metadata": {
    "collapsed": false
   },
   "outputs": [],
   "source": [
    "using Flows"
   ]
  },
  {
   "cell_type": "code",
   "execution_count": 2,
   "metadata": {
    "collapsed": false
   },
   "outputs": [
    {
     "data": {
      "text/plain": [
       "(F,G,H)"
      ]
     },
     "execution_count": 2,
     "metadata": {},
     "output_type": "execute_result"
    }
   ],
   "source": [
    "@funs F,G,H"
   ]
  },
  {
   "cell_type": "code",
   "execution_count": 3,
   "metadata": {
    "collapsed": false
   },
   "outputs": [
    {
     "data": {
      "text/plain": [
       "(u,v)"
      ]
     },
     "execution_count": 3,
     "metadata": {},
     "output_type": "execute_result"
    }
   ],
   "source": [
    "@x_vars u,v"
   ]
  },
  {
   "cell_type": "code",
   "execution_count": 4,
   "metadata": {
    "collapsed": false
   },
   "outputs": [
    {
     "data": {
      "text/plain": [
       "(t,s)"
      ]
     },
     "execution_count": 4,
     "metadata": {},
     "output_type": "execute_result"
    }
   ],
   "source": [
    "@t_vars t,s"
   ]
  },
  {
   "cell_type": "code",
   "execution_count": 5,
   "metadata": {
    "collapsed": false
   },
   "outputs": [
    {
     "data": {
      "text/latex": [
       "$6G+3F$"
      ],
      "text/plain": [
       "6G+3F"
      ]
     },
     "execution_count": 5,
     "metadata": {},
     "output_type": "execute_result"
    }
   ],
   "source": [
    "ex=F+2(F+3G)"
   ]
  },
  {
   "cell_type": "code",
   "execution_count": 6,
   "metadata": {
    "collapsed": false
   },
   "outputs": [
    {
     "data": {
      "text/latex": [
       "$\\mathrm{e}^{(2t+3s)D_{3G+2F}}$"
      ],
      "text/plain": [
       "exp(2t+3s,D(3G+2F))"
      ]
     },
     "execution_count": 6,
     "metadata": {},
     "output_type": "execute_result"
    }
   ],
   "source": [
    "exp(2t+3s,D(2F+3G))"
   ]
  },
  {
   "cell_type": "code",
   "execution_count": 7,
   "metadata": {
    "collapsed": false
   },
   "outputs": [
    {
     "data": {
      "text/latex": [
       "$D_{2G+3F}$"
      ],
      "text/plain": [
       "D(2G+3F)"
      ]
     },
     "execution_count": 7,
     "metadata": {},
     "output_type": "execute_result"
    }
   ],
   "source": [
    "ex = D(3F+2G)"
   ]
  },
  {
   "cell_type": "code",
   "execution_count": 8,
   "metadata": {
    "collapsed": false
   },
   "outputs": [
    {
     "data": {
      "text/latex": [
       "$2D_{G}+3D_{F}$"
      ],
      "text/plain": [
       "2D(G)+3D(F)"
      ]
     },
     "execution_count": 8,
     "metadata": {},
     "output_type": "execute_result"
    }
   ],
   "source": [
    "distribute_lie_derivatives(ex)"
   ]
  },
  {
   "cell_type": "code",
   "execution_count": 9,
   "metadata": {
    "collapsed": false
   },
   "outputs": [
    {
     "data": {
      "text/latex": [
       "$D_{-F}D_{2F}$"
      ],
      "text/plain": [
       "D(-F)*D(2F)"
      ]
     },
     "execution_count": 9,
     "metadata": {},
     "output_type": "execute_result"
    }
   ],
   "source": [
    "D(-1F)*D(2F)"
   ]
  },
  {
   "cell_type": "code",
   "execution_count": 10,
   "metadata": {
    "collapsed": false,
    "scrolled": true
   },
   "outputs": [
    {
     "data": {
      "text/latex": [
       "$\\mathrm{e}^{(2t+3s)D_{3G+2F}}D_{2G+3F}$"
      ],
      "text/plain": [
       "exp(2t+3s,D(3G+2F))*D(2G+3F)"
      ]
     },
     "execution_count": 10,
     "metadata": {},
     "output_type": "execute_result"
    }
   ],
   "source": [
    "exp(2t+3s,D(2F+3G))D(3F+2G)"
   ]
  },
  {
   "cell_type": "code",
   "execution_count": 11,
   "metadata": {
    "collapsed": false
   },
   "outputs": [
    {
     "data": {
      "text/latex": [
       "$D_{F}D_{G}$"
      ],
      "text/plain": [
       "D(F)*D(G)"
      ]
     },
     "execution_count": 11,
     "metadata": {},
     "output_type": "execute_result"
    }
   ],
   "source": [
    "ex=D(F)*D(G)"
   ]
  },
  {
   "cell_type": "code",
   "execution_count": 12,
   "metadata": {
    "collapsed": false
   },
   "outputs": [
    {
     "data": {
      "text/plain": [
       "Flows.LieProduct"
      ]
     },
     "execution_count": 12,
     "metadata": {},
     "output_type": "execute_result"
    }
   ],
   "source": [
    "typeof(ex)"
   ]
  },
  {
   "cell_type": "code",
   "execution_count": 13,
   "metadata": {
    "collapsed": false
   },
   "outputs": [
    {
     "data": {
      "text/latex": [
       "$D_{H}D_{F}D_{G}$"
      ],
      "text/plain": [
       "D(H)*D(F)*D(G)"
      ]
     },
     "execution_count": 13,
     "metadata": {},
     "output_type": "execute_result"
    }
   ],
   "source": [
    "D(H)*ex"
   ]
  },
  {
   "cell_type": "code",
   "execution_count": 14,
   "metadata": {
    "collapsed": false
   },
   "outputs": [
    {
     "data": {
      "text/latex": [
       "$D_{F}(D_{H}+D_{G})\\mathrm{e}^{(2t-3s)D_{3F}}$"
      ],
      "text/plain": [
       "D(F)*(D(H)+D(G))*exp(2t-3s,D(3F))"
      ]
     },
     "execution_count": 14,
     "metadata": {},
     "output_type": "execute_result"
    }
   ],
   "source": [
    "ex=D(F)*(D(G)+D(H))*exp(2t-3s,D(3F))"
   ]
  },
  {
   "cell_type": "code",
   "execution_count": 15,
   "metadata": {
    "collapsed": false
   },
   "outputs": [
    {
     "data": {
      "text/plain": [
       "\"D(F)*(D(H)+D(G))*exp(2t-3s,D(3F))\""
      ]
     },
     "execution_count": 15,
     "metadata": {},
     "output_type": "execute_result"
    }
   ],
   "source": [
    "string(ex)"
   ]
  },
  {
   "cell_type": "code",
   "execution_count": 16,
   "metadata": {
    "collapsed": false
   },
   "outputs": [
    {
     "data": {
      "text/latex": [
       "$6D_{F}D_{H}+6D_{F}D_{G}$"
      ],
      "text/plain": [
       "6D(F)*D(H)+6D(F)*D(G)"
      ]
     },
     "execution_count": 16,
     "metadata": {},
     "output_type": "execute_result"
    }
   ],
   "source": [
    "6D(F)D(H)+6D(F)D(G)"
   ]
  },
  {
   "cell_type": "code",
   "execution_count": 17,
   "metadata": {
    "collapsed": false
   },
   "outputs": [
    {
     "data": {
      "text/plain": [
       "Flows.LieProduct"
      ]
     },
     "execution_count": 17,
     "metadata": {},
     "output_type": "execute_result"
    }
   ],
   "source": [
    "typeof(ex)"
   ]
  },
  {
   "cell_type": "code",
   "execution_count": 18,
   "metadata": {
    "collapsed": false
   },
   "outputs": [
    {
     "data": {
      "text/latex": [
       "$D_{F}D_{G}-D_{G}D_{F}$"
      ],
      "text/plain": [
       "D(F)*D(G)-D(G)*D(F)"
      ]
     },
     "execution_count": 18,
     "metadata": {},
     "output_type": "execute_result"
    }
   ],
   "source": [
    "D(F)D(G)-D(G)D(F)"
   ]
  },
  {
   "cell_type": "code",
   "execution_count": 19,
   "metadata": {
    "collapsed": false
   },
   "outputs": [
    {
     "data": {
      "text/plain": [
       "Flows.LieDerivative"
      ]
     },
     "execution_count": 19,
     "metadata": {},
     "output_type": "execute_result"
    }
   ],
   "source": [
    "typeof(D(F))"
   ]
  },
  {
   "cell_type": "code",
   "execution_count": 20,
   "metadata": {
    "collapsed": false
   },
   "outputs": [
    {
     "data": {
      "text/latex": [
       "$\\mathrm{e}^{(-t+17s)D_{-4G+3F}}$"
      ],
      "text/plain": [
       "exp(-t+17s,D(-4G+3F))"
      ]
     },
     "execution_count": 20,
     "metadata": {},
     "output_type": "execute_result"
    }
   ],
   "source": [
    "exp(-t+17s,D(3F-4G))"
   ]
  },
  {
   "cell_type": "code",
   "execution_count": 21,
   "metadata": {
    "collapsed": false
   },
   "outputs": [
    {
     "data": {
      "text/plain": [
       "Flows.LieExponential"
      ]
     },
     "execution_count": 21,
     "metadata": {},
     "output_type": "execute_result"
    }
   ],
   "source": [
    "typeof(exp(t,D(F)))"
   ]
  },
  {
   "cell_type": "code",
   "execution_count": 22,
   "metadata": {
    "collapsed": false
   },
   "outputs": [
    {
     "data": {
      "text/latex": [
       "$-F$"
      ],
      "text/plain": [
       "-F"
      ]
     },
     "execution_count": 22,
     "metadata": {},
     "output_type": "execute_result"
    }
   ],
   "source": [
    "-4F+3F"
   ]
  },
  {
   "cell_type": "code",
   "execution_count": 23,
   "metadata": {
    "collapsed": false
   },
   "outputs": [
    {
     "data": {
      "text/latex": [
       "$D_{F}(D_{H}+D_{G})\\mathrm{e}^{(2t-3s)D_{3F}}$"
      ],
      "text/plain": [
       "D(F)*(D(H)+D(G))*exp(2t-3s,D(3F))"
      ]
     },
     "execution_count": 23,
     "metadata": {},
     "output_type": "execute_result"
    }
   ],
   "source": [
    "ex"
   ]
  },
  {
   "cell_type": "code",
   "execution_count": 24,
   "metadata": {
    "collapsed": false
   },
   "outputs": [
    {
     "data": {
      "text/latex": [
       "$D_{F}(D_{H}+D_{G})\\mathrm{e}^{(2t-3s)D_{3F}}F(u)$"
      ],
      "text/plain": [
       "apply(D(F)*(D(H)+D(G))*exp(2t-3s,D(3F)),F(u),u)"
      ]
     },
     "execution_count": 24,
     "metadata": {},
     "output_type": "execute_result"
    }
   ],
   "source": [
    "comb=apply(ex,F(u),u)"
   ]
  },
  {
   "cell_type": "code",
   "execution_count": 25,
   "metadata": {
    "collapsed": false
   },
   "outputs": [
    {
     "data": {
      "text/latex": [
       "$F''(\\mathcal{E}_{3F}(2t-3s,u))(\\partial_{2}\\mathcal{E}_{3F}(2t-3s,u)\\cdot G(u),\\partial_{2}\\mathcal{E}_{3F}(2t-3s,u)\\cdot F(u))+F''(\\mathcal{E}_{3F}(2t-3s,u))(\\partial_{2}\\mathcal{E}_{3F}(2t-3s,u)\\cdot H(u),\\partial_{2}\\mathcal{E}_{3F}(2t-3s,u)\\cdot F(u))+F'(\\mathcal{E}_{3F}(2t-3s,u))\\cdot (\\partial_{2}\\mathcal{E}_{3F}(2t-3s,u)\\cdot G'(u)\\cdot F(u)+\\partial_{2}^{2}\\mathcal{E}_{3F}(2t-3s,u)(G(u),F(u)))+F'(\\mathcal{E}_{3F}(2t-3s,u))\\cdot (\\partial_{2}^{2}\\mathcal{E}_{3F}(2t-3s,u)(H(u),F(u))+\\partial_{2}\\mathcal{E}_{3F}(2t-3s,u)\\cdot H'(u)\\cdot F(u))$"
      ],
      "text/plain": [
       "F(E(3F,2t-3s,u),E(3F,2t-3s,u,G(u)),E(3F,2t-3s,u,F(u)))+F(E(3F,2t-3s,u),E(3F,2t-3s,u,H(u)),E(3F,2t-3s,u,F(u)))+F(E(3F,2t-3s,u),E(3F,2t-3s,u,G(u,F(u)))+E(3F,2t-3s,u,G(u),F(u)))+F(E(3F,2t-3s,u),E(3F,2t-3s,u,H(u),F(u))+E(3F,2t-3s,u,H(u,F(u))))"
      ]
     },
     "execution_count": 25,
     "metadata": {},
     "output_type": "execute_result"
    }
   ],
   "source": [
    "evaluate(comb)"
   ]
  },
  {
   "cell_type": "code",
   "execution_count": 26,
   "metadata": {
    "collapsed": false
   },
   "outputs": [
    {
     "data": {
      "text/latex": [
       "$(-D_{F})G(u)$"
      ],
      "text/plain": [
       "apply(-D(F),G(u),u)"
      ]
     },
     "execution_count": 26,
     "metadata": {},
     "output_type": "execute_result"
    }
   ],
   "source": [
    "-D(F)*G(u)"
   ]
  },
  {
   "cell_type": "code",
   "execution_count": 27,
   "metadata": {
    "collapsed": false,
    "scrolled": true
   },
   "outputs": [
    {
     "data": {
      "text/plain": [
       "\"apply(3exp(t,D(F)),u,u)+v\""
      ]
     },
     "execution_count": 27,
     "metadata": {},
     "output_type": "execute_result"
    }
   ],
   "source": [
    "string(3exp(t,D(F))*u+v)"
   ]
  },
  {
   "cell_type": "code",
   "execution_count": 28,
   "metadata": {
    "collapsed": false
   },
   "outputs": [
    {
     "data": {
      "text/latex": [
       "$D_{F}D_{G}[F(\\cdot)+G(\\cdot)](u)$"
      ],
      "text/plain": [
       "apply(D(F)*D(G),F(u)+G(u),u)"
      ]
     },
     "execution_count": 28,
     "metadata": {},
     "output_type": "execute_result"
    }
   ],
   "source": [
    "ex = apply(D(F)*D(G),F(u)+G(u),u)"
   ]
  },
  {
   "cell_type": "code",
   "execution_count": 29,
   "metadata": {
    "collapsed": false
   },
   "outputs": [
    {
     "data": {
      "text/latex": [
       "$F''(u)(G(u),F(u))+G'(u)\\cdot G'(u)\\cdot F(u)+G''(u)(G(u),F(u))+F'(u)\\cdot G'(u)\\cdot F(u)$"
      ],
      "text/plain": [
       "F(u,G(u),F(u))+G(u,G(u,F(u)))+G(u,G(u),F(u))+F(u,G(u,F(u)))"
      ]
     },
     "execution_count": 29,
     "metadata": {},
     "output_type": "execute_result"
    }
   ],
   "source": [
    "evaluate(ex)"
   ]
  },
  {
   "cell_type": "code",
   "execution_count": 30,
   "metadata": {
    "collapsed": false
   },
   "outputs": [
    {
     "data": {
      "text/latex": [
       "$D_{F}[(\\cdot)+2v](u)$"
      ],
      "text/plain": [
       "apply(D(F),u+2v,u)"
      ]
     },
     "execution_count": 30,
     "metadata": {},
     "output_type": "execute_result"
    }
   ],
   "source": [
    "comb=apply(D(F), u+2v,u)"
   ]
  },
  {
   "cell_type": "code",
   "execution_count": 31,
   "metadata": {
    "collapsed": false
   },
   "outputs": [
    {
     "data": {
      "text/latex": [
       "$F(u)$"
      ],
      "text/plain": [
       "F(u)"
      ]
     },
     "execution_count": 31,
     "metadata": {},
     "output_type": "execute_result"
    }
   ],
   "source": [
    "evaluate(comb)"
   ]
  },
  {
   "cell_type": "code",
   "execution_count": 32,
   "metadata": {
    "collapsed": false
   },
   "outputs": [
    {
     "data": {
      "text/plain": [
       "\"apply(D(F),u+2v,u)\""
      ]
     },
     "execution_count": 32,
     "metadata": {},
     "output_type": "execute_result"
    }
   ],
   "source": [
    "string(comb)"
   ]
  },
  {
   "cell_type": "code",
   "execution_count": 33,
   "metadata": {
    "collapsed": false
   },
   "outputs": [
    {
     "data": {
      "text/latex": [
       "$D_{G+F}$"
      ],
      "text/plain": [
       "D(G+F)"
      ]
     },
     "execution_count": 33,
     "metadata": {},
     "output_type": "execute_result"
    }
   ],
   "source": [
    "ex=D(F+G)"
   ]
  },
  {
   "cell_type": "code",
   "execution_count": 34,
   "metadata": {
    "collapsed": false
   },
   "outputs": [
    {
     "data": {
      "text/plain": [
       "Flows.VectorFieldLinearCombination"
      ]
     },
     "execution_count": 34,
     "metadata": {},
     "output_type": "execute_result"
    }
   ],
   "source": [
    "typeof(ex.F)"
   ]
  },
  {
   "cell_type": "code",
   "execution_count": 35,
   "metadata": {
    "collapsed": false
   },
   "outputs": [
    {
     "data": {
      "text/latex": [
       "$3H'(u)\\cdot F(u)+G'(u)\\cdot F(u)$"
      ],
      "text/plain": [
       "3H(u,F(u))+G(u,F(u))"
      ]
     },
     "execution_count": 35,
     "metadata": {},
     "output_type": "execute_result"
    }
   ],
   "source": [
    "evaluate(D(F),(G(u)+3H(u)),u)"
   ]
  },
  {
   "cell_type": "code",
   "execution_count": 36,
   "metadata": {
    "collapsed": false
   },
   "outputs": [
    {
     "data": {
      "text/latex": [
       "$G'(H(u))\\cdot H'(u)\\cdot F(u)$"
      ],
      "text/plain": [
       "G(H(u),H(u,F(u)))"
      ]
     },
     "execution_count": 36,
     "metadata": {},
     "output_type": "execute_result"
    }
   ],
   "source": [
    "evaluate(D(F),(G(H(u))),u)"
   ]
  },
  {
   "cell_type": "code",
   "execution_count": 37,
   "metadata": {
    "collapsed": false
   },
   "outputs": [
    {
     "data": {
      "text/latex": [
       "$F(u)$"
      ],
      "text/plain": [
       "F(u)"
      ]
     },
     "execution_count": 37,
     "metadata": {},
     "output_type": "execute_result"
    }
   ],
   "source": [
    "evaluate(D(F),u,u)"
   ]
  },
  {
   "cell_type": "code",
   "execution_count": 38,
   "metadata": {
    "collapsed": false
   },
   "outputs": [
    {
     "data": {
      "text/latex": [
       "$H'(u)\\cdot (2G+F)(u)$"
      ],
      "text/plain": [
       "H(u,(2G+F)(u))"
      ]
     },
     "execution_count": 38,
     "metadata": {},
     "output_type": "execute_result"
    }
   ],
   "source": [
    "evaluate(D(F+2G),H(u),u)"
   ]
  },
  {
   "cell_type": "code",
   "execution_count": 39,
   "metadata": {
    "collapsed": false
   },
   "outputs": [
    {
     "data": {
      "text/latex": [
       "$D_{F}G(u)$"
      ],
      "text/plain": [
       "apply(D(F),G(u),u)"
      ]
     },
     "execution_count": 39,
     "metadata": {},
     "output_type": "execute_result"
    }
   ],
   "source": [
    "ex = D(F)*G(u)"
   ]
  },
  {
   "cell_type": "code",
   "execution_count": 40,
   "metadata": {
    "collapsed": false
   },
   "outputs": [
    {
     "data": {
      "text/latex": [
       "$G'(u)\\cdot F(u)$"
      ],
      "text/plain": [
       "G(u,F(u))"
      ]
     },
     "execution_count": 40,
     "metadata": {},
     "output_type": "execute_result"
    }
   ],
   "source": [
    "evaluate(ex)"
   ]
  },
  {
   "cell_type": "code",
   "execution_count": 41,
   "metadata": {
    "collapsed": false
   },
   "outputs": [
    {
     "data": {
      "text/latex": [
       "$3H(\\mathcal{E}_{F}(t,u))+G(\\mathcal{E}_{F}(t,u))$"
      ],
      "text/plain": [
       "3H(E(F,t,u))+G(E(F,t,u))"
      ]
     },
     "execution_count": 41,
     "metadata": {},
     "output_type": "execute_result"
    }
   ],
   "source": [
    "evaluate(exp(t,D(F)), G(u)+3H(u), u)"
   ]
  },
  {
   "cell_type": "code",
   "execution_count": 42,
   "metadata": {
    "collapsed": false
   },
   "outputs": [
    {
     "data": {
      "text/latex": [
       "$G(H(\\mathcal{E}_{F}(t,u)))$"
      ],
      "text/plain": [
       "G(H(E(F,t,u)))"
      ]
     },
     "execution_count": 42,
     "metadata": {},
     "output_type": "execute_result"
    }
   ],
   "source": [
    "evaluate(exp(t,D(F)), G(H(u)), u)"
   ]
  },
  {
   "cell_type": "code",
   "execution_count": 43,
   "metadata": {
    "collapsed": false
   },
   "outputs": [
    {
     "data": {
      "text/latex": [
       "$\\mathcal{E}_{F}(t,u)$"
      ],
      "text/plain": [
       "E(F,t,u)"
      ]
     },
     "execution_count": 43,
     "metadata": {},
     "output_type": "execute_result"
    }
   ],
   "source": [
    "evaluate(exp(t,D(F)), u, u)"
   ]
  },
  {
   "cell_type": "code",
   "execution_count": 44,
   "metadata": {
    "collapsed": false
   },
   "outputs": [
    {
     "data": {
      "text/latex": [
       "$\\mathcal{E}_{3F}(t+2s,u)$"
      ],
      "text/plain": [
       "E(3F,t+2s,u)"
      ]
     },
     "execution_count": 44,
     "metadata": {},
     "output_type": "execute_result"
    }
   ],
   "source": [
    "evaluate(exp(t+2s,D(3F)), u, u)"
   ]
  },
  {
   "cell_type": "code",
   "execution_count": 45,
   "metadata": {
    "collapsed": false
   },
   "outputs": [
    {
     "data": {
      "text/latex": [
       "$\\mathcal{E}_{G+F}(t,u)$"
      ],
      "text/plain": [
       "E(G+F,t,u)"
      ]
     },
     "execution_count": 45,
     "metadata": {},
     "output_type": "execute_result"
    }
   ],
   "source": [
    "evaluate(exp(t,D(F+G)), u, u)"
   ]
  },
  {
   "cell_type": "code",
   "execution_count": 46,
   "metadata": {
    "collapsed": false
   },
   "outputs": [
    {
     "data": {
      "text/latex": [
       "$H'(u)\\cdot F(u)-2H'(u)\\cdot G(u)$"
      ],
      "text/plain": [
       "H(u,F(u))-2H(u,G(u))"
      ]
     },
     "execution_count": 46,
     "metadata": {},
     "output_type": "execute_result"
    }
   ],
   "source": [
    "evaluate(D(F)-2D(G),H(u))"
   ]
  },
  {
   "cell_type": "code",
   "execution_count": 47,
   "metadata": {
    "collapsed": false
   },
   "outputs": [
    {
     "data": {
      "text/plain": [
       "true"
      ]
     },
     "execution_count": 47,
     "metadata": {},
     "output_type": "execute_result"
    }
   ],
   "source": [
    "F(u)-G(v)==F(u)-G(v)"
   ]
  },
  {
   "cell_type": "code",
   "execution_count": 48,
   "metadata": {
    "collapsed": false
   },
   "outputs": [
    {
     "data": {
      "text/latex": [
       "$(D_{F}D_{G}-D_{G}D_{F})\\mathrm{Id}(u)$"
      ],
      "text/plain": [
       "apply(D(F)*D(G)-D(G)*D(F),u,u)"
      ]
     },
     "execution_count": 48,
     "metadata": {},
     "output_type": "execute_result"
    }
   ],
   "source": [
    "ex = (D(F)*D(G)-D(G)*D(F))*u"
   ]
  },
  {
   "cell_type": "code",
   "execution_count": 49,
   "metadata": {
    "collapsed": false
   },
   "outputs": [
    {
     "data": {
      "text/latex": [
       "$-F'(u)\\cdot G(u)+G'(u)\\cdot F(u)$"
      ],
      "text/plain": [
       "-F(u,G(u))+G(u,F(u))"
      ]
     },
     "execution_count": 49,
     "metadata": {},
     "output_type": "execute_result"
    }
   ],
   "source": [
    "evaluate(ex)"
   ]
  },
  {
   "cell_type": "code",
   "execution_count": 50,
   "metadata": {
    "collapsed": false
   },
   "outputs": [
    {
     "data": {
      "text/latex": [
       "$\\mathrm{e}^{tD_{F}}\\mathrm{e}^{sD_{G}}H(u)$"
      ],
      "text/plain": [
       "apply(exp(t,D(F))*exp(s,D(G)),H(u),u)"
      ]
     },
     "execution_count": 50,
     "metadata": {},
     "output_type": "execute_result"
    }
   ],
   "source": [
    "ex = exp(t,D(F))*exp(s,D(G))*H(u)"
   ]
  },
  {
   "cell_type": "code",
   "execution_count": 51,
   "metadata": {
    "collapsed": false
   },
   "outputs": [
    {
     "data": {
      "text/latex": [
       "$H(\\mathcal{E}_{G}(s,\\mathcal{E}_{F}(t,u)))$"
      ],
      "text/plain": [
       "H(E(G,s,E(F,t,u)))"
      ]
     },
     "execution_count": 51,
     "metadata": {},
     "output_type": "execute_result"
    }
   ],
   "source": [
    "evaluate(ex)"
   ]
  },
  {
   "cell_type": "code",
   "execution_count": 52,
   "metadata": {
    "collapsed": false
   },
   "outputs": [
    {
     "data": {
      "text/plain": [
       "\"exp(t,D(F))*exp(s,D(G))\""
      ]
     },
     "execution_count": 52,
     "metadata": {},
     "output_type": "execute_result"
    }
   ],
   "source": [
    "string(ex.lie_ex)"
   ]
  },
  {
   "cell_type": "code",
   "execution_count": 53,
   "metadata": {
    "collapsed": false
   },
   "outputs": [
    {
     "data": {
      "text/latex": [
       "$G(F(v)+v)$"
      ],
      "text/plain": [
       "G(F(v)+v)"
      ]
     },
     "execution_count": 53,
     "metadata": {},
     "output_type": "execute_result"
    }
   ],
   "source": [
    "G(evaluate_lie_expressions(D(F)*v+v))"
   ]
  },
  {
   "cell_type": "code",
   "execution_count": 54,
   "metadata": {
    "collapsed": false
   },
   "outputs": [
    {
     "data": {
      "text/latex": [
       "$\\mathrm{e}^{tD_{F}}\\mathrm{e}^{sD_{G}}H(u)$"
      ],
      "text/plain": [
       "apply(exp(t,D(F))*exp(s,D(G)),H(u),u)"
      ]
     },
     "execution_count": 54,
     "metadata": {},
     "output_type": "execute_result"
    }
   ],
   "source": [
    "Flows.LieExpressionToSpaceExpressionApplication(exp(t,D(F))*exp(s,D(G)),H(u),u)"
   ]
  },
  {
   "cell_type": "code",
   "execution_count": 55,
   "metadata": {
    "collapsed": false
   },
   "outputs": [
    {
     "data": {
      "text/latex": [
       "$\\partial_{2}\\mathcal{E}_{F}(t,u)\\cdot F'(u)\\cdot F(u)+\\partial_{2}^{2}\\mathcal{E}_{F}(t,u)(F(u),F(u))$"
      ],
      "text/plain": [
       "E(F,t,u,F(u,F(u)))+E(F,t,u,F(u),F(u))"
      ]
     },
     "execution_count": 55,
     "metadata": {},
     "output_type": "execute_result"
    }
   ],
   "source": [
    "evaluate(D(F)*D(F)*exp(t,D(F))*u)"
   ]
  },
  {
   "cell_type": "code",
   "execution_count": 56,
   "metadata": {
    "collapsed": false
   },
   "outputs": [
    {
     "data": {
      "text/latex": [
       "$F'(\\mathcal{E}_{F}(t,u))\\cdot \\partial_{2}\\mathcal{E}_{F}(t,u)\\cdot F(u)$"
      ],
      "text/plain": [
       "F(E(F,t,u),E(F,t,u,F(u)))"
      ]
     },
     "execution_count": 56,
     "metadata": {},
     "output_type": "execute_result"
    }
   ],
   "source": [
    "evaluate(D(F)*exp(t,D(F))*D(F)*u)"
   ]
  },
  {
   "cell_type": "code",
   "execution_count": 57,
   "metadata": {
    "collapsed": false
   },
   "outputs": [
    {
     "data": {
      "text/latex": [
       "$F''(\\mathcal{E}_{F}(t,u))(F(\\mathcal{E}_{F}(t,u)),\\partial_{2}\\mathcal{E}_{F}(t,u)\\cdot F(u))+F'(\\mathcal{E}_{F}(t,u))\\cdot F'(\\mathcal{E}_{F}(t,u))\\cdot \\partial_{2}\\mathcal{E}_{F}(t,u)\\cdot F(u)$"
      ],
      "text/plain": [
       "F(E(F,t,u),F(E(F,t,u)),E(F,t,u,F(u)))+F(E(F,t,u),F(E(F,t,u),E(F,t,u,F(u))))"
      ]
     },
     "execution_count": 57,
     "metadata": {},
     "output_type": "execute_result"
    }
   ],
   "source": [
    "evaluate(D(F)*exp(t,D(F))*D(F)*D(F)*u)"
   ]
  },
  {
   "cell_type": "code",
   "execution_count": 58,
   "metadata": {
    "collapsed": false
   },
   "outputs": [
    {
     "data": {
      "text/latex": [
       "$(D_{G}+D_{F})(D_{G}+D_{F})$"
      ],
      "text/plain": [
       "(D(G)+D(F))*(D(G)+D(F))"
      ]
     },
     "execution_count": 58,
     "metadata": {},
     "output_type": "execute_result"
    }
   ],
   "source": [
    "ex =(D(F)+D(G))*(D(F)+D(G))"
   ]
  },
  {
   "cell_type": "code",
   "execution_count": 59,
   "metadata": {
    "collapsed": false
   },
   "outputs": [
    {
     "data": {
      "text/latex": [
       "$D_{F}D_{G}+D_{F}D_{F}+D_{G}D_{F}+D_{G}D_{G}$"
      ],
      "text/plain": [
       "D(F)*D(G)+D(F)*D(F)+D(G)*D(F)+D(G)*D(G)"
      ]
     },
     "execution_count": 59,
     "metadata": {},
     "output_type": "execute_result"
    }
   ],
   "source": [
    "expand(ex)"
   ]
  },
  {
   "cell_type": "code",
   "execution_count": 60,
   "metadata": {
    "collapsed": false
   },
   "outputs": [
    {
     "data": {
      "text/latex": [
       "$(D_{G}+D_{F})(D_{G}+D_{F})(D_{G}+D_{F})$"
      ],
      "text/plain": [
       "(D(G)+D(F))*(D(G)+D(F))*(D(G)+D(F))"
      ]
     },
     "execution_count": 60,
     "metadata": {},
     "output_type": "execute_result"
    }
   ],
   "source": [
    "ex=(D(F)+D(G))^3"
   ]
  },
  {
   "cell_type": "code",
   "execution_count": 61,
   "metadata": {
    "collapsed": false
   },
   "outputs": [
    {
     "data": {
      "text/latex": [
       "$D_{G}D_{F}D_{G}+D_{F}D_{F}D_{G}+D_{G}D_{F}D_{F}+D_{G}D_{G}D_{F}+D_{F}D_{F}D_{F}+D_{F}D_{G}D_{G}+D_{G}D_{G}D_{G}+D_{F}D_{G}D_{F}$"
      ],
      "text/plain": [
       "D(G)*D(F)*D(G)+D(F)*D(F)*D(G)+D(G)*D(F)*D(F)+D(G)*D(G)*D(F)+D(F)*D(F)*D(F)+D(F)*D(G)*D(G)+D(G)*D(G)*D(G)+D(F)*D(G)*D(F)"
      ]
     },
     "execution_count": 61,
     "metadata": {},
     "output_type": "execute_result"
    }
   ],
   "source": [
    "expand(ex)"
   ]
  },
  {
   "cell_type": "code",
   "execution_count": 62,
   "metadata": {
    "collapsed": false
   },
   "outputs": [
    {
     "data": {
      "text/latex": [
       "$D_{G}D_{G}\\mathrm{e}^{tD_{F}}D_{F}D_{F}\\mathrm{e}^{tD_{G}}\\mathrm{Id}(u)$"
      ],
      "text/plain": [
       "apply(D(G)*D(G)*exp(t,D(F))*D(F)*D(F)*exp(t,D(G)),u,u)"
      ]
     },
     "execution_count": 62,
     "metadata": {},
     "output_type": "execute_result"
    }
   ],
   "source": [
    "ex = D(G)^2*exp(t,D(F))*D(F)^2*exp(t,D(G))*u"
   ]
  },
  {
   "cell_type": "code",
   "execution_count": 63,
   "metadata": {
    "collapsed": false
   },
   "outputs": [
    {
     "data": {
      "text/latex": [
       "$4\\partial_{2}^{3}\\mathcal{E}_{G}(t,\\mathcal{E}_{F}(t,u))(F'(\\mathcal{E}_{F}(t,u))\\cdot \\partial_{2}\\mathcal{E}_{F}(t,u)\\cdot G(u),F(\\mathcal{E}_{F}(t,u)),\\partial_{2}\\mathcal{E}_{F}(t,u)\\cdot G(u))+2\\partial_{2}^{2}\\mathcal{E}_{G}(t,\\mathcal{E}_{F}(t,u))(F'(\\mathcal{E}_{F}(t,u))\\cdot \\partial_{2}\\mathcal{E}_{F}(t,u)\\cdot G(u),F'(\\mathcal{E}_{F}(t,u))\\cdot \\partial_{2}\\mathcal{E}_{F}(t,u)\\cdot G(u))+\\partial_{2}^{2}\\mathcal{E}_{G}(t,\\mathcal{E}_{F}(t,u))(F'(\\mathcal{E}_{F}(t,u))\\cdot F(\\mathcal{E}_{F}(t,u)),\\partial_{2}\\mathcal{E}_{F}(t,u)\\cdot G'(u)\\cdot G(u)+\\partial_{2}^{2}\\mathcal{E}_{F}(t,u)(G(u),G(u)))+2\\partial_{2}^{2}\\mathcal{E}_{G}(t,\\mathcal{E}_{F}(t,u))(F'(\\mathcal{E}_{F}(t,u))\\cdot (\\partial_{2}\\mathcal{E}_{F}(t,u)\\cdot G'(u)\\cdot G(u)+\\partial_{2}^{2}\\mathcal{E}_{F}(t,u)(G(u),G(u)))+F''(\\mathcal{E}_{F}(t,u))(\\partial_{2}\\mathcal{E}_{F}(t,u)\\cdot G(u),\\partial_{2}\\mathcal{E}_{F}(t,u)\\cdot G(u)),F(\\mathcal{E}_{F}(t,u)))+\\partial_{2}^{3}\\mathcal{E}_{G}(t,\\mathcal{E}_{F}(t,u))(F'(\\mathcal{E}_{F}(t,u))\\cdot F(\\mathcal{E}_{F}(t,u)),\\partial_{2}\\mathcal{E}_{F}(t,u)\\cdot G(u),\\partial_{2}\\mathcal{E}_{F}(t,u)\\cdot G(u))+\\partial_{2}^{4}\\mathcal{E}_{G}(t,\\mathcal{E}_{F}(t,u))(F(\\mathcal{E}_{F}(t,u)),F(\\mathcal{E}_{F}(t,u)),\\partial_{2}\\mathcal{E}_{F}(t,u)\\cdot G(u),\\partial_{2}\\mathcal{E}_{F}(t,u)\\cdot G(u))+2\\partial_{2}^{2}\\mathcal{E}_{G}(t,\\mathcal{E}_{F}(t,u))(F''(\\mathcal{E}_{F}(t,u))(F(\\mathcal{E}_{F}(t,u)),\\partial_{2}\\mathcal{E}_{F}(t,u)\\cdot G(u))+F'(\\mathcal{E}_{F}(t,u))\\cdot F'(\\mathcal{E}_{F}(t,u))\\cdot \\partial_{2}\\mathcal{E}_{F}(t,u)\\cdot G(u),\\partial_{2}\\mathcal{E}_{F}(t,u)\\cdot G(u))+\\partial_{2}^{3}\\mathcal{E}_{G}(t,\\mathcal{E}_{F}(t,u))(F(\\mathcal{E}_{F}(t,u)),F(\\mathcal{E}_{F}(t,u)),\\partial_{2}\\mathcal{E}_{F}(t,u)\\cdot G'(u)\\cdot G(u)+\\partial_{2}^{2}\\mathcal{E}_{F}(t,u)(G(u),G(u)))+\\partial_{2}\\mathcal{E}_{G}(t,\\mathcal{E}_{F}(t,u))\\cdot (F'(\\mathcal{E}_{F}(t,u))\\cdot (F'(\\mathcal{E}_{F}(t,u))\\cdot (\\partial_{2}\\mathcal{E}_{F}(t,u)\\cdot G'(u)\\cdot G(u)+\\partial_{2}^{2}\\mathcal{E}_{F}(t,u)(G(u),G(u)))+F''(\\mathcal{E}_{F}(t,u))(\\partial_{2}\\mathcal{E}_{F}(t,u)\\cdot G(u),\\partial_{2}\\mathcal{E}_{F}(t,u)\\cdot G(u)))+2F''(\\mathcal{E}_{F}(t,u))(F'(\\mathcal{E}_{F}(t,u))\\cdot \\partial_{2}\\mathcal{E}_{F}(t,u)\\cdot G(u),\\partial_{2}\\mathcal{E}_{F}(t,u)\\cdot G(u))+F'''(\\mathcal{E}_{F}(t,u))(F(\\mathcal{E}_{F}(t,u)),\\partial_{2}\\mathcal{E}_{F}(t,u)\\cdot G(u),\\partial_{2}\\mathcal{E}_{F}(t,u)\\cdot G(u))+F''(\\mathcal{E}_{F}(t,u))(F(\\mathcal{E}_{F}(t,u)),\\partial_{2}\\mathcal{E}_{F}(t,u)\\cdot G'(u)\\cdot G(u)+\\partial_{2}^{2}\\mathcal{E}_{F}(t,u)(G(u),G(u))))$"
      ],
      "text/plain": [
       "4E(G,t,E(F,t,u),F(E(F,t,u),E(F,t,u,G(u))),F(E(F,t,u)),E(F,t,u,G(u)))+2E(G,t,E(F,t,u),F(E(F,t,u),E(F,t,u,G(u))),F(E(F,t,u),E(F,t,u,G(u))))+E(G,t,E(F,t,u),F(E(F,t,u),F(E(F,t,u))),E(F,t,u,G(u,G(u)))+E(F,t,u,G(u),G(u)))+2E(G,t,E(F,t,u),F(E(F,t,u),E(F,t,u,G(u,G(u)))+E(F,t,u,G(u),G(u)))+F(E(F,t,u),E(F,t,u,G(u)),E(F,t,u,G(u))),F(E(F,t,u)))+E(G,t,E(F,t,u),F(E(F,t,u),F(E(F,t,u))),E(F,t,u,G(u)),E(F,t,u,G(u)))+E(G,t,E(F,t,u),F(E(F,t,u)),F(E(F,t,u)),E(F,t,u,G(u)),E(F,t,u,G(u)))+2E(G,t,E(F,t,u),F(E(F,t,u),F(E(F,t,u)),E(F,t,u,G(u)))+F(E(F,t,u),F(E(F,t,u),E(F,t,u,G(u)))),E(F,t,u,G(u)))+E(G,t,E(F,t,u),F(E(F,t,u)),F(E(F,t,u)),E(F,t,u,G(u,G(u)))+E(F,t,u,G(u),G(u)))+E(G,t,E(F,t,u),F(E(F,t,u),F(E(F,t,u),E(F,t,u,G(u,G(u)))+E(F,t,u,G(u),G(u)))+F(E(F,t,u),E(F,t,u,G(u)),E(F,t,u,G(u))))+2F(E(F,t,u),F(E(F,t,u),E(F,t,u,G(u))),E(F,t,u,G(u)))+F(E(F,t,u),F(E(F,t,u)),E(F,t,u,G(u)),E(F,t,u,G(u)))+F(E(F,t,u),F(E(F,t,u)),E(F,t,u,G(u,G(u)))+E(F,t,u,G(u),G(u))))"
      ]
     },
     "execution_count": 63,
     "metadata": {},
     "output_type": "execute_result"
    }
   ],
   "source": [
    "evaluate(ex)"
   ]
  },
  {
   "cell_type": "code",
   "execution_count": 64,
   "metadata": {
    "collapsed": false
   },
   "outputs": [
    {
     "data": {
      "text/latex": [
       "$\\partial_{2}^{3}\\mathcal{E}_{G}(t,\\mathcal{E}_{F}(t,u))(F(\\mathcal{E}_{F}(t,u)),F(\\mathcal{E}_{F}(t,u)),\\partial_{2}\\mathcal{E}_{F}(t,u)\\cdot G'(u)\\cdot G(u))+2\\partial_{2}\\mathcal{E}_{G}(t,\\mathcal{E}_{F}(t,u))\\cdot F''(\\mathcal{E}_{F}(t,u))(F'(\\mathcal{E}_{F}(t,u))\\cdot \\partial_{2}\\mathcal{E}_{F}(t,u)\\cdot G(u),\\partial_{2}\\mathcal{E}_{F}(t,u)\\cdot G(u))+\\partial_{2}^{2}\\mathcal{E}_{G}(t,\\mathcal{E}_{F}(t,u))(F'(\\mathcal{E}_{F}(t,u))\\cdot F(\\mathcal{E}_{F}(t,u)),\\partial_{2}^{2}\\mathcal{E}_{F}(t,u)(G(u),G(u)))+\\partial_{2}\\mathcal{E}_{G}(t,\\mathcal{E}_{F}(t,u))\\cdot F'''(\\mathcal{E}_{F}(t,u))(F(\\mathcal{E}_{F}(t,u)),\\partial_{2}\\mathcal{E}_{F}(t,u)\\cdot G(u),\\partial_{2}\\mathcal{E}_{F}(t,u)\\cdot G(u))+\\partial_{2}^{3}\\mathcal{E}_{G}(t,\\mathcal{E}_{F}(t,u))(F(\\mathcal{E}_{F}(t,u)),F(\\mathcal{E}_{F}(t,u)),\\partial_{2}^{2}\\mathcal{E}_{F}(t,u)(G(u),G(u)))+2\\partial_{2}^{2}\\mathcal{E}_{G}(t,\\mathcal{E}_{F}(t,u))(F'(\\mathcal{E}_{F}(t,u))\\cdot \\partial_{2}\\mathcal{E}_{F}(t,u)\\cdot G'(u)\\cdot G(u),F(\\mathcal{E}_{F}(t,u)))+\\partial_{2}\\mathcal{E}_{G}(t,\\mathcal{E}_{F}(t,u))\\cdot F''(\\mathcal{E}_{F}(t,u))(F(\\mathcal{E}_{F}(t,u)),\\partial_{2}^{2}\\mathcal{E}_{F}(t,u)(G(u),G(u)))+2\\partial_{2}^{2}\\mathcal{E}_{G}(t,\\mathcal{E}_{F}(t,u))(F'(\\mathcal{E}_{F}(t,u))\\cdot F'(\\mathcal{E}_{F}(t,u))\\cdot \\partial_{2}\\mathcal{E}_{F}(t,u)\\cdot G(u),\\partial_{2}\\mathcal{E}_{F}(t,u)\\cdot G(u))+\\partial_{2}^{2}\\mathcal{E}_{G}(t,\\mathcal{E}_{F}(t,u))(F'(\\mathcal{E}_{F}(t,u))\\cdot F(\\mathcal{E}_{F}(t,u)),\\partial_{2}\\mathcal{E}_{F}(t,u)\\cdot G'(u)\\cdot G(u))+4\\partial_{2}^{3}\\mathcal{E}_{G}(t,\\mathcal{E}_{F}(t,u))(F'(\\mathcal{E}_{F}(t,u))\\cdot \\partial_{2}\\mathcal{E}_{F}(t,u)\\cdot G(u),F(\\mathcal{E}_{F}(t,u)),\\partial_{2}\\mathcal{E}_{F}(t,u)\\cdot G(u))+\\partial_{2}^{4}\\mathcal{E}_{G}(t,\\mathcal{E}_{F}(t,u))(F(\\mathcal{E}_{F}(t,u)),F(\\mathcal{E}_{F}(t,u)),\\partial_{2}\\mathcal{E}_{F}(t,u)\\cdot G(u),\\partial_{2}\\mathcal{E}_{F}(t,u)\\cdot G(u))+2\\partial_{2}^{2}\\mathcal{E}_{G}(t,\\mathcal{E}_{F}(t,u))(F'(\\mathcal{E}_{F}(t,u))\\cdot \\partial_{2}^{2}\\mathcal{E}_{F}(t,u)(G(u),G(u)),F(\\mathcal{E}_{F}(t,u)))+2\\partial_{2}^{2}\\mathcal{E}_{G}(t,\\mathcal{E}_{F}(t,u))(F''(\\mathcal{E}_{F}(t,u))(\\partial_{2}\\mathcal{E}_{F}(t,u)\\cdot G(u),\\partial_{2}\\mathcal{E}_{F}(t,u)\\cdot G(u)),F(\\mathcal{E}_{F}(t,u)))+\\partial_{2}\\mathcal{E}_{G}(t,\\mathcal{E}_{F}(t,u))\\cdot F'(\\mathcal{E}_{F}(t,u))\\cdot F'(\\mathcal{E}_{F}(t,u))\\cdot \\partial_{2}^{2}\\mathcal{E}_{F}(t,u)(G(u),G(u))+\\partial_{2}\\mathcal{E}_{G}(t,\\mathcal{E}_{F}(t,u))\\cdot F'(\\mathcal{E}_{F}(t,u))\\cdot F''(\\mathcal{E}_{F}(t,u))(\\partial_{2}\\mathcal{E}_{F}(t,u)\\cdot G(u),\\partial_{2}\\mathcal{E}_{F}(t,u)\\cdot G(u))+2\\partial_{2}^{2}\\mathcal{E}_{G}(t,\\mathcal{E}_{F}(t,u))(F'(\\mathcal{E}_{F}(t,u))\\cdot \\partial_{2}\\mathcal{E}_{F}(t,u)\\cdot G(u),F'(\\mathcal{E}_{F}(t,u))\\cdot \\partial_{2}\\mathcal{E}_{F}(t,u)\\cdot G(u))+\\partial_{2}\\mathcal{E}_{G}(t,\\mathcal{E}_{F}(t,u))\\cdot F'(\\mathcal{E}_{F}(t,u))\\cdot F'(\\mathcal{E}_{F}(t,u))\\cdot \\partial_{2}\\mathcal{E}_{F}(t,u)\\cdot G'(u)\\cdot G(u)+\\partial_{2}\\mathcal{E}_{G}(t,\\mathcal{E}_{F}(t,u))\\cdot F''(\\mathcal{E}_{F}(t,u))(F(\\mathcal{E}_{F}(t,u)),\\partial_{2}\\mathcal{E}_{F}(t,u)\\cdot G'(u)\\cdot G(u))+\\partial_{2}^{3}\\mathcal{E}_{G}(t,\\mathcal{E}_{F}(t,u))(F'(\\mathcal{E}_{F}(t,u))\\cdot F(\\mathcal{E}_{F}(t,u)),\\partial_{2}\\mathcal{E}_{F}(t,u)\\cdot G(u),\\partial_{2}\\mathcal{E}_{F}(t,u)\\cdot G(u))+2\\partial_{2}^{2}\\mathcal{E}_{G}(t,\\mathcal{E}_{F}(t,u))(F''(\\mathcal{E}_{F}(t,u))(F(\\mathcal{E}_{F}(t,u)),\\partial_{2}\\mathcal{E}_{F}(t,u)\\cdot G(u)),\\partial_{2}\\mathcal{E}_{F}(t,u)\\cdot G(u))$"
      ],
      "text/plain": [
       "E(G,t,E(F,t,u),F(E(F,t,u)),F(E(F,t,u)),E(F,t,u,G(u,G(u))))+2E(G,t,E(F,t,u),F(E(F,t,u),F(E(F,t,u),E(F,t,u,G(u))),E(F,t,u,G(u))))+E(G,t,E(F,t,u),F(E(F,t,u),F(E(F,t,u))),E(F,t,u,G(u),G(u)))+E(G,t,E(F,t,u),F(E(F,t,u),F(E(F,t,u)),E(F,t,u,G(u)),E(F,t,u,G(u))))+E(G,t,E(F,t,u),F(E(F,t,u)),F(E(F,t,u)),E(F,t,u,G(u),G(u)))+2E(G,t,E(F,t,u),F(E(F,t,u),E(F,t,u,G(u,G(u)))),F(E(F,t,u)))+E(G,t,E(F,t,u),F(E(F,t,u),F(E(F,t,u)),E(F,t,u,G(u),G(u))))+2E(G,t,E(F,t,u),F(E(F,t,u),F(E(F,t,u),E(F,t,u,G(u)))),E(F,t,u,G(u)))+E(G,t,E(F,t,u),F(E(F,t,u),F(E(F,t,u))),E(F,t,u,G(u,G(u))))+4E(G,t,E(F,t,u),F(E(F,t,u),E(F,t,u,G(u))),F(E(F,t,u)),E(F,t,u,G(u)))+E(G,t,E(F,t,u),F(E(F,t,u)),F(E(F,t,u)),E(F,t,u,G(u)),E(F,t,u,G(u)))+2E(G,t,E(F,t,u),F(E(F,t,u),E(F,t,u,G(u),G(u))),F(E(F,t,u)))+2E(G,t,E(F,t,u),F(E(F,t,u),E(F,t,u,G(u)),E(F,t,u,G(u))),F(E(F,t,u)))+E(G,t,E(F,t,u),F(E(F,t,u),F(E(F,t,u),E(F,t,u,G(u),G(u)))))+E(G,t,E(F,t,u),F(E(F,t,u),F(E(F,t,u),E(F,t,u,G(u)),E(F,t,u,G(u)))))+2E(G,t,E(F,t,u),F(E(F,t,u),E(F,t,u,G(u))),F(E(F,t,u),E(F,t,u,G(u))))+E(G,t,E(F,t,u),F(E(F,t,u),F(E(F,t,u),E(F,t,u,G(u,G(u))))))+E(G,t,E(F,t,u),F(E(F,t,u),F(E(F,t,u)),E(F,t,u,G(u,G(u)))))+E(G,t,E(F,t,u),F(E(F,t,u),F(E(F,t,u))),E(F,t,u,G(u)),E(F,t,u,G(u)))+2E(G,t,E(F,t,u),F(E(F,t,u),F(E(F,t,u)),E(F,t,u,G(u))),E(F,t,u,G(u)))"
      ]
     },
     "execution_count": 64,
     "metadata": {},
     "output_type": "execute_result"
    }
   ],
   "source": [
    "expand(evaluate(ex))"
   ]
  },
  {
   "cell_type": "code",
   "execution_count": 65,
   "metadata": {
    "collapsed": false
   },
   "outputs": [
    {
     "data": {
      "text/plain": [
       "commutator (generic function with 4 methods)"
      ]
     },
     "execution_count": 65,
     "metadata": {},
     "output_type": "execute_result"
    }
   ],
   "source": [
    "C = commutator"
   ]
  },
  {
   "cell_type": "code",
   "execution_count": 66,
   "metadata": {
    "collapsed": false
   },
   "outputs": [
    {
     "data": {
      "text/latex": [
       "$[7D_{H}+5D_{F},3D_{H}+2D_{G}]$"
      ],
      "text/plain": [
       "commutator(7D(H)+5D(F),3D(H)+2D(G))"
      ]
     },
     "execution_count": 66,
     "metadata": {},
     "output_type": "execute_result"
    }
   ],
   "source": [
    "ex = C(5D(F)+7D(H),2D(G)+3D(H))"
   ]
  },
  {
   "cell_type": "code",
   "execution_count": 67,
   "metadata": {
    "collapsed": false
   },
   "outputs": [
    {
     "data": {
      "text/latex": [
       "$15[D_{F},D_{H}]+14[D_{H},D_{G}]+10[D_{F},D_{G}]$"
      ],
      "text/plain": [
       "15commutator(D(F),D(H))+14commutator(D(H),D(G))+10commutator(D(F),D(G))"
      ]
     },
     "execution_count": 67,
     "metadata": {},
     "output_type": "execute_result"
    }
   ],
   "source": [
    "expand(ex)"
   ]
  },
  {
   "cell_type": "code",
   "execution_count": 68,
   "metadata": {
    "collapsed": false
   },
   "outputs": [
    {
     "data": {
      "text/latex": [
       "$(13\\mathrm{e}^{tD_{G}}+11\\mathrm{e}^{tD_{F}})[7D_{H}+5D_{F},3D_{H}+2D_{G}]$"
      ],
      "text/plain": [
       "(13exp(t,D(G))+11exp(t,D(F)))*commutator(7D(H)+5D(F),3D(H)+2D(G))"
      ]
     },
     "execution_count": 68,
     "metadata": {},
     "output_type": "execute_result"
    }
   ],
   "source": [
    "ex = (11exp(t,F)+13exp(t,G))*C(5D(F)+7D(H),2D(G)+3D(H))"
   ]
  },
  {
   "cell_type": "code",
   "execution_count": 69,
   "metadata": {
    "collapsed": false
   },
   "outputs": [
    {
     "data": {
      "text/latex": [
       "$13\\mathrm{e}^{tD_{G}}[7D_{H}+5D_{F},3D_{H}+2D_{G}]+11\\mathrm{e}^{tD_{F}}[7D_{H}+5D_{F},3D_{H}+2D_{G}]$"
      ],
      "text/plain": [
       "13exp(t,D(G))*commutator(7D(H)+5D(F),3D(H)+2D(G))+11exp(t,D(F))*commutator(7D(H)+5D(F),3D(H)+2D(G))"
      ]
     },
     "execution_count": 69,
     "metadata": {},
     "output_type": "execute_result"
    }
   ],
   "source": [
    "expand(ex, expand_commutators=false)"
   ]
  },
  {
   "cell_type": "code",
   "execution_count": 70,
   "metadata": {
    "collapsed": false
   },
   "outputs": [
    {
     "data": {
      "text/latex": [
       "$154\\mathrm{e}^{tD_{F}}[D_{H},D_{G}]+110\\mathrm{e}^{tD_{F}}[D_{F},D_{G}]+130\\mathrm{e}^{tD_{G}}[D_{F},D_{G}]+182\\mathrm{e}^{tD_{G}}[D_{H},D_{G}]+165\\mathrm{e}^{tD_{F}}[D_{F},D_{H}]+195\\mathrm{e}^{tD_{G}}[D_{F},D_{H}]$"
      ],
      "text/plain": [
       "154exp(t,D(F))*commutator(D(H),D(G))+110exp(t,D(F))*commutator(D(F),D(G))+130exp(t,D(G))*commutator(D(F),D(G))+182exp(t,D(G))*commutator(D(H),D(G))+165exp(t,D(F))*commutator(D(F),D(H))+195exp(t,D(G))*commutator(D(F),D(H))"
      ]
     },
     "execution_count": 70,
     "metadata": {},
     "output_type": "execute_result"
    }
   ],
   "source": [
    "ex = expand(ex)"
   ]
  },
  {
   "cell_type": "code",
   "execution_count": 71,
   "metadata": {
    "collapsed": false
   },
   "outputs": [
    {
     "data": {
      "text/latex": [
       "$130\\mathrm{e}^{tD_{G}}D_{[G,F]}+165\\mathrm{e}^{tD_{F}}D_{[H,F]}+182\\mathrm{e}^{tD_{G}}D_{[G,H]}+154\\mathrm{e}^{tD_{F}}D_{[G,H]}+110\\mathrm{e}^{tD_{F}}D_{[G,F]}+195\\mathrm{e}^{tD_{G}}D_{[H,F]}$"
      ],
      "text/plain": [
       "130exp(t,D(G))*D(commutator(G,F))+165exp(t,D(F))*D(commutator(H,F))+182exp(t,D(G))*D(commutator(G,H))+154exp(t,D(F))*D(commutator(G,H))+110exp(t,D(F))*D(commutator(G,F))+195exp(t,D(G))*D(commutator(H,F))"
      ]
     },
     "execution_count": 71,
     "metadata": {},
     "output_type": "execute_result"
    }
   ],
   "source": [
    "gather_lie_commutators(ex)"
   ]
  },
  {
   "cell_type": "code",
   "execution_count": 72,
   "metadata": {
    "collapsed": false
   },
   "outputs": [
    {
     "data": {
      "text/latex": [
       "$154\\mathrm{e}^{tD_{F}}[D_{H},D_{G}]+110\\mathrm{e}^{tD_{F}}[D_{F},D_{G}]+130\\mathrm{e}^{tD_{G}}[D_{F},D_{G}]+182\\mathrm{e}^{tD_{G}}[D_{H},D_{G}]+165\\mathrm{e}^{tD_{F}}[D_{F},D_{H}]+195\\mathrm{e}^{tD_{G}}[D_{F},D_{H}]$"
      ],
      "text/plain": [
       "154exp(t,D(F))*commutator(D(H),D(G))+110exp(t,D(F))*commutator(D(F),D(G))+130exp(t,D(G))*commutator(D(F),D(G))+182exp(t,D(G))*commutator(D(H),D(G))+165exp(t,D(F))*commutator(D(F),D(H))+195exp(t,D(G))*commutator(D(F),D(H))"
      ]
     },
     "execution_count": 72,
     "metadata": {},
     "output_type": "execute_result"
    }
   ],
   "source": [
    "expand(ex, expand_commutators=false)"
   ]
  },
  {
   "cell_type": "code",
   "execution_count": 73,
   "metadata": {
    "collapsed": false
   },
   "outputs": [
    {
     "data": {
      "text/latex": [
       "$([D_{H},[D_{F},D_{G}]]+[D_{G},[D_{H},D_{F}]]+[D_{F},[D_{G},D_{H}]])\\mathrm{Id}(u)$"
      ],
      "text/plain": [
       "apply(commutator(D(H),commutator(D(F),D(G)))+commutator(D(G),commutator(D(H),D(F)))+commutator(D(F),commutator(D(G),D(H))),u,u)"
      ]
     },
     "execution_count": 73,
     "metadata": {},
     "output_type": "execute_result"
    }
   ],
   "source": [
    "ex = (C(D(F),C(D(G),D(H))) + C(D(G),C(D(H),D(F))) + C(D(H),C(D(F),D(G))))*u"
   ]
  },
  {
   "cell_type": "code",
   "execution_count": 74,
   "metadata": {
    "collapsed": false
   },
   "outputs": [
    {
     "data": {
      "text/latex": [
       "$(D_{[[H,G],F]}+D_{[[G,F],H]}+D_{[[F,H],G]})\\mathrm{Id}(u)$"
      ],
      "text/plain": [
       "apply(D(commutator(commutator(H,G),F))+D(commutator(commutator(G,F),H))+D(commutator(commutator(F,H),G)),u,u)"
      ]
     },
     "execution_count": 74,
     "metadata": {},
     "output_type": "execute_result"
    }
   ],
   "source": [
    "gather_lie_commutators(ex)"
   ]
  },
  {
   "cell_type": "code",
   "execution_count": 75,
   "metadata": {
    "collapsed": false,
    "scrolled": true
   },
   "outputs": [
    {
     "data": {
      "text/latex": [
       "$(-(D_{G}D_{H}-D_{H}D_{G})D_{F}+D_{H}(D_{F}D_{G}-D_{G}D_{F})+D_{F}(D_{G}D_{H}-D_{H}D_{G})+D_{G}(-D_{F}D_{H}+D_{H}D_{F})-(D_{F}D_{G}-D_{G}D_{F})D_{H}-(-D_{F}D_{H}+D_{H}D_{F})D_{G})\\mathrm{Id}(u)$"
      ],
      "text/plain": [
       "apply(-(D(G)*D(H)-D(H)*D(G))*D(F)+D(H)*(D(F)*D(G)-D(G)*D(F))+D(F)*(D(G)*D(H)-D(H)*D(G))+D(G)*(-D(F)*D(H)+D(H)*D(F))-(D(F)*D(G)-D(G)*D(F))*D(H)-(-D(F)*D(H)+D(H)*D(F))*D(G),u,u)"
      ]
     },
     "execution_count": 75,
     "metadata": {},
     "output_type": "execute_result"
    }
   ],
   "source": [
    "ex = evaluate_lie_commutators(ex)"
   ]
  },
  {
   "cell_type": "code",
   "execution_count": 76,
   "metadata": {
    "collapsed": false
   },
   "outputs": [
    {
     "data": {
      "text/latex": [
       "$(0)\\mathrm{Id}(u)$"
      ],
      "text/plain": [
       "apply(lie_zero,u,u)"
      ]
     },
     "execution_count": 76,
     "metadata": {},
     "output_type": "execute_result"
    }
   ],
   "source": [
    "ex = expand_lie_expressions(ex)"
   ]
  },
  {
   "cell_type": "code",
   "execution_count": 77,
   "metadata": {
    "collapsed": false
   },
   "outputs": [
    {
     "data": {
      "text/latex": [
       "$0$"
      ],
      "text/plain": [
       "x_zero"
      ]
     },
     "execution_count": 77,
     "metadata": {},
     "output_type": "execute_result"
    }
   ],
   "source": [
    "evaluate_lie_expressions(ex)"
   ]
  },
  {
   "cell_type": "code",
   "execution_count": 78,
   "metadata": {
    "collapsed": false
   },
   "outputs": [
    {
     "data": {
      "text/latex": [
       "$F'(u)\\cdot D_{F}\\mathrm{Id}(u)$"
      ],
      "text/plain": [
       "F(u,apply(D(F),u,u))"
      ]
     },
     "execution_count": 78,
     "metadata": {},
     "output_type": "execute_result"
    }
   ],
   "source": [
    "ex=F(u,D(F)*u)"
   ]
  },
  {
   "cell_type": "code",
   "execution_count": 79,
   "metadata": {
    "collapsed": false
   },
   "outputs": [
    {
     "data": {
      "text/latex": [
       "$F'(u)\\cdot F(u)$"
      ],
      "text/plain": [
       "F(u,F(u))"
      ]
     },
     "execution_count": 79,
     "metadata": {},
     "output_type": "execute_result"
    }
   ],
   "source": [
    "evaluate_lie_expressions(ex)"
   ]
  },
  {
   "cell_type": "code",
   "execution_count": 80,
   "metadata": {
    "collapsed": false
   },
   "outputs": [
    {
     "data": {
      "text/latex": [
       "$F'(u)\\cdot F(u)$"
      ],
      "text/plain": [
       "F(u,F(u))"
      ]
     },
     "execution_count": 80,
     "metadata": {},
     "output_type": "execute_result"
    }
   ],
   "source": [
    "evaluate_lie_expressions(ex)"
   ]
  },
  {
   "cell_type": "code",
   "execution_count": 81,
   "metadata": {
    "collapsed": false
   },
   "outputs": [
    {
     "data": {
      "text/latex": [
       "$[D_{F},D_{G}+D_{F}]$"
      ],
      "text/plain": [
       "commutator(D(F),D(G)+D(F))"
      ]
     },
     "execution_count": 81,
     "metadata": {},
     "output_type": "execute_result"
    }
   ],
   "source": [
    "ex = Flows.commutator(D(F),D(F)+D(G))"
   ]
  },
  {
   "cell_type": "code",
   "execution_count": 82,
   "metadata": {
    "collapsed": false
   },
   "outputs": [
    {
     "data": {
      "text/latex": [
       "$\\mathrm{Id}$"
      ],
      "text/plain": [
       "lie_id"
      ]
     },
     "execution_count": 82,
     "metadata": {},
     "output_type": "execute_result"
    }
   ],
   "source": [
    "LieProduct(LieExpression[])"
   ]
  },
  {
   "cell_type": "code",
   "execution_count": 83,
   "metadata": {
    "collapsed": false
   },
   "outputs": [
    {
     "data": {
      "text/latex": [
       "$\\mathrm{Id}$"
      ],
      "text/plain": [
       "lie_id"
      ]
     },
     "execution_count": 83,
     "metadata": {},
     "output_type": "execute_result"
    }
   ],
   "source": [
    "lie_id"
   ]
  },
  {
   "cell_type": "code",
   "execution_count": 84,
   "metadata": {
    "collapsed": false
   },
   "outputs": [
    {
     "data": {
      "text/latex": [
       "$\\mathrm{e}^{tD_{[F,G]}}\\mathrm{Id}(u)$"
      ],
      "text/plain": [
       "apply(exp(t,D(commutator(F,G))),u,u)"
      ]
     },
     "execution_count": 84,
     "metadata": {},
     "output_type": "execute_result"
    }
   ],
   "source": [
    "ex = exp(t,D(C(F,G)))*u"
   ]
  },
  {
   "cell_type": "code",
   "execution_count": 85,
   "metadata": {
    "collapsed": false
   },
   "outputs": [
    {
     "data": {
      "text/latex": [
       "$\\mathcal{E}_{[F,G]}(t,u)$"
      ],
      "text/plain": [
       "E(commutator(F,G),t,u)"
      ]
     },
     "execution_count": 85,
     "metadata": {},
     "output_type": "execute_result"
    }
   ],
   "source": [
    "evaluate(ex)"
   ]
  },
  {
   "cell_type": "code",
   "execution_count": 86,
   "metadata": {
    "collapsed": false
   },
   "outputs": [
    {
     "data": {
      "text/latex": [
       "$D_{[F,[F,[F,[F,G]]]]}\\mathrm{Id}(u)$"
      ],
      "text/plain": [
       "apply(D(commutator(F,commutator(F,commutator(F,commutator(F,G))))),u,u)"
      ]
     },
     "execution_count": 86,
     "metadata": {},
     "output_type": "execute_result"
    }
   ],
   "source": [
    "ex = D(commutator(F,commutator(F,commutator(F,commutator(F,G)))))*u"
   ]
  },
  {
   "cell_type": "code",
   "execution_count": 87,
   "metadata": {
    "collapsed": false
   },
   "outputs": [
    {
     "data": {
      "text/latex": [
       "$[[[[D_{G},D_{F}],D_{F}],D_{F}],D_{F}]\\mathrm{Id}(u)$"
      ],
      "text/plain": [
       "apply(commutator(commutator(commutator(commutator(D(G),D(F)),D(F)),D(F)),D(F)),u,u)"
      ]
     },
     "execution_count": 87,
     "metadata": {},
     "output_type": "execute_result"
    }
   ],
   "source": [
    "ex = distribute_lie_derivatives(ex)"
   ]
  },
  {
   "cell_type": "code",
   "execution_count": 88,
   "metadata": {
    "collapsed": false
   },
   "outputs": [
    {
     "data": {
      "text/latex": [
       "$D_{[F,[F,[F,[F,G]]]]}\\mathrm{Id}(u)$"
      ],
      "text/plain": [
       "apply(D(commutator(F,commutator(F,commutator(F,commutator(F,G))))),u,u)"
      ]
     },
     "execution_count": 88,
     "metadata": {},
     "output_type": "execute_result"
    }
   ],
   "source": [
    "gather_lie_commutators(ex)"
   ]
  },
  {
   "cell_type": "code",
   "execution_count": 89,
   "metadata": {
    "collapsed": false
   },
   "outputs": [
    {
     "data": {
      "text/latex": [
       "$D_{G+F}D_{[F,G]}$"
      ],
      "text/plain": [
       "D(G+F)*D(commutator(F,G))"
      ]
     },
     "execution_count": 89,
     "metadata": {},
     "output_type": "execute_result"
    }
   ],
   "source": [
    "ex = D(F+G)*D(C(F,G))"
   ]
  },
  {
   "cell_type": "code",
   "execution_count": 90,
   "metadata": {
    "collapsed": false
   },
   "outputs": [
    {
     "data": {
      "text/latex": [
       "$(D_{G}+D_{F})D_{[F,G]}$"
      ],
      "text/plain": [
       "(D(G)+D(F))*D(commutator(F,G))"
      ]
     },
     "execution_count": 90,
     "metadata": {},
     "output_type": "execute_result"
    }
   ],
   "source": [
    "ex = distribute_lie_derivatives(ex, distribute_commutators=false)"
   ]
  },
  {
   "cell_type": "code",
   "execution_count": 91,
   "metadata": {
    "collapsed": false
   },
   "outputs": [
    {
     "data": {
      "text/latex": [
       "$(D_{G}+D_{F})[D_{G},D_{F}]$"
      ],
      "text/plain": [
       "(D(G)+D(F))*commutator(D(G),D(F))"
      ]
     },
     "execution_count": 91,
     "metadata": {},
     "output_type": "execute_result"
    }
   ],
   "source": [
    "ex = distribute_lie_derivatives(ex, distribute_linear_combinations=false)"
   ]
  },
  {
   "cell_type": "code",
   "execution_count": 92,
   "metadata": {
    "collapsed": false
   },
   "outputs": [
    {
     "data": {
      "text/latex": [
       "$(D_{G}+D_{F})(-D_{F}D_{G}+D_{G}D_{F})$"
      ],
      "text/plain": [
       "(D(G)+D(F))*(-D(F)*D(G)+D(G)*D(F))"
      ]
     },
     "execution_count": 92,
     "metadata": {},
     "output_type": "execute_result"
    }
   ],
   "source": [
    "ex = evaluate_lie_commutators(ex)"
   ]
  },
  {
   "cell_type": "code",
   "execution_count": 93,
   "metadata": {
    "collapsed": false
   },
   "outputs": [
    {
     "data": {
      "text/latex": [
       "$-D_{G}D_{F}D_{G}-D_{F}D_{F}D_{G}+D_{G}D_{G}D_{F}+D_{F}D_{G}D_{F}$"
      ],
      "text/plain": [
       "-D(G)*D(F)*D(G)-D(F)*D(F)*D(G)+D(G)*D(G)*D(F)+D(F)*D(G)*D(F)"
      ]
     },
     "execution_count": 93,
     "metadata": {},
     "output_type": "execute_result"
    }
   ],
   "source": [
    "expand(ex)"
   ]
  },
  {
   "cell_type": "code",
   "execution_count": 94,
   "metadata": {
    "collapsed": false
   },
   "outputs": [
    {
     "data": {
      "text/plain": [
       "(t1,t2,t3,t4)"
      ]
     },
     "execution_count": 94,
     "metadata": {},
     "output_type": "execute_result"
    }
   ],
   "source": [
    "@funs G1,G2,G3,G4\n",
    "@t_vars t1,t2,t3,t4"
   ]
  },
  {
   "cell_type": "code",
   "execution_count": 95,
   "metadata": {
    "collapsed": false
   },
   "outputs": [
    {
     "data": {
      "text/latex": [
       "$\\mathrm{e}^{t1D_{G1}}\\mathrm{e}^{t2D_{G2}}D_{H}\\mathrm{e}^{t3D_{G3}}\\mathrm{e}^{t4D_{G4}}\\mathrm{Id}(v)$"
      ],
      "text/plain": [
       "apply(exp(t1,D(G1))*exp(t2,D(G2))*D(H)*exp(t3,D(G3))*exp(t4,D(G4)),v,v)"
      ]
     },
     "execution_count": 95,
     "metadata": {},
     "output_type": "execute_result"
    }
   ],
   "source": [
    "ex1=exp(t1,D(G1))*exp(t2,D(G2))*D(H)*exp(t3,D(G3))*exp(t4,D(G4))*v"
   ]
  },
  {
   "cell_type": "code",
   "execution_count": 96,
   "metadata": {
    "collapsed": false
   },
   "outputs": [
    {
     "data": {
      "text/latex": [
       "$\\partial_{2}\\mathcal{E}_{G4}(t4,\\mathcal{E}_{G3}(t3,\\mathcal{E}_{G2}(t2,\\mathcal{E}_{G1}(t1,v))))\\cdot \\partial_{2}\\mathcal{E}_{G3}(t3,\\mathcal{E}_{G2}(t2,\\mathcal{E}_{G1}(t1,v)))\\cdot H(\\mathcal{E}_{G2}(t2,\\mathcal{E}_{G1}(t1,v)))$"
      ],
      "text/plain": [
       "E(G4,t4,E(G3,t3,E(G2,t2,E(G1,t1,v))),E(G3,t3,E(G2,t2,E(G1,t1,v)),H(E(G2,t2,E(G1,t1,v)))))"
      ]
     },
     "execution_count": 96,
     "metadata": {},
     "output_type": "execute_result"
    }
   ],
   "source": [
    "ex1=evaluate(ex1)"
   ]
  },
  {
   "cell_type": "code",
   "execution_count": 97,
   "metadata": {
    "collapsed": false
   },
   "outputs": [
    {
     "data": {
      "text/latex": [
       "$\\partial_{2}\\mathcal{E}_{G4}(t4,\\mathcal{E}_{G3}(t3,u))\\cdot \\partial_{2}\\mathcal{E}_{G3}(t3,u)\\cdot H(u)$"
      ],
      "text/plain": [
       "E(G4,t4,E(G3,t3,u),E(G3,t3,u,H(u)))"
      ]
     },
     "execution_count": 97,
     "metadata": {},
     "output_type": "execute_result"
    }
   ],
   "source": [
    "ex2=E(G4,t4,E(G3,t3,u),E(G3,t3,u,H(u)))"
   ]
  },
  {
   "cell_type": "code",
   "execution_count": 98,
   "metadata": {
    "collapsed": false
   },
   "outputs": [
    {
     "data": {
      "text/latex": [
       "$\\partial_{2}\\mathcal{E}_{G4}(t4,\\mathcal{E}_{G3}(t3,\\mathcal{E}_{G2}(t2,\\mathcal{E}_{G1}(t1,v))))\\cdot \\partial_{2}\\mathcal{E}_{G3}(t3,\\mathcal{E}_{G2}(t2,\\mathcal{E}_{G1}(t1,v)))\\cdot H(\\mathcal{E}_{G2}(t2,\\mathcal{E}_{G1}(t1,v)))$"
      ],
      "text/plain": [
       "E(G4,t4,E(G3,t3,E(G2,t2,E(G1,t1,v))),E(G3,t3,E(G2,t2,E(G1,t1,v)),H(E(G2,t2,E(G1,t1,v)))))"
      ]
     },
     "execution_count": 98,
     "metadata": {},
     "output_type": "execute_result"
    }
   ],
   "source": [
    "ex2=substitute(ex2,u,E(G2,t2,E(G1,t1,v)))"
   ]
  },
  {
   "cell_type": "code",
   "execution_count": 99,
   "metadata": {
    "collapsed": false
   },
   "outputs": [
    {
     "data": {
      "text/plain": [
       "true"
      ]
     },
     "execution_count": 99,
     "metadata": {},
     "output_type": "execute_result"
    }
   ],
   "source": [
    "ex1==ex2"
   ]
  },
  {
   "cell_type": "code",
   "execution_count": 100,
   "metadata": {
    "collapsed": false
   },
   "outputs": [
    {
     "data": {
      "text/latex": [
       "$\\mathrm{e}^{tD_{F}}D_{F}\\mathrm{Id}(u)$"
      ],
      "text/plain": [
       "apply(exp(t,D(F))*D(F),u,u)"
      ]
     },
     "execution_count": 100,
     "metadata": {},
     "output_type": "execute_result"
    }
   ],
   "source": [
    "ex = exp(t,D(F))*D(F)*u"
   ]
  },
  {
   "cell_type": "code",
   "execution_count": 101,
   "metadata": {
    "collapsed": false
   },
   "outputs": [
    {
     "data": {
      "text/latex": [
       "$F(\\mathcal{E}_{F}(t,u))$"
      ],
      "text/plain": [
       "F(E(F,t,u))"
      ]
     },
     "execution_count": 101,
     "metadata": {},
     "output_type": "execute_result"
    }
   ],
   "source": [
    "evaluate(ex)"
   ]
  },
  {
   "cell_type": "code",
   "execution_count": 102,
   "metadata": {
    "collapsed": false
   },
   "outputs": [
    {
     "data": {
      "text/latex": [
       "$D_{F}\\mathrm{e}^{tD_{F}}\\mathrm{Id}(u)$"
      ],
      "text/plain": [
       "apply(D(F)*exp(t,D(F)),u,u)"
      ]
     },
     "execution_count": 102,
     "metadata": {},
     "output_type": "execute_result"
    }
   ],
   "source": [
    "ex = D(F)*exp(t,D(F))*u"
   ]
  },
  {
   "cell_type": "code",
   "execution_count": 103,
   "metadata": {
    "collapsed": false
   },
   "outputs": [
    {
     "data": {
      "text/latex": [
       "$\\partial_{2}\\mathcal{E}_{F}(t,u)\\cdot F(u)$"
      ],
      "text/plain": [
       "E(F,t,u,F(u))"
      ]
     },
     "execution_count": 103,
     "metadata": {},
     "output_type": "execute_result"
    }
   ],
   "source": [
    "evaluate(ex)"
   ]
  },
  {
   "cell_type": "code",
   "execution_count": 104,
   "metadata": {
    "collapsed": false
   },
   "outputs": [
    {
     "data": {
      "text/latex": [
       "$F(D_{[F,G]}\\mathrm{Id}(u))$"
      ],
      "text/plain": [
       "F(apply(D(commutator(F,G)),u,u))"
      ]
     },
     "execution_count": 104,
     "metadata": {},
     "output_type": "execute_result"
    }
   ],
   "source": [
    "ex = F(D(commutator(F,G))*u)"
   ]
  },
  {
   "cell_type": "code",
   "execution_count": 105,
   "metadata": {
    "collapsed": false
   },
   "outputs": [
    {
     "data": {
      "text/latex": [
       "$F([D_{G},D_{F}]\\mathrm{Id}(u))$"
      ],
      "text/plain": [
       "F(apply(commutator(D(G),D(F)),u,u))"
      ]
     },
     "execution_count": 105,
     "metadata": {},
     "output_type": "execute_result"
    }
   ],
   "source": [
    "ex = distribute_lie_derivatives(ex)"
   ]
  },
  {
   "cell_type": "code",
   "execution_count": 106,
   "metadata": {
    "collapsed": false
   },
   "outputs": [
    {
     "data": {
      "text/latex": [
       "$F(F'(u)\\cdot G(u)-G'(u)\\cdot F(u))$"
      ],
      "text/plain": [
       "F(F(u,G(u))-G(u,F(u)))"
      ]
     },
     "execution_count": 106,
     "metadata": {},
     "output_type": "execute_result"
    }
   ],
   "source": [
    "ex = evaluate_lie_expressions(ex)"
   ]
  },
  {
   "cell_type": "code",
   "execution_count": 107,
   "metadata": {
    "collapsed": false
   },
   "outputs": [
    {
     "data": {
      "text/latex": [
       "$\\mathrm{e}^{(t+2s)D_{F}}$"
      ],
      "text/plain": [
       "exp(t+2s,D(F))"
      ]
     },
     "execution_count": 107,
     "metadata": {},
     "output_type": "execute_result"
    }
   ],
   "source": [
    "ex = exp(2s+t,D(F))"
   ]
  },
  {
   "cell_type": "code",
   "execution_count": 108,
   "metadata": {
    "collapsed": false
   },
   "outputs": [
    {
     "data": {
      "text/latex": [
       "$\\mathrm{e}^{(t+2s)D_{F}}D_{F}$"
      ],
      "text/plain": [
       "exp(t+2s,D(F))*D(F)"
      ]
     },
     "execution_count": 108,
     "metadata": {},
     "output_type": "execute_result"
    }
   ],
   "source": [
    "t_derivative(ex,t)"
   ]
  },
  {
   "cell_type": "code",
   "execution_count": 109,
   "metadata": {
    "collapsed": false
   },
   "outputs": [
    {
     "data": {
      "text/latex": [
       "$2\\mathrm{e}^{(t+2s)D_{F}}D_{F}$"
      ],
      "text/plain": [
       "2exp(t+2s,D(F))*D(F)"
      ]
     },
     "execution_count": 109,
     "metadata": {},
     "output_type": "execute_result"
    }
   ],
   "source": [
    "t_derivative(ex,s)"
   ]
  },
  {
   "cell_type": "code",
   "execution_count": 110,
   "metadata": {
    "collapsed": false
   },
   "outputs": [
    {
     "data": {
      "text/latex": [
       "$2D_{F}\\mathrm{e}^{(t+2s)D_{F}}$"
      ],
      "text/plain": [
       "2D(F)*exp(t+2s,D(F))"
      ]
     },
     "execution_count": 110,
     "metadata": {},
     "output_type": "execute_result"
    }
   ],
   "source": [
    "t_derivative(ex,s, to_the_left=true)"
   ]
  },
  {
   "cell_type": "code",
   "execution_count": 111,
   "metadata": {
    "collapsed": false
   },
   "outputs": [
    {
     "data": {
      "text/latex": [
       "$7\\mathrm{e}^{3tD_{G}}+5\\mathrm{e}^{2tD_{F}}$"
      ],
      "text/plain": [
       "7exp(3t,D(G))+5exp(2t,D(F))"
      ]
     },
     "execution_count": 111,
     "metadata": {},
     "output_type": "execute_result"
    }
   ],
   "source": [
    "ex = 5exp(2t,F)+7exp(3t,G)"
   ]
  },
  {
   "cell_type": "code",
   "execution_count": 112,
   "metadata": {
    "collapsed": false
   },
   "outputs": [
    {
     "data": {
      "text/latex": [
       "$10\\mathrm{e}^{2tD_{F}}D_{F}+21\\mathrm{e}^{3tD_{G}}D_{G}$"
      ],
      "text/plain": [
       "10exp(2t,D(F))*D(F)+21exp(3t,D(G))*D(G)"
      ]
     },
     "execution_count": 112,
     "metadata": {},
     "output_type": "execute_result"
    }
   ],
   "source": [
    "t_derivative(ex,t)"
   ]
  },
  {
   "cell_type": "code",
   "execution_count": 113,
   "metadata": {
    "collapsed": false
   },
   "outputs": [
    {
     "data": {
      "text/latex": [
       "$D_{F}\\mathrm{e}^{2tD_{G}}D_{F}\\mathrm{e}^{3tD_{H}}D_{F}$"
      ],
      "text/plain": [
       "D(F)*exp(2t,D(G))*D(F)*exp(3t,D(H))*D(F)"
      ]
     },
     "execution_count": 113,
     "metadata": {},
     "output_type": "execute_result"
    }
   ],
   "source": [
    "ex = D(F)*exp(2t,D(G))*D(F)*exp(3t,D(H))*D(F)"
   ]
  },
  {
   "cell_type": "code",
   "execution_count": 114,
   "metadata": {
    "collapsed": false
   },
   "outputs": [
    {
     "data": {
      "text/latex": [
       "$3D_{F}\\mathrm{e}^{2tD_{G}}D_{F}\\mathrm{e}^{3tD_{H}}D_{H}D_{F}+2D_{F}\\mathrm{e}^{2tD_{G}}D_{G}D_{F}\\mathrm{e}^{3tD_{H}}D_{F}$"
      ],
      "text/plain": [
       "3D(F)*exp(2t,D(G))*D(F)*exp(3t,D(H))*D(H)*D(F)+2D(F)*exp(2t,D(G))*D(G)*D(F)*exp(3t,D(H))*D(F)"
      ]
     },
     "execution_count": 114,
     "metadata": {},
     "output_type": "execute_result"
    }
   ],
   "source": [
    "t_derivative(ex,t)"
   ]
  },
  {
   "cell_type": "code",
   "execution_count": 115,
   "metadata": {
    "collapsed": false
   },
   "outputs": [
    {
     "data": {
      "text/latex": [
       "$3D_{F}\\mathrm{e}^{2tD_{G}}D_{F}D_{H}\\mathrm{e}^{3tD_{H}}D_{F}+2D_{F}D_{G}\\mathrm{e}^{2tD_{G}}D_{F}\\mathrm{e}^{3tD_{H}}D_{F}$"
      ],
      "text/plain": [
       "3D(F)*exp(2t,D(G))*D(F)*D(H)*exp(3t,D(H))*D(F)+2D(F)*D(G)*exp(2t,D(G))*D(F)*exp(3t,D(H))*D(F)"
      ]
     },
     "execution_count": 115,
     "metadata": {},
     "output_type": "execute_result"
    }
   ],
   "source": [
    "t_derivative(ex,t, to_the_left=true)"
   ]
  },
  {
   "cell_type": "code",
   "execution_count": 116,
   "metadata": {
    "collapsed": false
   },
   "outputs": [
    {
     "data": {
      "text/latex": [
       "$[\\mathrm{e}^{tD_{F}},\\mathrm{e}^{tD_{G}}]$"
      ],
      "text/plain": [
       "commutator(exp(t,D(F)),exp(t,D(G)))"
      ]
     },
     "execution_count": 116,
     "metadata": {},
     "output_type": "execute_result"
    }
   ],
   "source": [
    "ex=commutator(exp(t,F),exp(t,G))"
   ]
  },
  {
   "cell_type": "code",
   "execution_count": 117,
   "metadata": {
    "collapsed": false
   },
   "outputs": [
    {
     "data": {
      "text/latex": [
       "$[\\mathrm{e}^{tD_{F}}D_{F},\\mathrm{e}^{tD_{G}}]+[\\mathrm{e}^{tD_{F}},\\mathrm{e}^{tD_{G}}D_{G}]$"
      ],
      "text/plain": [
       "commutator(exp(t,D(F))*D(F),exp(t,D(G)))+commutator(exp(t,D(F)),exp(t,D(G))*D(G))"
      ]
     },
     "execution_count": 117,
     "metadata": {},
     "output_type": "execute_result"
    }
   ],
   "source": [
    "t_derivative(ex, t)"
   ]
  },
  {
   "cell_type": "code",
   "execution_count": 118,
   "metadata": {
    "collapsed": false
   },
   "outputs": [
    {
     "data": {
      "text/latex": [
       "$D_{G}[\\mathrm{e}^{tD_{F}},D_{G}]D_{G}$"
      ],
      "text/plain": [
       "D(G)*commutator(exp(t,D(F)),D(G))*D(G)"
      ]
     },
     "execution_count": 118,
     "metadata": {},
     "output_type": "execute_result"
    }
   ],
   "source": [
    "ex=D(G)*commutator(exp(t,F),D(G))*D(G)"
   ]
  },
  {
   "cell_type": "code",
   "execution_count": 119,
   "metadata": {
    "collapsed": false
   },
   "outputs": [
    {
     "data": {
      "text/latex": [
       "$D_{G}[\\mathrm{e}^{tD_{F}}D_{F},D_{G}]D_{G}$"
      ],
      "text/plain": [
       "D(G)*commutator(exp(t,D(F))*D(F),D(G))*D(G)"
      ]
     },
     "execution_count": 119,
     "metadata": {},
     "output_type": "execute_result"
    }
   ],
   "source": [
    "t_derivative(ex, t)"
   ]
  }
 ],
 "metadata": {
  "kernelspec": {
   "display_name": "Julia 0.4",
   "language": "julia",
   "name": "julia-0.4"
  },
  "language_info": {
   "file_extension": ".jl",
   "mimetype": "application/julia",
   "name": "julia",
   "version": "0.4.5"
  }
 },
 "nbformat": 4,
 "nbformat_minor": 0
}
